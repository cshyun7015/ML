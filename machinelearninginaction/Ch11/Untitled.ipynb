{
 "cells": [
  {
   "cell_type": "markdown",
   "metadata": {},
   "source": [
    "11.3.1"
   ]
  },
  {
   "cell_type": "code",
   "execution_count": 1,
   "metadata": {},
   "outputs": [],
   "source": [
    "def loadDataSet():\n",
    "    return [[1, 3, 4], [2, 3, 5], [1, 2, 3, 5], [2, 5]]\n",
    "\n",
    "def createC1(dataSet):\n",
    "    C1 = []\n",
    "    for transaction in dataSet:\n",
    "        for item in transaction:\n",
    "            if not [item] in C1:\n",
    "                C1.append([item])\n",
    "                \n",
    "    C1.sort()\n",
    "    return map(frozenset, C1)#use frozen set so we\n",
    "                            #can use it as a key in a dict    \n",
    "\n",
    "def scanD(D, Ck, minSupport):\n",
    "    ssCnt = {}\n",
    "    for tid in D:\n",
    "        for can in Ck:\n",
    "            if can.issubset(tid):\n",
    "                if not ssCnt.has_key(can): ssCnt[can]=1\n",
    "                else: ssCnt[can] += 1\n",
    "    numItems = float(len(D))\n",
    "    retList = []\n",
    "    supportData = {}\n",
    "    for key in ssCnt:\n",
    "        support = ssCnt[key]/numItems\n",
    "        if support >= minSupport:\n",
    "            retList.insert(0,key)\n",
    "        supportData[key] = support\n",
    "    return retList, supportData"
   ]
  },
  {
   "cell_type": "code",
   "execution_count": 2,
   "metadata": {},
   "outputs": [
    {
     "data": {
      "text/plain": [
       "[[1, 3, 4], [2, 3, 5], [1, 2, 3, 5], [2, 5]]"
      ]
     },
     "execution_count": 2,
     "metadata": {},
     "output_type": "execute_result"
    }
   ],
   "source": [
    "dataSet = loadDataSet()\n",
    "dataSet"
   ]
  },
  {
   "cell_type": "code",
   "execution_count": 3,
   "metadata": {},
   "outputs": [
    {
     "data": {
      "text/plain": [
       "[frozenset({1}),\n",
       " frozenset({2}),\n",
       " frozenset({3}),\n",
       " frozenset({4}),\n",
       " frozenset({5})]"
      ]
     },
     "execution_count": 3,
     "metadata": {},
     "output_type": "execute_result"
    }
   ],
   "source": [
    "C1 = createC1(dataSet)\n",
    "C1"
   ]
  },
  {
   "cell_type": "code",
   "execution_count": 4,
   "metadata": {},
   "outputs": [
    {
     "data": {
      "text/plain": [
       "[{1, 3, 4}, {2, 3, 5}, {1, 2, 3, 5}, {2, 5}]"
      ]
     },
     "execution_count": 4,
     "metadata": {},
     "output_type": "execute_result"
    }
   ],
   "source": [
    "D = map(set, dataSet)\n",
    "D"
   ]
  },
  {
   "cell_type": "code",
   "execution_count": 5,
   "metadata": {},
   "outputs": [
    {
     "data": {
      "text/plain": [
       "[frozenset({1}), frozenset({3}), frozenset({2}), frozenset({5})]"
      ]
     },
     "execution_count": 5,
     "metadata": {},
     "output_type": "execute_result"
    }
   ],
   "source": [
    "L1, suppData0 = scanD(D, C1, 0.5)\n",
    "L1"
   ]
  },
  {
   "cell_type": "markdown",
   "metadata": {},
   "source": [
    "11.3.2"
   ]
  },
  {
   "cell_type": "code",
   "execution_count": 6,
   "metadata": {},
   "outputs": [],
   "source": [
    "def aprioriGen(Lk, k): #creates Ck\n",
    "    retList = []\n",
    "    lenLk = len(Lk)\n",
    "    for i in range(lenLk):\n",
    "        for j in range(i+1, lenLk): \n",
    "            L1 = list(Lk[i])[:k-2]; L2 = list(Lk[j])[:k-2]\n",
    "            L1.sort(); L2.sort()\n",
    "            if L1==L2: #if first k-2 elements are equal\n",
    "                retList.append(Lk[i] | Lk[j]) #set union\n",
    "    return retList\n",
    "\n",
    "def apriori(dataSet, minSupport = 0.5):\n",
    "    C1 = createC1(dataSet)\n",
    "    D = map(set, dataSet)\n",
    "    L1, supportData = scanD(D, C1, minSupport)\n",
    "    L = [L1]\n",
    "    k = 2\n",
    "    while (len(L[k-2]) > 0):\n",
    "        Ck = aprioriGen(L[k-2], k)\n",
    "        Lk, supK = scanD(D, Ck, minSupport)#scan DB to get Lk\n",
    "        supportData.update(supK)\n",
    "        L.append(Lk)\n",
    "        k += 1\n",
    "    return L, supportData"
   ]
  },
  {
   "cell_type": "code",
   "execution_count": 7,
   "metadata": {},
   "outputs": [
    {
     "data": {
      "text/plain": [
       "[[frozenset({1}), frozenset({3}), frozenset({2}), frozenset({5})],\n",
       " [frozenset({1, 3}), frozenset({2, 5}), frozenset({2, 3}), frozenset({3, 5})],\n",
       " [frozenset({2, 3, 5})],\n",
       " []]"
      ]
     },
     "execution_count": 7,
     "metadata": {},
     "output_type": "execute_result"
    }
   ],
   "source": [
    "L, suppData = apriori(dataSet)\n",
    "L"
   ]
  },
  {
   "cell_type": "code",
   "execution_count": 8,
   "metadata": {},
   "outputs": [
    {
     "data": {
      "text/plain": [
       "[frozenset({1}), frozenset({3}), frozenset({2}), frozenset({5})]"
      ]
     },
     "execution_count": 8,
     "metadata": {},
     "output_type": "execute_result"
    }
   ],
   "source": [
    "L[0]"
   ]
  },
  {
   "cell_type": "code",
   "execution_count": 9,
   "metadata": {},
   "outputs": [
    {
     "data": {
      "text/plain": [
       "[frozenset({1, 3}), frozenset({2, 5}), frozenset({2, 3}), frozenset({3, 5})]"
      ]
     },
     "execution_count": 9,
     "metadata": {},
     "output_type": "execute_result"
    }
   ],
   "source": [
    "L[1]"
   ]
  },
  {
   "cell_type": "code",
   "execution_count": 10,
   "metadata": {},
   "outputs": [
    {
     "data": {
      "text/plain": [
       "[frozenset({2, 3, 5})]"
      ]
     },
     "execution_count": 10,
     "metadata": {},
     "output_type": "execute_result"
    }
   ],
   "source": [
    "L[2]"
   ]
  },
  {
   "cell_type": "code",
   "execution_count": 11,
   "metadata": {},
   "outputs": [
    {
     "data": {
      "text/plain": [
       "[]"
      ]
     },
     "execution_count": 11,
     "metadata": {},
     "output_type": "execute_result"
    }
   ],
   "source": [
    "L[3]"
   ]
  },
  {
   "cell_type": "code",
   "execution_count": 12,
   "metadata": {},
   "outputs": [
    {
     "data": {
      "text/plain": [
       "[frozenset({1, 3}),\n",
       " frozenset({1, 2}),\n",
       " frozenset({1, 5}),\n",
       " frozenset({2, 3}),\n",
       " frozenset({3, 5}),\n",
       " frozenset({2, 5})]"
      ]
     },
     "execution_count": 12,
     "metadata": {},
     "output_type": "execute_result"
    }
   ],
   "source": [
    "aprioriGen(L[0], 2)"
   ]
  },
  {
   "cell_type": "code",
   "execution_count": 13,
   "metadata": {},
   "outputs": [
    {
     "data": {
      "text/plain": [
       "[[frozenset({3}), frozenset({2}), frozenset({5})], [frozenset({2, 5})], []]"
      ]
     },
     "execution_count": 13,
     "metadata": {},
     "output_type": "execute_result"
    }
   ],
   "source": [
    "L, suppData = apriori(dataSet, minSupport=0.7)\n",
    "L"
   ]
  },
  {
   "cell_type": "markdown",
   "metadata": {},
   "source": [
    "11.4"
   ]
  },
  {
   "cell_type": "code",
   "execution_count": 14,
   "metadata": {},
   "outputs": [],
   "source": [
    "def generateRules(L, supportData, minConf=0.7):  #supportData is a dict coming from scanD\n",
    "    bigRuleList = []\n",
    "    for i in range(1, len(L)):#only get the sets with two or more items\n",
    "        for freqSet in L[i]:\n",
    "            H1 = [frozenset([item]) for item in freqSet]\n",
    "            if (i > 1):\n",
    "                rulesFromConseq(freqSet, H1, supportData, bigRuleList, minConf)\n",
    "            else:\n",
    "                calcConf(freqSet, H1, supportData, bigRuleList, minConf)\n",
    "    return bigRuleList         \n",
    "\n",
    "def calcConf(freqSet, H, supportData, brl, minConf=0.7):\n",
    "    prunedH = [] #create new list to return\n",
    "    for conseq in H:\n",
    "        conf = supportData[freqSet]/supportData[freqSet-conseq] #calc confidence\n",
    "        if conf >= minConf: \n",
    "            print freqSet-conseq,'-->',conseq,'conf:',conf\n",
    "            brl.append((freqSet-conseq, conseq, conf))\n",
    "            prunedH.append(conseq)\n",
    "    return prunedH\n",
    "\n",
    "def rulesFromConseq(freqSet, H, supportData, brl, minConf=0.7):\n",
    "    m = len(H[0])\n",
    "    if (len(freqSet) > (m + 1)): #try further merging\n",
    "        Hmp1 = aprioriGen(H, m+1)#create Hm+1 new candidates\n",
    "        Hmp1 = calcConf(freqSet, Hmp1, supportData, brl, minConf)\n",
    "        if (len(Hmp1) > 1):    #need at least two sets to merge\n",
    "            rulesFromConseq(freqSet, Hmp1, supportData, brl, minConf)"
   ]
  },
  {
   "cell_type": "code",
   "execution_count": 15,
   "metadata": {},
   "outputs": [],
   "source": [
    "L, suppData = apriori(dataSet, minSupport=0.5)"
   ]
  },
  {
   "cell_type": "code",
   "execution_count": 16,
   "metadata": {},
   "outputs": [
    {
     "name": "stdout",
     "output_type": "stream",
     "text": [
      "frozenset([1]) --> frozenset([3]) conf: 1.0\n",
      "frozenset([5]) --> frozenset([2]) conf: 1.0\n",
      "frozenset([2]) --> frozenset([5]) conf: 1.0\n"
     ]
    }
   ],
   "source": [
    "rules = generateRules(L, suppData, minConf=0.7)"
   ]
  },
  {
   "cell_type": "code",
   "execution_count": 17,
   "metadata": {},
   "outputs": [
    {
     "data": {
      "text/plain": [
       "[(frozenset({1}), frozenset({3}), 1.0),\n",
       " (frozenset({5}), frozenset({2}), 1.0),\n",
       " (frozenset({2}), frozenset({5}), 1.0)]"
      ]
     },
     "execution_count": 17,
     "metadata": {},
     "output_type": "execute_result"
    }
   ],
   "source": [
    "rules"
   ]
  },
  {
   "cell_type": "code",
   "execution_count": 18,
   "metadata": {},
   "outputs": [
    {
     "name": "stdout",
     "output_type": "stream",
     "text": [
      "frozenset([3]) --> frozenset([1]) conf: 0.666666666667\n",
      "frozenset([1]) --> frozenset([3]) conf: 1.0\n",
      "frozenset([5]) --> frozenset([2]) conf: 1.0\n",
      "frozenset([2]) --> frozenset([5]) conf: 1.0\n",
      "frozenset([3]) --> frozenset([2]) conf: 0.666666666667\n",
      "frozenset([2]) --> frozenset([3]) conf: 0.666666666667\n",
      "frozenset([5]) --> frozenset([3]) conf: 0.666666666667\n",
      "frozenset([3]) --> frozenset([5]) conf: 0.666666666667\n",
      "frozenset([5]) --> frozenset([2, 3]) conf: 0.666666666667\n",
      "frozenset([3]) --> frozenset([2, 5]) conf: 0.666666666667\n",
      "frozenset([2]) --> frozenset([3, 5]) conf: 0.666666666667\n"
     ]
    }
   ],
   "source": [
    "rules = generateRules(L, suppData, minConf=0.5)"
   ]
  },
  {
   "cell_type": "code",
   "execution_count": 19,
   "metadata": {},
   "outputs": [
    {
     "data": {
      "text/plain": [
       "[(frozenset({3}), frozenset({1}), 0.6666666666666666),\n",
       " (frozenset({1}), frozenset({3}), 1.0),\n",
       " (frozenset({5}), frozenset({2}), 1.0),\n",
       " (frozenset({2}), frozenset({5}), 1.0),\n",
       " (frozenset({3}), frozenset({2}), 0.6666666666666666),\n",
       " (frozenset({2}), frozenset({3}), 0.6666666666666666),\n",
       " (frozenset({5}), frozenset({3}), 0.6666666666666666),\n",
       " (frozenset({3}), frozenset({5}), 0.6666666666666666),\n",
       " (frozenset({5}), frozenset({2, 3}), 0.6666666666666666),\n",
       " (frozenset({3}), frozenset({2, 5}), 0.6666666666666666),\n",
       " (frozenset({2}), frozenset({3, 5}), 0.6666666666666666)]"
      ]
     },
     "execution_count": 19,
     "metadata": {},
     "output_type": "execute_result"
    }
   ],
   "source": [
    "rules"
   ]
  },
  {
   "cell_type": "markdown",
   "metadata": {},
   "source": [
    "11.6"
   ]
  },
  {
   "cell_type": "code",
   "execution_count": 20,
   "metadata": {},
   "outputs": [],
   "source": [
    "mushDatSet = [line.split() for line in open('mushroom.dat').readlines()]"
   ]
  },
  {
   "cell_type": "code",
   "execution_count": 21,
   "metadata": {},
   "outputs": [],
   "source": [
    "L, suppData = apriori(mushDatSet, minSupport=0.3)"
   ]
  },
  {
   "cell_type": "code",
   "execution_count": 22,
   "metadata": {},
   "outputs": [
    {
     "name": "stdout",
     "output_type": "stream",
     "text": [
      "frozenset(['2', '59'])\n",
      "frozenset(['39', '2'])\n",
      "frozenset(['2', '67'])\n",
      "frozenset(['2', '34'])\n",
      "frozenset(['2', '23'])\n",
      "frozenset(['2', '86'])\n",
      "frozenset(['76', '2'])\n",
      "frozenset(['90', '2'])\n",
      "frozenset(['2', '53'])\n",
      "frozenset(['93', '2'])\n",
      "frozenset(['63', '2'])\n",
      "frozenset(['2', '28'])\n",
      "frozenset(['2', '85'])\n",
      "frozenset(['2', '36'])\n"
     ]
    }
   ],
   "source": [
    "for item in L[1]:\n",
    "    if item.intersection('2'): print item"
   ]
  },
  {
   "cell_type": "code",
   "execution_count": 23,
   "metadata": {},
   "outputs": [
    {
     "name": "stdout",
     "output_type": "stream",
     "text": [
      "frozenset(['63', '59', '2', '93'])\n",
      "frozenset(['39', '2', '53', '34'])\n",
      "frozenset(['2', '59', '23', '85'])\n",
      "frozenset(['2', '59', '90', '85'])\n",
      "frozenset(['39', '2', '36', '34'])\n",
      "frozenset(['39', '63', '2', '85'])\n",
      "frozenset(['39', '2', '90', '85'])\n",
      "frozenset(['2', '59', '90', '86'])\n",
      "frozenset(['2', '90', '93', '86'])\n",
      "frozenset(['39', '2', '63', '86'])\n",
      "frozenset(['39', '2', '93', '34'])\n",
      "frozenset(['76', '39', '2', '34'])\n",
      "frozenset(['39', '2', '59', '86'])\n",
      "frozenset(['2', '59', '90', '36'])\n",
      "frozenset(['2', '59', '93', '85'])\n",
      "frozenset(['2', '59', '86', '34'])\n",
      "frozenset(['2', '63', '90', '86'])\n",
      "frozenset(['39', '63', '2', '36'])\n",
      "frozenset(['2', '67', '86', '85'])\n",
      "frozenset(['2', '28', '53', '85'])\n",
      "frozenset(['2', '59', '93', '36'])\n",
      "frozenset(['63', '23', '2', '34'])\n",
      "frozenset(['2', '23', '36', '85'])\n",
      "frozenset(['2', '90', '34', '85'])\n",
      "frozenset(['39', '2', '59', '34'])\n",
      "frozenset(['39', '2', '90', '34'])\n",
      "frozenset(['2', '59', '28', '85'])\n",
      "frozenset(['2', '34', '28', '85'])\n",
      "frozenset(['2', '59', '23', '36'])\n",
      "frozenset(['2', '23', '93', '36'])\n",
      "frozenset(['2', '23', '86', '85'])\n",
      "frozenset(['39', '2', '34', '85'])\n",
      "frozenset(['2', '93', '86', '34'])\n",
      "frozenset(['63', '59', '2', '36'])\n",
      "frozenset(['63', '2', '28', '85'])\n",
      "frozenset(['2', '67', '86', '34'])\n",
      "frozenset(['39', '2', '67', '85'])\n",
      "frozenset(['2', '23', '90', '85'])\n",
      "frozenset(['39', '2', '28', '85'])\n",
      "frozenset(['39', '2', '90', '86'])\n",
      "frozenset(['76', '2', '86', '34'])\n",
      "frozenset(['2', '93', '36', '34'])\n",
      "frozenset(['63', '59', '2', '85'])\n",
      "frozenset(['2', '23', '93', '86'])\n",
      "frozenset(['39', '2', '53', '85'])\n",
      "frozenset(['2', '93', '86', '85'])\n",
      "frozenset(['2', '90', '86', '85'])\n",
      "frozenset(['2', '23', '86', '34'])\n",
      "frozenset(['2', '93', '86', '36'])\n",
      "frozenset(['2', '59', '86', '36'])\n",
      "frozenset(['2', '23', '93', '85'])\n",
      "frozenset(['2', '90', '86', '36'])\n",
      "frozenset(['39', '2', '28', '34'])\n",
      "frozenset(['2', '23', '86', '36'])\n",
      "frozenset(['76', '39', '2', '85'])\n",
      "frozenset(['2', '23', '90', '34'])\n",
      "frozenset(['76', '2', '86', '85'])\n",
      "frozenset(['39', '2', '23', '36'])\n",
      "frozenset(['39', '2', '63', '34'])\n",
      "frozenset(['2', '59', '86', '85'])\n",
      "frozenset(['39', '2', '63', '93'])\n",
      "frozenset(['2', '93', '34', '85'])\n",
      "frozenset(['2', '23', '36', '34'])\n",
      "frozenset(['39', '2', '59', '93'])\n",
      "frozenset(['2', '90', '86', '53'])\n",
      "frozenset(['63', '59', '2', '86'])\n",
      "frozenset(['39', '2', '23', '63'])\n",
      "frozenset(['2', '23', '85', '34'])\n",
      "frozenset(['2', '23', '90', '86'])\n",
      "frozenset(['39', '2', '67', '34'])\n",
      "frozenset(['39', '2', '63', '28'])\n",
      "frozenset(['39', '2', '59', '23'])\n",
      "frozenset(['39', '2', '59', '85'])\n",
      "frozenset(['2', '63', '90', '85'])\n",
      "frozenset(['2', '90', '28', '85'])\n",
      "frozenset(['2', '34', '86', '85'])\n",
      "frozenset(['39', '2', '23', '85'])\n",
      "frozenset(['2', '90', '86', '34'])\n",
      "frozenset(['2', '86', '36', '85'])\n",
      "frozenset(['2', '86', '28', '53'])\n",
      "frozenset(['39', '2', '59', '36'])\n",
      "frozenset(['39', '2', '93', '36'])\n",
      "frozenset(['2', '63', '90', '36'])\n",
      "frozenset(['2', '59', '90', '34'])\n",
      "frozenset(['2', '90', '93', '36'])\n",
      "frozenset(['39', '2', '93', '86'])\n",
      "frozenset(['39', '2', '93', '85'])\n",
      "frozenset(['2', '86', '53', '85'])\n",
      "frozenset(['63', '2', '86', '36'])\n",
      "frozenset(['2', '39', '63', '90'])\n",
      "frozenset(['76', '2', '85', '34'])\n",
      "frozenset(['2', '90', '93', '85'])\n",
      "frozenset(['39', '2', '90', '53'])\n",
      "frozenset(['2', '23', '90', '93'])\n",
      "frozenset(['2', '59', '86', '28'])\n",
      "frozenset(['2', '59', '23', '90'])\n",
      "frozenset(['2', '86', '28', '85'])\n",
      "frozenset(['39', '2', '28', '86'])\n",
      "frozenset(['63', '2', '86', '85'])\n",
      "frozenset(['2', '86', '36', '34'])\n",
      "frozenset(['39', '2', '23', '86'])\n",
      "frozenset(['63', '2', '28', '34'])\n",
      "frozenset(['2', '59', '23', '34'])\n",
      "frozenset(['2', '59', '85', '34'])\n",
      "frozenset(['39', '2', '86', '53'])\n",
      "frozenset(['2', '63', '59', '90'])\n",
      "frozenset(['63', '2', '93', '34'])\n",
      "frozenset(['63', '2', '85', '34'])\n",
      "frozenset(['76', '39', '2', '86'])\n",
      "frozenset(['39', '2', '67', '86'])\n",
      "frozenset(['63', '59', '2', '34'])\n",
      "frozenset(['63', '2', '93', '85'])\n",
      "frozenset(['2', '59', '23', '86'])\n",
      "frozenset(['2', '59', '36', '85'])\n",
      "frozenset(['86', '63', '2', '28'])\n",
      "frozenset(['39', '2', '28', '53'])\n",
      "frozenset(['39', '2', '36', '85'])\n",
      "frozenset(['2', '23', '93', '34'])\n",
      "frozenset(['39', '2', '59', '63'])\n",
      "frozenset(['63', '23', '2', '85'])\n",
      "frozenset(['2', '28', '53', '34'])\n",
      "frozenset(['2', '85', '36', '34'])\n",
      "frozenset(['39', '2', '90', '93'])\n",
      "frozenset(['39', '2', '59', '90'])\n",
      "frozenset(['39', '2', '59', '28'])\n",
      "frozenset(['63', '59', '23', '2'])\n",
      "frozenset(['2', '63', '93', '86'])\n",
      "frozenset(['2', '90', '53', '34'])\n",
      "frozenset(['2', '59', '36', '34'])\n",
      "frozenset(['2', '86', '53', '34'])\n",
      "frozenset(['2', '59', '90', '28'])\n",
      "frozenset(['2', '63', '90', '93'])\n",
      "frozenset(['2', '90', '28', '53'])\n",
      "frozenset(['39', '2', '86', '85'])\n",
      "frozenset(['2', '90', '36', '85'])\n",
      "frozenset(['2', '90', '86', '28'])\n",
      "frozenset(['63', '23', '2', '86'])\n",
      "frozenset(['2', '34', '53', '85'])\n",
      "frozenset(['63', '2', '36', '34'])\n",
      "frozenset(['2', '59', '23', '93'])\n",
      "frozenset(['2', '59', '93', '86'])\n",
      "frozenset(['63', '2', '93', '36'])\n",
      "frozenset(['2', '28', '86', '34'])\n",
      "frozenset(['39', '2', '86', '36'])\n",
      "frozenset(['2', '90', '53', '85'])\n",
      "frozenset(['63', '2', '86', '34'])\n",
      "frozenset(['63', '23', '2', '36'])\n",
      "frozenset(['2', '93', '36', '85'])\n",
      "frozenset(['2', '63', '90', '34'])\n",
      "frozenset(['2', '59', '93', '34'])\n",
      "frozenset(['2', '90', '93', '34'])\n",
      "frozenset(['63', '2', '36', '85'])\n",
      "frozenset(['2', '67', '34', '85'])\n",
      "frozenset(['39', '2', '23', '93'])\n",
      "frozenset(['39', '2', '90', '36'])\n",
      "frozenset(['2', '59', '28', '34'])\n",
      "frozenset(['2', '90', '28', '34'])\n",
      "frozenset(['39', '2', '86', '34'])\n",
      "frozenset(['2', '90', '36', '34'])\n",
      "frozenset(['39', '2', '23', '34'])\n",
      "frozenset(['39', '2', '90', '28'])\n",
      "frozenset(['2', '59', '90', '93'])\n",
      "frozenset(['63', '59', '2', '28'])\n"
     ]
    }
   ],
   "source": [
    "for item in L[3]:\n",
    "    if item.intersection('2'): print item"
   ]
  },
  {
   "cell_type": "code",
   "execution_count": null,
   "metadata": {},
   "outputs": [],
   "source": []
  }
 ],
 "metadata": {
  "kernelspec": {
   "display_name": "Python [conda env:py27]",
   "language": "python",
   "name": "conda-env-py27-py"
  },
  "language_info": {
   "codemirror_mode": {
    "name": "ipython",
    "version": 2
   },
   "file_extension": ".py",
   "mimetype": "text/x-python",
   "name": "python",
   "nbconvert_exporter": "python",
   "pygments_lexer": "ipython2",
   "version": "2.7.15"
  }
 },
 "nbformat": 4,
 "nbformat_minor": 2
}

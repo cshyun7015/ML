{
 "cells": [
  {
   "cell_type": "code",
   "execution_count": 1,
   "metadata": {},
   "outputs": [],
   "source": [
    "# 6.9.1\n",
    "from vecutil import *\n",
    "\n",
    "L = [[0,0,0],[1,0,0],[0,1,0],[1,1,0],[0,0,1],[1,0,1],[0,1,1],[1,1,1]]\n",
    "corners = [list2vec(v) for v in L]\n",
    "\n",
    "def line_segment(pt1, pt2, samples=100):\n",
    "    return [(i/samples)*pt1 + (1-i/samples)*pt2 for i in range(samples+1)]\n",
    "\n",
    "line_segments = [line_segment(corners[i], corners[j]) for i,j in\n",
    "                [(0,1),(2,3),(0,2),(1,3),(4,5),(6,7),(4,6),(5,7),(0,4),(1,5),(2,6),(3,7)]]\n",
    "\n",
    "pts = sum(line_segments, [])"
   ]
  },
  {
   "cell_type": "code",
   "execution_count": 2,
   "metadata": {},
   "outputs": [
    {
     "name": "stdout",
     "output_type": "stream",
     "text": [
      "12\n",
      "101\n",
      "1212\n"
     ]
    }
   ],
   "source": [
    "print(len(line_segments))\n",
    "print(len(line_segments[0]))\n",
    "print(len(pts))"
   ]
  },
  {
   "cell_type": "code",
   "execution_count": 3,
   "metadata": {},
   "outputs": [
    {
     "name": "stdout",
     "output_type": "stream",
     "text": [
      "Hit Enter once the image is displayed.... \n"
     ]
    }
   ],
   "source": [
    "import image_mat_util\n",
    "(X_pts, colors) = image_mat_util.file2mat('board.png')\n",
    "image_mat_util.mat2display(X_pts, colors)"
   ]
  },
  {
   "cell_type": "code",
   "execution_count": 9,
   "metadata": {},
   "outputs": [
    {
     "data": {
      "text/plain": [
       "Vec({'y3', 'y1', 'y2'},{'y1': 3.0, 'y2': 2.0, 'y3': 1})"
      ]
     },
     "execution_count": 9,
     "metadata": {},
     "output_type": "execute_result"
    }
   ],
   "source": [
    "# Task 6.12.1\n",
    "\n",
    "def move2board(y):\n",
    "    return Vec({'y1', 'y2', 'y3'}, {'y1':y['y1']/y['y3'], 'y2':y['y2']/y['y3'], 'y3':1})\n",
    "\n",
    "y = Vec({'y1', 'y2', 'y3'}, {'y1':6, 'y2':4, 'y3':2})\n",
    "move2board(y)"
   ]
  },
  {
   "cell_type": "code",
   "execution_count": 3,
   "metadata": {},
   "outputs": [],
   "source": [
    "# Task 6.12.2\n",
    "\n",
    "def make_equations(x1, x2, w1, w2):\n",
    "    u = Vec({(i,j) for i in ['y1', 'y2', 'y3'] for j in ['x1', 'x2', 'x3']}, \n",
    "           {('y3','x1'):w1*x1, ('y3','x2'):w1*x2, ('y3','x3'):w1, ('y1','x1'):-x1, ('y1','x2'):-x2, ('y1','x3'):-1})\n",
    "    v = Vec({(i,j) for i in ['y1', 'y2', 'y3'] for j in ['x1', 'x2', 'x3']}, \n",
    "           {('y3','x1'):w2*x1, ('y3','x2'):w2*x2, ('y3','x3'):w2, ('y2','x1'):-x1, ('y2','x2'):-x2, ('y2','x3'):-1})\n",
    "    return [u, v]"
   ]
  },
  {
   "cell_type": "code",
   "execution_count": 6,
   "metadata": {},
   "outputs": [],
   "source": [
    "# Task 6.12.3\n",
    "\n",
    "w = Vec({(i,j) for i in ['y1', 'y2', 'y3'] for j in ['x1', 'x2', 'x3']}, {('y1','x1'):1})"
   ]
  },
  {
   "cell_type": "code",
   "execution_count": 16,
   "metadata": {},
   "outputs": [
    {
     "name": "stdout",
     "output_type": "stream",
     "text": [
      "\n",
      "                     0    1    2    3    4    5    6    7 8\n",
      "                -------------------------------------------\n",
      " ('y1', 'x1')  |  -358    0 -329    0 -592    0 -580    0 1\n",
      " ('y1', 'x2')  |   -36    0 -597    0 -157    0 -483    0 0\n",
      " ('y1', 'x3')  |    -1    0   -1    0   -1    0   -1    0 0\n",
      " ('y2', 'x1')  |     0 -358    0 -329    0 -592    0 -580 0\n",
      " ('y2', 'x2')  |     0  -36    0 -597    0 -157    0 -483 0\n",
      " ('y2', 'x3')  |     0   -1    0   -1    0   -1    0   -1 0\n",
      " ('y3', 'x1')  |     0    0    0  329  592    0  580  580 0\n",
      " ('y3', 'x2')  |     0    0    0  597  157    0  483  483 0\n",
      " ('y3', 'x3')  |     0    0    0    1    1    0    1    1 0\n",
      "\n",
      "\n",
      " 0 1 2 3 4 5 6 7 8\n",
      "------------------\n",
      " 0 0 0 0 0 0 0 0 1\n"
     ]
    }
   ],
   "source": [
    "# Task 6.12.4\n",
    "from matutil import *\n",
    "from solver import *\n",
    "\n",
    "u1,v1 = make_equations(358, 36, 0, 0)\n",
    "u2,v2 = make_equations(329, 597, 0, 1)\n",
    "u3,v3 = make_equations(592, 157, 1, 0)\n",
    "u4,v4 = make_equations(580, 483, 1, 1)\n",
    "\n",
    "L = coldict2mat({0:u1, 1:v1, 2:u2, 3:v2, 4:u3, 5:v3, 6:u4, 7:v4, 8:w})\n",
    "b = Vec({i for i in range(9)}, {8:1})\n",
    "print(L)\n",
    "print(b)\n",
    "h = solve(L.transpose(), b)"
   ]
  },
  {
   "cell_type": "code",
   "execution_count": 17,
   "metadata": {},
   "outputs": [
    {
     "data": {
      "text/plain": [
       "Mat(({'y3', 'y1', 'y2'}, {'x3', 'x1', 'x2'}), {('y3', 'x3'): 669.4762699006183, ('y3', 'x2'): -0.011690730864964843, ('y3', 'x1'): -0.721935681071004, ('y2', 'x3'): 110.0231807477827, ('y2', 'x2'): 0.7378180860601004, ('y2', 'x1'): -0.3815213180054367, ('y1', 'x3'): -359.8609625668456, ('y1', 'x2'): 0.051693404634581386, ('y1', 'x1'): 1.0000000000000016})"
      ]
     },
     "execution_count": 17,
     "metadata": {},
     "output_type": "execute_result"
    }
   ],
   "source": [
    "H = Mat(({'y1','y2','y3'}, {'x1','x2','x3'}), h.f)\n",
    "H"
   ]
  },
  {
   "cell_type": "code",
   "execution_count": 18,
   "metadata": {},
   "outputs": [],
   "source": [
    "# Taks 6.12.5\n",
    "import image_mat_util\n",
    "\n",
    "(X_pts, colors) = image_mat_util.file2mat('board.png', ('x1','x2','x3'))"
   ]
  },
  {
   "cell_type": "code",
   "execution_count": 19,
   "metadata": {},
   "outputs": [],
   "source": [
    "# Task 6.12.6\n",
    "\n",
    "Y_pts = H*X_pts"
   ]
  },
  {
   "cell_type": "code",
   "execution_count": 10,
   "metadata": {},
   "outputs": [
    {
     "name": "stdout",
     "output_type": "stream",
     "text": [
      "\n",
      "        0  1  2  3\n",
      "      ------------\n",
      " y1  |  2 10  4  5\n",
      " y2  |  4  5 25 10\n",
      " y3  |  8  5  2  4\n",
      "\n",
      "\n",
      "           0 1    2    3\n",
      "      ------------------\n",
      " y1  |  0.25 2    2 1.25\n",
      " y2  |   0.5 1 12.5  2.5\n",
      " y3  |     1 1    1    1\n",
      "\n"
     ]
    }
   ],
   "source": [
    "# Task 6.12.7\n",
    "\n",
    "def mat_move2board(Y):\n",
    "    col_dic = {key:move2board(value) for key, value in mat2coldict(Y).items()}\n",
    "    return coldict2mat(col_dic)\n",
    "\n",
    "Y_in = Mat(({'y1','y2','y3'}, {0,1,2,3}),\n",
    "          {('y1',0):2, ('y2',0):4, ('y3',0):8,\n",
    "           ('y1',1):10, ('y2',1):5, ('y3',1):5,\n",
    "           ('y1',2):4, ('y2',2):25, ('y3',2):2,\n",
    "           ('y1',3):5, ('y2',3):10, ('y3',3):4})\n",
    "print(Y_in)\n",
    "print(mat_move2board(Y_in))"
   ]
  },
  {
   "cell_type": "code",
   "execution_count": 21,
   "metadata": {},
   "outputs": [],
   "source": [
    "Y_board = mat_move2board(Y_pts)"
   ]
  },
  {
   "cell_type": "code",
   "execution_count": 22,
   "metadata": {},
   "outputs": [
    {
     "name": "stdout",
     "output_type": "stream",
     "text": [
      "Hit Enter once the image is displayed.... \n"
     ]
    }
   ],
   "source": [
    "# Task 6.12.8\n",
    "image_mat_util.mat2display(Y_board, colors, ('y1','y2','y3'), scale=100, xmin=None, ymin=None)"
   ]
  },
  {
   "cell_type": "code",
   "execution_count": 1,
   "metadata": {},
   "outputs": [
    {
     "name": "stdout",
     "output_type": "stream",
     "text": [
      "Hit Enter once the image is displayed.... \n"
     ]
    }
   ],
   "source": [
    "# Task 6.12.9\n",
    "import image_mat_util\n",
    "(X_pts, colors) = image_mat_util.file2mat('cit.png')\n",
    "image_mat_util.mat2display(X_pts, colors)"
   ]
  },
  {
   "cell_type": "code",
   "execution_count": 7,
   "metadata": {},
   "outputs": [
    {
     "name": "stdout",
     "output_type": "stream",
     "text": [
      "\n",
      "                    0   1    2    3    4    5    6    7 8\n",
      "                -----------------------------------------\n",
      " ('y1', 'x1')  |  -84   0  -82    0 -134    0 -135    0 1\n",
      " ('y1', 'x2')  |  -77   0 -109    0  -68    0 -103    0 0\n",
      " ('y1', 'x3')  |   -1   0   -1    0   -1    0   -1    0 0\n",
      " ('y2', 'x1')  |    0 -84    0  -82    0 -134    0 -135 0\n",
      " ('y2', 'x2')  |    0 -77    0 -109    0  -68    0 -103 0\n",
      " ('y2', 'x3')  |    0  -1    0   -1    0   -1    0   -1 0\n",
      " ('y3', 'x1')  |    0   0    0   82  134    0  135  135 0\n",
      " ('y3', 'x2')  |    0   0    0  109   68    0  103  103 0\n",
      " ('y3', 'x3')  |    0   0    0    1    1    0    1    1 0\n",
      "\n",
      "\n",
      " 0 1 2 3 4 5 6 7 8\n",
      "------------------\n",
      " 0 0 0 0 0 0 0 0 1\n"
     ]
    }
   ],
   "source": [
    "from matutil import *\n",
    "from solver import *\n",
    "from mat import *\n",
    "\n",
    "u1,v1 = make_equations(84, 77, 0, 0)\n",
    "u2,v2 = make_equations(82, 109, 0, 1)\n",
    "u3,v3 = make_equations(134, 68, 1, 0)\n",
    "u4,v4 = make_equations(135, 103, 1, 1)\n",
    "\n",
    "L = coldict2mat({0:u1, 1:v1, 2:u2, 3:v2, 4:u3, 5:v3, 6:u4, 7:v4, 8:w})\n",
    "b = Vec({i for i in range(9)}, {8:1})\n",
    "print(L)\n",
    "print(b)\n",
    "h = solve(L.transpose(), b)"
   ]
  },
  {
   "cell_type": "code",
   "execution_count": 11,
   "metadata": {},
   "outputs": [],
   "source": [
    "H = Mat(({'y1','y2','y3'}, {'x1','x2','x3'}), h.f)\n",
    "\n",
    "import image_mat_util\n",
    "(X_pts, colors) = image_mat_util.file2mat('cit.png', ('x1','x2','x3'))\n",
    "Y_pts = H*X_pts\n",
    "Y_board = mat_move2board(Y_pts)"
   ]
  },
  {
   "cell_type": "code",
   "execution_count": 12,
   "metadata": {},
   "outputs": [
    {
     "name": "stdout",
     "output_type": "stream",
     "text": [
      "Hit Enter once the image is displayed.... \n"
     ]
    }
   ],
   "source": [
    "image_mat_util.mat2display(Y_board, colors, ('y1','y2','y3'), scale=100, xmin=None, ymin=None)"
   ]
  },
  {
   "cell_type": "code",
   "execution_count": 164,
   "metadata": {},
   "outputs": [
    {
     "name": "stdout",
     "output_type": "stream",
     "text": [
      "x =  \n",
      " a b c d\n",
      "--------\n",
      " 2 4 6 0\n",
      "M*x =  \n",
      " 0 1 2\n",
      "------\n",
      " 2 4 6\n"
     ]
    }
   ],
   "source": [
    "# Problem 6.14.13\n",
    "from solver import *\n",
    "\n",
    "def rep2vec(u, veclist):\n",
    "    M = rowdict2mat(veclist)\n",
    "    return solve(M,u)\n",
    "\n",
    "a0 = Vec({'a','b','c','d'}, {'a':1})\n",
    "a1 = Vec({'a','b','c','d'}, {'b':1})\n",
    "a2 = Vec({'a','b','c','d'}, {'c':1})\n",
    "x = rep2vec(Vec({0,1,2},{0:2, 1:4, 2:6}), [a0,a1,a2])\n",
    "print('x = ', x)\n",
    "print('M*x = ', coldict2mat([a0,a1,a2]).transpose()*x)"
   ]
  },
  {
   "cell_type": "code",
   "execution_count": 165,
   "metadata": {},
   "outputs": [
    {
     "name": "stdout",
     "output_type": "stream",
     "text": [
      "x =  \n",
      "    a     b    c d\n",
      "------------------\n",
      " 4.62 -1.29 0.19 0\n",
      "M*x =  \n",
      " 0 1  2\n",
      "-------\n",
      " 5 3 -2\n"
     ]
    }
   ],
   "source": [
    "a0 = Vec({'a','b','c','d'}, {'a':1, 'c':2})\n",
    "a1 = Vec({'a','b','c','d'}, {'a':1, 'b':2, 'c':5, 'd':1})\n",
    "a2 = Vec({'a','b','c','d'}, {'a':1, 'b':5, 'c':-1, 'd':3})\n",
    "x = rep2vec(Vec({0,1,2},{0:5, 1:3, 2:-2}), [a0,a1,a2])\n",
    "print('x = ', x)\n",
    "print('M*x = ', coldict2mat([a0,a1,a2]).transpose()*x)"
   ]
  },
  {
   "cell_type": "code",
   "execution_count": 166,
   "metadata": {},
   "outputs": [
    {
     "data": {
      "text/plain": [
       "Vec({'a', 'b', 'c'},{'c': 0, 'b': 0, 'a': one})"
      ]
     },
     "execution_count": 166,
     "metadata": {},
     "output_type": "execute_result"
    }
   ],
   "source": [
    "from GF2 import *\n",
    "a0 = Vec({'a','b','c'}, {'a':one, 'c':one})\n",
    "a1 = Vec({'a','b','c'}, {'a':one, 'b':one})\n",
    "a2 = Vec({'a','b','c'}, {'c':one})\n",
    "rep2vec(Vec({0,1,2},{0:one, 1:one}), [a0,a1,a2])"
   ]
  },
  {
   "cell_type": "code",
   "execution_count": 167,
   "metadata": {},
   "outputs": [
    {
     "data": {
      "text/plain": [
       "Vec({0, 1, 2},{2: -2.0, 1: 0.0, 0: 3.0})"
      ]
     },
     "execution_count": 167,
     "metadata": {},
     "output_type": "execute_result"
    }
   ],
   "source": [
    "# Problem 6.14.14\n",
    "\n",
    "def vec2rep(veclist, v):\n",
    "    M = coldict2mat(veclist)\n",
    "    return solve(M,v)\n",
    "\n",
    "a0 = Vec({'a','b','c','d'}, {'a':1})\n",
    "a1 = Vec({'a','b','c','d'}, {'b':1})\n",
    "a2 = Vec({'a','b','c','d'}, {'c':1})\n",
    "vec2rep([a0,a1,a2], Vec({'a','b','c','d'}, {'a':3, 'c':-2}))"
   ]
  },
  {
   "cell_type": "code",
   "execution_count": 168,
   "metadata": {},
   "outputs": [
    {
     "data": {
      "text/plain": [
       "Vec({0, 1, 2},{2: -1.9999999999999991, 1: 2.999999999999997, 0: 5.000000000000007})"
      ]
     },
     "execution_count": 168,
     "metadata": {},
     "output_type": "execute_result"
    }
   ],
   "source": [
    "a0 = Vec({'a','b','c','d'}, {'a':1, 'c':2})\n",
    "a1 = Vec({'a','b','c','d'}, {'a':1, 'b':2, 'c':5, 'd':1})\n",
    "a2 = Vec({'a','b','c','d'}, {'a':1, 'b':5, 'c':-1, 'd':3})\n",
    "vec2rep([a0,a1,a2], Vec({'a','b','c','d'},{'a':6, 'b':-4, 'c':27, 'd':-3}))"
   ]
  },
  {
   "cell_type": "code",
   "execution_count": 169,
   "metadata": {},
   "outputs": [
    {
     "data": {
      "text/plain": [
       "Vec({0, 1, 2},{2: 0, 1: one, 0: one})"
      ]
     },
     "execution_count": 169,
     "metadata": {},
     "output_type": "execute_result"
    }
   ],
   "source": [
    "from GF2 import *\n",
    "a0 = Vec({'a','b','c'}, {'a':one, 'c':one})\n",
    "a1 = Vec({'a','b','c'}, {'a':one, 'b':one})\n",
    "a2 = Vec({'a','b','c'}, {'c':one})\n",
    "vec2rep([a0,a1,a2], Vec({'a','b','c'},{'b':one, 'c':one}))"
   ]
  },
  {
   "cell_type": "code",
   "execution_count": 170,
   "metadata": {},
   "outputs": [
    {
     "data": {
      "text/plain": [
       "True"
      ]
     },
     "execution_count": 170,
     "metadata": {},
     "output_type": "execute_result"
    }
   ],
   "source": [
    "# Problem 6.14.15\n",
    "from solver import *\n",
    "\n",
    "def is_superfluous(L, i):\n",
    "    if len(L) <= 1 : return False\n",
    "    A = coldict2mat(L[0:i]+L[i+1:len(L)])\n",
    "    b = L[i]\n",
    "    u = solve(A,b)\n",
    "    residual = b - A*u\n",
    "    return True if residual * residual < 1.0/(10**14) else False\n",
    "\n",
    "a0 = Vec({'a','b','c','d'}, {'a':1})\n",
    "a1 = Vec({'a','b','c','d'}, {'b':1})\n",
    "a2 = Vec({'a','b','c','d'}, {'c':1})\n",
    "a3 = Vec({'a','b','c','d'}, {'a':1, 'c':3})\n",
    "L = [a0,a1,a2,a3]\n",
    "is_superfluous(L,3)"
   ]
  },
  {
   "cell_type": "code",
   "execution_count": 171,
   "metadata": {},
   "outputs": [
    {
     "data": {
      "text/plain": [
       "True"
      ]
     },
     "execution_count": 171,
     "metadata": {},
     "output_type": "execute_result"
    }
   ],
   "source": [
    "is_superfluous(L,0)"
   ]
  },
  {
   "cell_type": "code",
   "execution_count": 172,
   "metadata": {},
   "outputs": [
    {
     "data": {
      "text/plain": [
       "False"
      ]
     },
     "execution_count": 172,
     "metadata": {},
     "output_type": "execute_result"
    }
   ],
   "source": [
    "is_superfluous(L,1)"
   ]
  },
  {
   "cell_type": "code",
   "execution_count": 173,
   "metadata": {},
   "outputs": [
    {
     "data": {
      "text/plain": [
       "False"
      ]
     },
     "execution_count": 173,
     "metadata": {},
     "output_type": "execute_result"
    }
   ],
   "source": [
    "a0 = Vec({'a','b','c'}, {'a':1,'b':2,'c':3})\n",
    "L = [a0]\n",
    "is_superfluous(L,0)"
   ]
  },
  {
   "cell_type": "code",
   "execution_count": 174,
   "metadata": {},
   "outputs": [
    {
     "data": {
      "text/plain": [
       "True"
      ]
     },
     "execution_count": 174,
     "metadata": {},
     "output_type": "execute_result"
    }
   ],
   "source": [
    "a0 = Vec({'a','b','c','d'}, {'a':2,'b':5,'c':5,'d':6})\n",
    "a1 = Vec({'a','b','c','d'}, {'a':2,'c':1,'d':3})\n",
    "a2 = Vec({'a','b','c','d'}, {'b':5,'c':4,'d':3})\n",
    "L = [a0,a1,a2]\n",
    "is_superfluous(L,2)"
   ]
  },
  {
   "cell_type": "code",
   "execution_count": 175,
   "metadata": {},
   "outputs": [
    {
     "data": {
      "text/plain": [
       "False"
      ]
     },
     "execution_count": 175,
     "metadata": {},
     "output_type": "execute_result"
    }
   ],
   "source": [
    "from GF2 import *\n",
    "a0 = Vec({'a','b','c','d'}, {'a':one, 'b':one})\n",
    "a1 = Vec({'a','b','c','d'}, {'a':one, 'b':one, 'c':one, 'd':one})\n",
    "a2 = Vec({'a','b','c','d'}, {'d':one})\n",
    "L = [a0,a1,a2]\n",
    "is_superfluous(L,2)"
   ]
  },
  {
   "cell_type": "code",
   "execution_count": 176,
   "metadata": {},
   "outputs": [
    {
     "data": {
      "text/plain": [
       "True"
      ]
     },
     "execution_count": 176,
     "metadata": {},
     "output_type": "execute_result"
    }
   ],
   "source": [
    "# Problem 6.14.16\n",
    "\n",
    "def is_independent(L):\n",
    "    r = [is_superfluous(L,i) for i in range(len(L))]\n",
    "    return True if sum(r) == 0 else False\n",
    "\n",
    "a0 = Vec({'a','b','c','d'}, {'a':1})\n",
    "a1 = Vec({'a','b','c','d'}, {'b':1})\n",
    "a2 = Vec({'a','b','c','d'}, {'c':1})\n",
    "a3 = Vec({'a','b','c','d'}, {'a':1, 'c':3})\n",
    "is_independent([a0,a1,a2])"
   ]
  },
  {
   "cell_type": "code",
   "execution_count": 177,
   "metadata": {},
   "outputs": [
    {
     "data": {
      "text/plain": [
       "False"
      ]
     },
     "execution_count": 177,
     "metadata": {},
     "output_type": "execute_result"
    }
   ],
   "source": [
    "is_independent([a0,a2,a3])"
   ]
  },
  {
   "cell_type": "code",
   "execution_count": 178,
   "metadata": {},
   "outputs": [
    {
     "data": {
      "text/plain": [
       "True"
      ]
     },
     "execution_count": 178,
     "metadata": {},
     "output_type": "execute_result"
    }
   ],
   "source": [
    "is_independent([a0,a1,a3])"
   ]
  },
  {
   "cell_type": "code",
   "execution_count": 179,
   "metadata": {},
   "outputs": [
    {
     "data": {
      "text/plain": [
       "False"
      ]
     },
     "execution_count": 179,
     "metadata": {},
     "output_type": "execute_result"
    }
   ],
   "source": [
    "is_independent([a0,a1,a2,a3])"
   ]
  },
  {
   "cell_type": "code",
   "execution_count": 180,
   "metadata": {},
   "outputs": [
    {
     "data": {
      "text/plain": [
       "False"
      ]
     },
     "execution_count": 180,
     "metadata": {},
     "output_type": "execute_result"
    }
   ],
   "source": [
    "a0 = Vec({'a','b','c'}, {'a':2,'b':4})\n",
    "a1 = Vec({'a','b','c'}, {'a':8,'b':16,'c':4})\n",
    "a2 = Vec({'a','b','c'}, {'c':7})\n",
    "is_independent([a0,a1,a2])"
   ]
  },
  {
   "cell_type": "code",
   "execution_count": 181,
   "metadata": {},
   "outputs": [
    {
     "data": {
      "text/plain": [
       "True"
      ]
     },
     "execution_count": 181,
     "metadata": {},
     "output_type": "execute_result"
    }
   ],
   "source": [
    "a0 = Vec({'a','b','c','d'}, {'a':1,'b':3})\n",
    "a1 = Vec({'a','b','c','d'}, {'a':2,'b':1,'c':1})\n",
    "a2 = Vec({'a','b','c','d'}, {'c':1})\n",
    "a3 = Vec({'a','b','c','d'}, {'a':1,'b':1,'c':4,'d':-1})\n",
    "is_independent([a0,a1,a2,a3])"
   ]
  },
  {
   "cell_type": "code",
   "execution_count": 182,
   "metadata": {},
   "outputs": [
    {
     "data": {
      "text/plain": [
       "True"
      ]
     },
     "execution_count": 182,
     "metadata": {},
     "output_type": "execute_result"
    }
   ],
   "source": [
    "a0 = Vec({'a','b','c','d'}, {'a':one, 'c':one})\n",
    "a1 = Vec({'a','b','c','d'}, {'b':one})\n",
    "a2 = Vec({'a','b','c','d'}, {'a':one, 'b':one, 'c':one, 'd':one})\n",
    "a3 = Vec({'a','b','c','d'}, {'a':one, 'd':one})\n",
    "is_independent([a0,a1,a2,a3])"
   ]
  },
  {
   "cell_type": "code",
   "execution_count": 183,
   "metadata": {},
   "outputs": [
    {
     "data": {
      "text/plain": [
       "[Vec({'a', 'd', 'b', 'c'},{'a': 1}),\n",
       " Vec({'a', 'd', 'b', 'c'},{'b': 1}),\n",
       " Vec({'a', 'd', 'b', 'c'},{'c': 1})]"
      ]
     },
     "execution_count": 183,
     "metadata": {},
     "output_type": "execute_result"
    }
   ],
   "source": [
    "# Problem 6.14.17\n",
    "\n",
    "def subset_basis(T):\n",
    "    #if len(T) == 1: return T\n",
    "    S = []\n",
    "    for v in T:\n",
    "        if is_independent(S+[v]): S = S + [v]\n",
    "    return S\n",
    "\n",
    "a0 = Vec({'a','b','c','d'}, {'a':1})\n",
    "a1 = Vec({'a','b','c','d'}, {'b':1})\n",
    "a2 = Vec({'a','b','c','d'}, {'c':1})\n",
    "a3 = Vec({'a','b','c','d'}, {'a':1, 'c':3})\n",
    "subset_basis([a0,a1,a2,a3])"
   ]
  },
  {
   "cell_type": "code",
   "execution_count": 184,
   "metadata": {},
   "outputs": [
    {
     "data": {
      "text/plain": [
       "[Vec({'a', 'd', 'b', 'c'},{'a': 1}),\n",
       " Vec({'a', 'd', 'b', 'c'},{'a': 1, 'c': 3}),\n",
       " Vec({'a', 'd', 'b', 'c'},{'b': 1})]"
      ]
     },
     "execution_count": 184,
     "metadata": {},
     "output_type": "execute_result"
    }
   ],
   "source": [
    "subset_basis([a0,a3,a1,a2])"
   ]
  },
  {
   "cell_type": "code",
   "execution_count": 185,
   "metadata": {},
   "outputs": [
    {
     "data": {
      "text/plain": [
       "[Vec({'a', 'd', 'b', 'c'},{'a': 1, 'b': 1, 'c': 2, 'd': 1}),\n",
       " Vec({'a', 'd', 'b', 'c'},{'a': 2, 'b': 1, 'c': 1, 'd': 1}),\n",
       " Vec({'a', 'd', 'b', 'c'},{'a': 1, 'b': 2, 'c': 2, 'd': 1}),\n",
       " Vec({'a', 'd', 'b', 'c'},{'a': 2, 'b': 2, 'c': 1, 'd': 2})]"
      ]
     },
     "execution_count": 185,
     "metadata": {},
     "output_type": "execute_result"
    }
   ],
   "source": [
    "a0 = Vec({'a','b','c','d'}, {'a':1,'b':1,'c':2,'d':1})\n",
    "a1 = Vec({'a','b','c','d'}, {'a':2,'b':1,'c':1,'d':1})\n",
    "a2 = Vec({'a','b','c','d'}, {'a':1,'b':2,'c':2,'d':1})\n",
    "a3 = Vec({'a','b','c','d'}, {'a':2,'b':2,'c':1,'d':2})\n",
    "a4 = Vec({'a','b','c','d'}, {'a':2,'b':2,'c':2,'d':2})\n",
    "subset_basis([a0,a1,a2,a3,a4])"
   ]
  },
  {
   "cell_type": "code",
   "execution_count": 186,
   "metadata": {},
   "outputs": [
    {
     "data": {
      "text/plain": [
       "[Vec({'a', 'd', 'b', 'c'},{'a': one, 'b': one})]"
      ]
     },
     "execution_count": 186,
     "metadata": {},
     "output_type": "execute_result"
    }
   ],
   "source": [
    "a0 = Vec({'a','b','c','d'}, {'a':one,'b':one})\n",
    "a1 = Vec({'a','b','c','d'}, {'a':one,'b':one,'c':one,'d':one})\n",
    "a2 = Vec({'a','b','c','d'}, {'c':one,'d':one})\n",
    "a3 = Vec({'a','b','c','d'}, {'d':one})\n",
    "a4 = Vec({'a','b','c','d'}, {'c':one})\n",
    "subset_basis([a0,a1,a2,a3,a4])"
   ]
  },
  {
   "cell_type": "code",
   "execution_count": 187,
   "metadata": {},
   "outputs": [
    {
     "data": {
      "text/plain": [
       "[Vec({'a', 'd', 'b', 'c'},{'a': 1}),\n",
       " Vec({'a', 'd', 'b', 'c'},{'a': 1, 'c': 3}),\n",
       " Vec({'a', 'd', 'b', 'c'},{'b': 1})]"
      ]
     },
     "execution_count": 187,
     "metadata": {},
     "output_type": "execute_result"
    }
   ],
   "source": [
    "# Problem 6.14.18\n",
    "\n",
    "def superset_basis(T, L):\n",
    "    S = T\n",
    "    for v in L:\n",
    "        if is_independent(S+[v]): S = S + [v]\n",
    "    return S\n",
    "\n",
    "a0 = Vec({'a','b','c','d'}, {'a':1})\n",
    "a1 = Vec({'a','b','c','d'}, {'b':1})\n",
    "a2 = Vec({'a','b','c','d'}, {'c':1})\n",
    "a3 = Vec({'a','b','c','d'}, {'a':1, 'c':3})\n",
    "superset_basis([a0,a3], [a0,a1,a2])"
   ]
  },
  {
   "cell_type": "code",
   "execution_count": 188,
   "metadata": {},
   "outputs": [
    {
     "data": {
      "text/plain": [
       "[Vec({0, 1, 2},{0: 0, 1: 5, 2: 3}),\n",
       " Vec({0, 1, 2},{0: 0, 1: 2, 2: 2}),\n",
       " Vec({0, 1, 2},{0: 1, 1: 5, 2: 7})]"
      ]
     },
     "execution_count": 188,
     "metadata": {},
     "output_type": "execute_result"
    }
   ],
   "source": [
    "from vecutil import *\n",
    "T = [list2vec(v) for v in [[0,5,3],[0,2,2],[1,5,7]]]\n",
    "L = [list2vec(v) for v in [[1,1,1],[0,1,1],[0,0,1]]]\n",
    "superset_basis(T, L)"
   ]
  },
  {
   "cell_type": "code",
   "execution_count": 189,
   "metadata": {},
   "outputs": [
    {
     "data": {
      "text/plain": [
       "[Vec({0, 1, 2},{0: 0, 1: 5, 2: 3}),\n",
       " Vec({0, 1, 2},{0: 0, 1: 2, 2: 2}),\n",
       " Vec({0, 1, 2},{0: 1, 1: 1, 2: 1})]"
      ]
     },
     "execution_count": 189,
     "metadata": {},
     "output_type": "execute_result"
    }
   ],
   "source": [
    "T = [list2vec(v) for v in [[0,5,3],[0,2,2]]]\n",
    "L = [list2vec(v) for v in [[1,1,1],[0,1,1],[0,0,1]]]\n",
    "superset_basis(T, L)"
   ]
  },
  {
   "cell_type": "code",
   "execution_count": 190,
   "metadata": {},
   "outputs": [
    {
     "data": {
      "text/plain": [
       "[Vec({0, 1, 2, 3},{0: 0, 1: one, 2: one, 3: 0}),\n",
       " Vec({0, 1, 2, 3},{0: one, 1: 0, 2: 0, 3: one})]"
      ]
     },
     "execution_count": 190,
     "metadata": {},
     "output_type": "execute_result"
    }
   ],
   "source": [
    "T = [list2vec(v) for v in [[0,one,one,0],[one,0,0,one]]]\n",
    "L = [list2vec(v) for v in [[one,one,one,one],[one,0,0,0],[0,0,0,one]]]\n",
    "superset_basis(T, L)"
   ]
  },
  {
   "cell_type": "code",
   "execution_count": 193,
   "metadata": {},
   "outputs": [
    {
     "data": {
      "text/plain": [
       "Vec({0, 1, 2, 3},{0: 0.0, 1: 0.0, 2: 1.0, 3: 0.0})"
      ]
     },
     "execution_count": 193,
     "metadata": {},
     "output_type": "execute_result"
    }
   ],
   "source": [
    "# Problem 6.14.19\n",
    "from vecutil import *\n",
    "\n",
    "def exchange(S, A, z):\n",
    "    B = [v for v in S if v not in A]\n",
    "    beta = vec2rep(A+B, z)\n",
    "    #beta = solve(coldict2mat(A+B), z)\n",
    "    Alen = len(A)\n",
    "    for i in range(len(B)):\n",
    "        j = Alen + i\n",
    "        if beta[j] != 0:\n",
    "            betaj = beta[j]\n",
    "            beta[j] = 0\n",
    "            return 1/betaj*z -1/betaj*coldict2mat(A+B)*beta\n",
    "\n",
    "S = [list2vec(v) for v in [[0,0,5,3],[2,0,1,3],[0,0,1,0],[1,2,3,4]]]\n",
    "A = [list2vec(v) for v in [[0,0,5,3],[2,0,1,3]]]\n",
    "z = list2vec([0,2,1,1])\n",
    "exchange(S,A,z)"
   ]
  },
  {
   "cell_type": "code",
   "execution_count": 192,
   "metadata": {},
   "outputs": [
    {
     "name": "stdout",
     "output_type": "stream",
     "text": [
      "\n",
      "   0 1   2   3\n",
      "--------------\n",
      " one 0 one one\n"
     ]
    }
   ],
   "source": [
    "S = [list2vec(v) for v in [[0,one,one,one],[one,0,one,one],[one,one,0,one],[one,one,one,0]]]\n",
    "A = [list2vec(v) for v in [[0,one,one,one],[one,one,0,one]]]\n",
    "z = list2vec([one,one,one,one])\n",
    "print(exchange(S,A,z))"
   ]
  },
  {
   "cell_type": "code",
   "execution_count": null,
   "metadata": {},
   "outputs": [],
   "source": []
  }
 ],
 "metadata": {
  "kernelspec": {
   "display_name": "Python [conda root]",
   "language": "python",
   "name": "conda-root-py"
  },
  "language_info": {
   "codemirror_mode": {
    "name": "ipython",
    "version": 3
   },
   "file_extension": ".py",
   "mimetype": "text/x-python",
   "name": "python",
   "nbconvert_exporter": "python",
   "pygments_lexer": "ipython3",
   "version": "3.6.5"
  }
 },
 "nbformat": 4,
 "nbformat_minor": 2
}

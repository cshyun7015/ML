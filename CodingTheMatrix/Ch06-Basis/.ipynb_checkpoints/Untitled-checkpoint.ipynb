{
 "cells": [
  {
   "cell_type": "code",
   "execution_count": 4,
   "metadata": {},
   "outputs": [],
   "source": [
    "# 6.9.1\n",
    "from vecutil import *\n",
    "\n",
    "L = [[0,0,0],[1,0,0],[0,1,0],[1,1,0],[0,0,1],[1,0,1],[0,1,1],[1,1,1]]\n",
    "corners = [list2vec(v) for v in L]\n",
    "\n",
    "def line_segment(pt1, pt2, samples=100):\n",
    "    return [(i/samples)*pt1 + (1-i/samples)*pt2 for i in range(samples+1)]\n",
    "\n",
    "line_segments = [line_segment(corners[i], corners[j]) for i,j in\n",
    "                [(0,1),(2,3),(0,2),(1,3),(4,5),(6,7),(4,6),(5,7),(0,4),(1,5),(2,6),(3,7)]]\n",
    "\n",
    "pts = sum(line_segments, [])"
   ]
  },
  {
   "cell_type": "code",
   "execution_count": 9,
   "metadata": {},
   "outputs": [
    {
     "name": "stdout",
     "output_type": "stream",
     "text": [
      "12\n",
      "101\n",
      "1212\n"
     ]
    }
   ],
   "source": [
    "print(len(line_segments))\n",
    "print(len(line_segments[0]))\n",
    "print(len(pts))"
   ]
  },
  {
   "cell_type": "code",
   "execution_count": 10,
   "metadata": {},
   "outputs": [
    {
     "data": {
      "text/plain": [
       "Vec({'y2', 'y3', 'y1'},{'y1': 3.0, 'y2': 2.0, 'y3': 1})"
      ]
     },
     "execution_count": 10,
     "metadata": {},
     "output_type": "execute_result"
    }
   ],
   "source": [
    "# Task 6.12.1\n",
    "\n",
    "def move2board(y):\n",
    "    return Vec({'y1', 'y2', 'y3'}, {'y1':y['y1']/y['y3'], 'y2':y['y2']/y['y3'], 'y3':1})\n",
    "\n",
    "y = Vec({'y1', 'y2', 'y3'}, {'y1':6, 'y2':4, 'y3':2})\n",
    "move2board(y)"
   ]
  },
  {
   "cell_type": "code",
   "execution_count": 31,
   "metadata": {},
   "outputs": [],
   "source": [
    "# Task 6.12.2\n",
    "\n",
    "def make_equations(x1, x2, w1, w2):\n",
    "    u = Vec({(i,j) for i in ['y1', 'y2', 'y3'] for j in ['x1', 'x2', 'x3']}, \n",
    "           {('y3','x1'):w1*x1, ('y3','x2'):w1*x2, ('y3','x3'):w1, ('y1','x1'):-x1, ('y1','x2'):-x2, ('y1','x3'):-1})\n",
    "    v = Vec({(i,j) for i in ['y1', 'y2', 'y3'] for j in ['x1', 'x2', 'x3']}, \n",
    "           {('y3','x1'):w2*x1, ('y3','x2'):w2*x2, ('y3','x3'):w1, ('y2','x1'):-x1, ('y2','x2'):-x2, ('y2','x3'):-1})\n",
    "    return [u, v]"
   ]
  },
  {
   "cell_type": "code",
   "execution_count": 32,
   "metadata": {},
   "outputs": [],
   "source": [
    "# Task 6.12.3\n",
    "\n",
    "w = Vec({(i,j) for i in ['y1', 'y2', 'y3'] for j in ['x1', 'x2', 'x3']}, {('y1','x1'):1})"
   ]
  },
  {
   "cell_type": "code",
   "execution_count": 33,
   "metadata": {},
   "outputs": [
    {
     "name": "stdout",
     "output_type": "stream",
     "text": [
      "\n",
      "                     0    1    2    3    4    5    6    7 8\n",
      "                -------------------------------------------\n",
      " ('y1', 'x1')  |  -358    0 -329    0 -592    0 -580    0 1\n",
      " ('y1', 'x2')  |   -36    0 -597    0 -157    0 -483    0 0\n",
      " ('y1', 'x3')  |    -1    0   -1    0   -1    0   -1    0 0\n",
      " ('y2', 'x1')  |     0 -358    0 -329    0 -592    0 -580 0\n",
      " ('y2', 'x2')  |     0  -36    0 -597    0 -157    0 -483 0\n",
      " ('y2', 'x3')  |     0   -1    0   -1    0   -1    0   -1 0\n",
      " ('y3', 'x1')  |     0    0    0  329  592    0  580  580 0\n",
      " ('y3', 'x2')  |     0    0    0  597  157    0  483  483 0\n",
      " ('y3', 'x3')  |     0    0    0    0    1    1    1    1 0\n",
      "\n",
      "\n",
      " 0 1 2 3 4 5 6 7 8\n",
      "------------------\n",
      " 0 0 0 0 0 0 0 0 1\n"
     ]
    }
   ],
   "source": [
    "# Task 6.12.4\n",
    "from matutil import *\n",
    "from solver import *\n",
    "\n",
    "u1,v1 = make_equations(358, 36, 0, 0)\n",
    "u2,v2 = make_equations(329, 597, 0, 1)\n",
    "u3,v3 = make_equations(592, 157, 1, 0)\n",
    "u4,v4 = make_equations(580, 483, 1, 1)\n",
    "\n",
    "L = coldict2mat({0:u1, 1:v1, 2:u2, 3:v2, 4:u3, 5:v3, 6:u4, 7:v4, 8:w})\n",
    "b = Vec({i for i in range(9)}, {8:1})\n",
    "print(L)\n",
    "print(b)\n",
    "h = solve(L.transpose(), b)"
   ]
  },
  {
   "cell_type": "code",
   "execution_count": 35,
   "metadata": {},
   "outputs": [
    {
     "data": {
      "text/plain": [
       "Mat(({'y2', 'y3', 'y1'}, {'x1', 'x3', 'x2'}), {('y3', 'x3'): 233.89686936541312, ('y3', 'x2'): 0.01513121132608203, ('y3', 'x1'): 0.006727081785770799, ('y2', 'x3'): -347.42609162410713, ('y2', 'x2'): 0.06985079935739175, ('y2', 'x1'): 0.9634398403554217, ('y1', 'x3'): -359.86096256684516, ('y1', 'x2'): 0.051693404634581164, ('y1', 'x1'): 1.0000000000000004})"
      ]
     },
     "execution_count": 35,
     "metadata": {},
     "output_type": "execute_result"
    }
   ],
   "source": [
    "H = Mat(({'y1','y2','y3'}, {'x1','x2','x3'}), h.f)\n",
    "H"
   ]
  },
  {
   "cell_type": "code",
   "execution_count": 36,
   "metadata": {},
   "outputs": [],
   "source": [
    "# Taks 6.12.5\n",
    "import image_mat_util\n",
    "\n",
    "(X_pts, colors) = image_mat_util.file2mat('board.png', ('x1','x2','x3'))"
   ]
  },
  {
   "cell_type": "code",
   "execution_count": 37,
   "metadata": {},
   "outputs": [],
   "source": [
    "# Task 6.12.6\n",
    "\n",
    "Y_pts = H*X_pts"
   ]
  },
  {
   "cell_type": "code",
   "execution_count": 38,
   "metadata": {},
   "outputs": [
    {
     "name": "stdout",
     "output_type": "stream",
     "text": [
      "\n",
      "        0  1  2  3\n",
      "      ------------\n",
      " y1  |  2 10  4  5\n",
      " y2  |  4  5 25 10\n",
      " y3  |  8  5  2  4\n",
      "\n",
      "\n",
      "           0 1    2    3\n",
      "      ------------------\n",
      " y1  |  0.25 2    2 1.25\n",
      " y2  |   0.5 1 12.5  2.5\n",
      " y3  |     1 1    1    1\n",
      "\n"
     ]
    }
   ],
   "source": [
    "# Task 6.12.7\n",
    "\n",
    "def mat_move2board(Y):\n",
    "    col_dic = {key:move2board(value) for key, value in mat2coldict(Y).items()}\n",
    "    return coldict2mat(col_dic)\n",
    "\n",
    "Y_in = Mat(({'y1','y2','y3'}, {0,1,2,3}),\n",
    "          {('y1',0):2, ('y2',0):4, ('y3',0):8,\n",
    "           ('y1',1):10, ('y2',1):5, ('y3',1):5,\n",
    "           ('y1',2):4, ('y2',2):25, ('y3',2):2,\n",
    "           ('y1',3):5, ('y2',3):10, ('y3',3):4})\n",
    "print(Y_in)\n",
    "print(mat_move2board(Y_in))"
   ]
  },
  {
   "cell_type": "code",
   "execution_count": 39,
   "metadata": {},
   "outputs": [],
   "source": [
    "Y_board = mat_move2board(Y_pts)"
   ]
  },
  {
   "cell_type": "code",
   "execution_count": 40,
   "metadata": {},
   "outputs": [
    {
     "name": "stdout",
     "output_type": "stream",
     "text": [
      "Hit Enter once the image is displayed.... \n"
     ]
    }
   ],
   "source": [
    "# Task 6.12.8\n",
    "image_mat_util.mat2display(Y_board, colors, ('y1','y2','y3'), scale=100, xmin=None, ymin=None)"
   ]
  },
  {
   "cell_type": "code",
   "execution_count": null,
   "metadata": {},
   "outputs": [],
   "source": []
  }
 ],
 "metadata": {
  "kernelspec": {
   "display_name": "Python [conda root]",
   "language": "python",
   "name": "conda-root-py"
  },
  "language_info": {
   "codemirror_mode": {
    "name": "ipython",
    "version": 3
   },
   "file_extension": ".py",
   "mimetype": "text/x-python",
   "name": "python",
   "nbconvert_exporter": "python",
   "pygments_lexer": "ipython3",
   "version": "3.6.5"
  }
 },
 "nbformat": 4,
 "nbformat_minor": 2
}

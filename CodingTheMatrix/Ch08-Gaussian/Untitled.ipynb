{
 "cells": [
  {
   "cell_type": "code",
   "execution_count": 1,
   "metadata": {},
   "outputs": [],
   "source": [
    "import sys\n",
    "sys.path.append('/home/zog/Downloads/CodingTheMatrix/Ch02-Field')\n",
    "sys.path.append('/home/zog/Downloads/CodingTheMatrix/Ch03-Vector')\n",
    "sys.path.append('/home/zog/Downloads/CodingTheMatrix/Ch04-Matrix')\n",
    "sys.path.append('/home/zog/Downloads/CodingTheMatrix/Ch07-Dimension')"
   ]
  },
  {
   "cell_type": "code",
   "execution_count": 2,
   "metadata": {},
   "outputs": [],
   "source": [
    "# Definition 8.1.1:\n",
    "# An mxn matrix A is in echelon form if it satisfies the following condition:\n",
    "# for any row, if that row’s first nonzero entry is in position k\n",
    "# then every previous row’s first nonzero entry is in some position less than k."
   ]
  },
  {
   "cell_type": "code",
   "execution_count": 3,
   "metadata": {},
   "outputs": [],
   "source": [
    "# Lemma 8.1.2:\n",
    "# If a matrix is in echelon form, the nonzero rows form a basis for the row space."
   ]
  },
  {
   "cell_type": "code",
   "execution_count": 4,
   "metadata": {},
   "outputs": [],
   "source": [
    "# Proposition 8.1.4:\n",
    "# If M is invertible then Row MA = Row A"
   ]
  },
  {
   "cell_type": "code",
   "execution_count": 5,
   "metadata": {},
   "outputs": [
    {
     "data": {
      "text/plain": [
       "Mat(({1, 2, 3, 4}, {'A', 'B', 'D', 'C'}), {(2, 'A'): one, (1, 'C'): one, (2, 'D'): one, (4, 'D'): one, (4, 'B'): one, (4, 'A'): one, (1, 'D'): one, (3, 'D'): one, (4, 'C'): one, (3, 'A'): one, (2, 'C'): one})"
      ]
     },
     "execution_count": 5,
     "metadata": {},
     "output_type": "execute_result"
    }
   ],
   "source": [
    "# 8.2\n",
    "from gaussian_examples import *\n",
    "from echelon import *\n",
    "\n",
    "A"
   ]
  },
  {
   "cell_type": "code",
   "execution_count": 7,
   "metadata": {},
   "outputs": [
    {
     "data": {
      "text/plain": [
       "[Vec({'A', 'B', 'D', 'C'},{'A': one, 'B': 0, 'D': one, 'C': one}),\n",
       " Vec({'A', 'B', 'D', 'C'},{'A': 0, 'B': one, 'D': 0, 'C': 0}),\n",
       " Vec({'A', 'B', 'D', 'C'},{'A': 0, 'B': 0, 'D': one, 'C': one}),\n",
       " Vec({'A', 'B', 'D', 'C'},{'A': 0, 'B': 0, 'D': one, 'C': 0})]"
      ]
     },
     "execution_count": 7,
     "metadata": {},
     "output_type": "execute_result"
    }
   ],
   "source": [
    "from matutil import *\n",
    "\n",
    "row_reduce([v for v in mat2rowdict(A).values()])"
   ]
  },
  {
   "cell_type": "code",
   "execution_count": 8,
   "metadata": {},
   "outputs": [
    {
     "data": {
      "text/plain": [
       "Mat(({1, 2, 3, 4}, {'A', 'B', 'D', 'C'}), {(3, 'C'): one, (2, 'A'): one, (1, 'A'): one, (4, 'A'): one, (1, 'B'): one, (3, 'B'): one, (3, 'D'): one, (2, 'C'): one})"
      ]
     },
     "execution_count": 8,
     "metadata": {},
     "output_type": "execute_result"
    }
   ],
   "source": [
    "B"
   ]
  },
  {
   "cell_type": "code",
   "execution_count": 9,
   "metadata": {},
   "outputs": [
    {
     "data": {
      "text/plain": [
       "[Vec({'A', 'B', 'D', 'C'},{'A': one, 'B': one, 'D': 0, 'C': 0}),\n",
       " Vec({'A', 'B', 'D', 'C'},{'A': 0, 'B': one, 'D': 0, 'C': one}),\n",
       " Vec({'A', 'B', 'D', 'C'},{'A': 0, 'B': 0, 'D': 0, 'C': one}),\n",
       " Vec({'A', 'B', 'D', 'C'},{'A': 0, 'B': 0, 'D': one, 'C': 0})]"
      ]
     },
     "execution_count": 9,
     "metadata": {},
     "output_type": "execute_result"
    }
   ],
   "source": [
    "row_reduce([v for v in mat2rowdict(B).values()])"
   ]
  },
  {
   "cell_type": "code",
   "execution_count": 10,
   "metadata": {},
   "outputs": [
    {
     "data": {
      "text/plain": [
       "Mat(({0, 1, 2, 3}, {1, 2, 3, 4}), {(0, 2): one, (1, 1): 0, (1, 2): one, (1, 3): 0, (1, 4): one, (2, 1): one, (3, 1): one, (3, 2): one, (3, 3): one, (3, 4): 0})"
      ]
     },
     "execution_count": 10,
     "metadata": {},
     "output_type": "execute_result"
    }
   ],
   "source": [
    "# 8.3.2\n",
    "\n",
    "transformation(A)"
   ]
  },
  {
   "cell_type": "code",
   "execution_count": 11,
   "metadata": {},
   "outputs": [
    {
     "data": {
      "text/plain": [
       "Mat(({0, 1, 2, 3}, {1, 2, 3, 4}), {(0, 1): one, (1, 1): one, (1, 2): one, (1, 3): 0, (1, 4): 0, (2, 1): 0, (2, 2): one, (2, 3): 0, (2, 4): one, (3, 1): one, (3, 2): one, (3, 3): one, (3, 4): 0})"
      ]
     },
     "execution_count": 11,
     "metadata": {},
     "output_type": "execute_result"
    }
   ],
   "source": [
    "transformation(B)"
   ]
  },
  {
   "cell_type": "code",
   "execution_count": 13,
   "metadata": {},
   "outputs": [],
   "source": [
    "# Prime Factorization Theorem 8.6.1:\n",
    "# For every integer N >= 1, there is a unique bag of prime numbers whose product is N."
   ]
  },
  {
   "cell_type": "code",
   "execution_count": 2,
   "metadata": {},
   "outputs": [
    {
     "name": "stdout",
     "output_type": "stream",
     "text": [
      "16\n"
     ]
    },
    {
     "data": {
      "text/plain": [
       "Vec({0, 1, 2, 3, 4, 5},{0: one, 1: 0, 2: 0, 3: one, 4: 0, 5: one})"
      ]
     },
     "execution_count": 2,
     "metadata": {},
     "output_type": "execute_result"
    }
   ],
   "source": [
    "# Task 8.7.1\n",
    "from vecutil import *\n",
    "from GF2 import *\n",
    "from matutil import *\n",
    "from solver import *\n",
    "\n",
    "a0 = list2vec([one,one,0,one,0,one])\n",
    "b0 = list2vec([one,one,0,0,0,one])\n",
    "\n",
    "def choose_secret_vector(s,t):\n",
    "    z = [0, one]\n",
    "    a = [list2vec([i, j, k, l, m, n]) for i in z for j in z for k in z for l in z for m in z for n in z]\n",
    "    r = []\n",
    "    for u in a:\n",
    "        if a0*u == s and b0*u == t: r = r + [u]\n",
    "    print(len(r))\n",
    "    if len(r) % 2 == 0: return r[int(len(r)/2)]\n",
    "    else: return r[int((len(r)-1)/2)]    \n",
    "\n",
    "choose_secret_vector(one, 0)"
   ]
  },
  {
   "cell_type": "code",
   "execution_count": 39,
   "metadata": {},
   "outputs": [
    {
     "name": "stdout",
     "output_type": "stream",
     "text": [
      "250000 s =  [20, 14, 38, 1, 36, 5, 31, 56]   625   16\n",
      "500000 s =  [56, 61, 17, 28, 47, 43, 2, 41]   625   16\n",
      "750000 s =  [31, 48, 9, 18, 43, 17, 8, 2]   625   1\n",
      "1000000 s =  [1, 10, 17, 13, 29, 0, 56, 48]   625   16\n",
      "1250000 s =  [33, 47, 11, 5, 0, 50, 45, 9]   625   1\n",
      "1500000 s =  [48, 45, 15, 61, 30, 41, 42, 38]   625   1\n",
      "1750000 s =  [38, 13, 37, 15, 48, 14, 49, 25]   625   25\n",
      "2000000 s =  [9, 34, 40, 0, 24, 41, 36, 38]   625   1\n",
      "2250000 s =  [3, 7, 60, 51, 42, 52, 20, 9]   625   1\n",
      "2500000 s =  [7, 11, 21, 43, 27, 3, 23, 34]   625   1\n",
      "2750000 s =  [30, 40, 15, 3, 23, 36, 47, 19]   625   1\n",
      "3000000 s =  [48, 60, 0, 47, 55, 41, 9, 33]   625   1\n",
      "3250000 s =  [22, 38, 10, 16, 49, 51, 61, 35]   625   5\n",
      "3500000 s =  [27, 17, 20, 48, 0, 38, 23, 47]   625   1\n",
      "3750000 s =  [46, 8, 6, 5, 21, 57, 54, 59]   625   22\n",
      "4000000 s =  [45, 17, 39, 50, 32, 12, 20, 21]   625   5\n",
      "4250000 s =  [32, 14, 51, 39, 38, 6, 41, 50]   625   5\n",
      "4500000 s =  [15, 25, 57, 17, 11, 9, 47, 8]   625   16\n",
      "4750000 s =  [40, 26, 35, 16, 56, 14, 8, 42]   625   16\n",
      "5000000 s =  [2, 6, 23, 25, 59, 49, 44, 3]   625   1\n",
      "5250000 s =  [8, 60, 46, 38, 1, 29, 6, 7]   625   1\n",
      "5500000 s =  [61, 37, 49, 11, 31, 26, 54, 27]   625   5\n",
      "5750000 s =  [55, 47, 1, 37, 44, 20, 9, 22]   625   16\n",
      "6000000 s =  [35, 59, 18, 31, 47, 52, 55, 19]   625   1\n",
      "6250000 s =  [44, 16, 42, 35, 47, 2, 27, 54]   625   1\n",
      "6500000 s =  [40, 7, 14, 16, 12, 34, 29, 2]   625   1\n",
      "6750000 s =  [36, 35, 60, 34, 41, 17, 7, 25]   625   5\n",
      "7000000 s =  [12, 23, 36, 5, 15, 58, 49, 51]   625   21\n",
      "7250000 s =  [5, 8, 55, 28, 27, 51, 48, 23]   625   1\n",
      "7500000 s =  [24, 15, 1, 42, 11, 19, 13, 45]   625   5\n",
      "7750000 s =  [26, 13, 9, 16, 1, 27, 40, 5]   625   1\n",
      "8000000 s =  [50, 36, 25, 33, 18, 57, 48, 5]   625   16\n",
      "8250000 s =  [38, 55, 44, 48, 22, 59, 28, 13]   625   16\n",
      "8500000 s =  [32, 10, 8, 48, 40, 34, 46, 11]   625   16\n",
      "8750000 s =  [31, 29, 24, 34, 50, 11, 26, 21]   625   21\n",
      "9000000 s =  [4, 16, 9, 2, 14, 11, 3, 60]   625   1\n",
      "9250000 s =  [6, 24, 19, 32, 55, 17, 9, 20]   625   1\n",
      "9500000 s =  [55, 26, 15, 24, 40, 51, 13, 7]   625   25\n",
      "9750000 s =  [47, 20, 34, 13, 38, 26, 44, 6]   625   1\n",
      "10000000 s =  [26, 50, 29, 7, 57, 3, 36, 27]   625   1\n",
      "10250000 s =  [50, 11, 43, 54, 38, 40, 36, 7]   625   1\n",
      "10500000 s =  [31, 23, 0, 20, 8, 3, 35, 24]   625   1\n",
      "10750000 s =  [15, 7, 38, 34, 53, 26, 3, 37]   625   1\n",
      "11000000 s =  [57, 53, 37, 32, 56, 51, 20, 8]   625   16\n",
      "11250000 s =  [42, 55, 7, 43, 30, 12, 52, 20]   625   5\n",
      "11500000 s =  [1, 22, 42, 41, 4, 43, 0, 58]   625   5\n",
      "11750000 s =  [22, 50, 47, 57, 20, 6, 15, 26]   625   1\n",
      "12000000 s =  [51, 35, 43, 39, 24, 19, 17, 57]   625   1\n",
      "12250000 s =  [11, 40, 44, 45, 16, 12, 37, 20]   625   1\n",
      "12500000 s =  [0, 49, 6, 28, 35, 56, 53, 39]   625   1\n",
      "12750000 s =  [49, 28, 4, 0, 57, 21, 31, 42]   625   1\n",
      "13000000 s =  [33, 22, 3, 34, 0, 27, 57, 29]   625   1\n",
      "13250000 s =  [53, 1, 34, 2, 17, 7, 44, 5]   625   1\n"
     ]
    },
    {
     "ename": "KeyboardInterrupt",
     "evalue": "",
     "output_type": "error",
     "traceback": [
      "\u001b[0;31m---------------------------------------------------------------------------\u001b[0m",
      "\u001b[0;31mKeyboardInterrupt\u001b[0m                         Traceback (most recent call last)",
      "\u001b[0;32m<ipython-input-39-4389f24c9e95>\u001b[0m in \u001b[0;36m<module>\u001b[0;34m()\u001b[0m\n\u001b[1;32m     28\u001b[0m \u001b[0;34m\u001b[0m\u001b[0m\n\u001b[1;32m     29\u001b[0m \u001b[0;34m\u001b[0m\u001b[0m\n\u001b[0;32m---> 30\u001b[0;31m \u001b[0mR\u001b[0m \u001b[0;34m=\u001b[0m \u001b[0mfind_8_vec\u001b[0m\u001b[0;34m(\u001b[0m\u001b[0ma0\u001b[0m\u001b[0;34m,\u001b[0m \u001b[0mb0\u001b[0m\u001b[0;34m)\u001b[0m\u001b[0;34m\u001b[0m\u001b[0m\n\u001b[0m\u001b[1;32m     31\u001b[0m \u001b[0mx\u001b[0m \u001b[0;34m=\u001b[0m \u001b[0;34m[\u001b[0m\u001b[0;34m[\u001b[0m\u001b[0mi\u001b[0m\u001b[0;34m,\u001b[0m\u001b[0mj\u001b[0m\u001b[0;34m,\u001b[0m\u001b[0mk\u001b[0m\u001b[0;34m,\u001b[0m\u001b[0ml\u001b[0m\u001b[0;34m]\u001b[0m \u001b[0;32mfor\u001b[0m \u001b[0ml\u001b[0m \u001b[0;32min\u001b[0m \u001b[0mrange\u001b[0m\u001b[0;34m(\u001b[0m\u001b[0;36m3\u001b[0m\u001b[0;34m,\u001b[0m\u001b[0;36m8\u001b[0m\u001b[0;34m)\u001b[0m \u001b[0;32mfor\u001b[0m \u001b[0mk\u001b[0m \u001b[0;32min\u001b[0m \u001b[0mrange\u001b[0m\u001b[0;34m(\u001b[0m\u001b[0;36m2\u001b[0m\u001b[0;34m,\u001b[0m\u001b[0;36m7\u001b[0m\u001b[0;34m)\u001b[0m \u001b[0;32mfor\u001b[0m \u001b[0mj\u001b[0m \u001b[0;32min\u001b[0m \u001b[0mrange\u001b[0m\u001b[0;34m(\u001b[0m\u001b[0;36m1\u001b[0m\u001b[0;34m,\u001b[0m\u001b[0;36m6\u001b[0m\u001b[0;34m)\u001b[0m \u001b[0;32mfor\u001b[0m \u001b[0mi\u001b[0m \u001b[0;32min\u001b[0m \u001b[0mrange\u001b[0m\u001b[0;34m(\u001b[0m\u001b[0;36m5\u001b[0m\u001b[0;34m)\u001b[0m\u001b[0;34m]\u001b[0m\u001b[0;34m\u001b[0m\u001b[0m\n\u001b[1;32m     32\u001b[0m \u001b[0;32mfor\u001b[0m \u001b[0mi\u001b[0m \u001b[0;32min\u001b[0m \u001b[0mx\u001b[0m\u001b[0;34m:\u001b[0m\u001b[0;34m\u001b[0m\u001b[0m\n",
      "\u001b[0;32m<ipython-input-39-4389f24c9e95>\u001b[0m in \u001b[0;36mfind_8_vec\u001b[0;34m(a0, b0)\u001b[0m\n\u001b[1;32m     20\u001b[0m             \u001b[0mc2\u001b[0m \u001b[0;34m=\u001b[0m \u001b[0mc2\u001b[0m \u001b[0;34m+\u001b[0m \u001b[0;36m1\u001b[0m\u001b[0;34m\u001b[0m\u001b[0m\n\u001b[1;32m     21\u001b[0m             \u001b[0mW\u001b[0m \u001b[0;34m=\u001b[0m \u001b[0;34m[\u001b[0m\u001b[0ma0\u001b[0m\u001b[0;34m,\u001b[0m\u001b[0mb0\u001b[0m\u001b[0;34m]\u001b[0m \u001b[0;34m+\u001b[0m \u001b[0;34m[\u001b[0m\u001b[0mS\u001b[0m\u001b[0;34m[\u001b[0m\u001b[0mj\u001b[0m\u001b[0;34m]\u001b[0m \u001b[0;32mfor\u001b[0m \u001b[0mj\u001b[0m \u001b[0;32min\u001b[0m \u001b[0mrange\u001b[0m\u001b[0;34m(\u001b[0m\u001b[0;36m8\u001b[0m\u001b[0;34m)\u001b[0m \u001b[0;32mif\u001b[0m \u001b[0mj\u001b[0m \u001b[0;32min\u001b[0m \u001b[0mi\u001b[0m\u001b[0;34m]\u001b[0m\u001b[0;34m\u001b[0m\u001b[0m\n\u001b[0;32m---> 22\u001b[0;31m             \u001b[0;32mif\u001b[0m \u001b[0;32mnot\u001b[0m \u001b[0mis_independent\u001b[0m\u001b[0;34m(\u001b[0m\u001b[0mW\u001b[0m\u001b[0;34m)\u001b[0m\u001b[0;34m:\u001b[0m\u001b[0;34m\u001b[0m\u001b[0m\n\u001b[0m\u001b[1;32m     23\u001b[0m                 \u001b[0mA\u001b[0m \u001b[0;34m=\u001b[0m \u001b[0;32mFalse\u001b[0m\u001b[0;34m\u001b[0m\u001b[0m\n\u001b[1;32m     24\u001b[0m                 \u001b[0;32mbreak\u001b[0m\u001b[0;34m\u001b[0m\u001b[0m\n",
      "\u001b[0;32m~/Downloads/CodingTheMatrix/Ch07-Dimension/independence.py\u001b[0m in \u001b[0;36mis_independent\u001b[0;34m(L)\u001b[0m\n",
      "\u001b[0;32m~/Downloads/CodingTheMatrix/Ch07-Dimension/independence.py\u001b[0m in \u001b[0;36m_rank\u001b[0;34m(L)\u001b[0m\n",
      "\u001b[0;32m~/Downloads/CodingTheMatrix/Ch07-Dimension/independence.py\u001b[0m in \u001b[0;36m_GF2_rank\u001b[0;34m(rowlist)\u001b[0m\n",
      "\u001b[0;32m~/Downloads/CodingTheMatrix/Ch07-Dimension/independence.py\u001b[0m in \u001b[0;36m__add__\u001b[0;34m(u, v)\u001b[0m\n\u001b[1;32m     19\u001b[0m \u001b[0;34m\u001b[0m\u001b[0m\n\u001b[1;32m     20\u001b[0m     \u001b[0mpycData\u001b[0m \u001b[0;34m=\u001b[0m \u001b[0mbase64\u001b[0m\u001b[0;34m.\u001b[0m\u001b[0mdecodebytes\u001b[0m\u001b[0;34m(\u001b[0m\u001b[0mpycData\u001b[0m\u001b[0;34m)\u001b[0m\u001b[0;34m\u001b[0m\u001b[0m\n\u001b[0;32m---> 21\u001b[0;31m \u001b[0;34m\u001b[0m\u001b[0m\n\u001b[0m\u001b[1;32m     22\u001b[0m     \u001b[0;32massert\u001b[0m \u001b[0mpycData\u001b[0m\u001b[0;34m[\u001b[0m\u001b[0;34m:\u001b[0m\u001b[0;36m4\u001b[0m\u001b[0;34m]\u001b[0m \u001b[0;34m==\u001b[0m \u001b[0mmagic\u001b[0m\u001b[0;34m,\u001b[0m \u001b[0;34m\"Bad magic number\"\u001b[0m\u001b[0;34m\u001b[0m\u001b[0m\n\u001b[1;32m     23\u001b[0m \u001b[0;34m\u001b[0m\u001b[0m\n",
      "\u001b[0;32m~/Downloads/CodingTheMatrix/Ch07-Dimension/independence.py\u001b[0m in \u001b[0;36m<dictcomp>\u001b[0;34m(.0)\u001b[0m\n\u001b[1;32m     19\u001b[0m \u001b[0;34m\u001b[0m\u001b[0m\n\u001b[1;32m     20\u001b[0m     \u001b[0mpycData\u001b[0m \u001b[0;34m=\u001b[0m \u001b[0mbase64\u001b[0m\u001b[0;34m.\u001b[0m\u001b[0mdecodebytes\u001b[0m\u001b[0;34m(\u001b[0m\u001b[0mpycData\u001b[0m\u001b[0;34m)\u001b[0m\u001b[0;34m\u001b[0m\u001b[0m\n\u001b[0;32m---> 21\u001b[0;31m \u001b[0;34m\u001b[0m\u001b[0m\n\u001b[0m\u001b[1;32m     22\u001b[0m     \u001b[0;32massert\u001b[0m \u001b[0mpycData\u001b[0m\u001b[0;34m[\u001b[0m\u001b[0;34m:\u001b[0m\u001b[0;36m4\u001b[0m\u001b[0;34m]\u001b[0m \u001b[0;34m==\u001b[0m \u001b[0mmagic\u001b[0m\u001b[0;34m,\u001b[0m \u001b[0;34m\"Bad magic number\"\u001b[0m\u001b[0;34m\u001b[0m\u001b[0m\n\u001b[1;32m     23\u001b[0m \u001b[0;34m\u001b[0m\u001b[0m\n",
      "\u001b[0;32m~/Downloads/CodingTheMatrix/Ch07-Dimension/independence.py\u001b[0m in \u001b[0;36m__getitem__\u001b[0;34m(v, k)\u001b[0m\n\u001b[1;32m      7\u001b[0m     \u001b[0mmagic\u001b[0m \u001b[0;34m=\u001b[0m \u001b[0mimp\u001b[0m\u001b[0;34m.\u001b[0m\u001b[0mget_magic\u001b[0m\u001b[0;34m(\u001b[0m\u001b[0;34m)\u001b[0m\u001b[0;34m\u001b[0m\u001b[0m\n\u001b[1;32m      8\u001b[0m     \u001b[0;32mif\u001b[0m \u001b[0mmagic\u001b[0m \u001b[0;34m==\u001b[0m \u001b[0;34mb'\\xee\\x0c\\r\\n'\u001b[0m\u001b[0;34m:\u001b[0m \u001b[0;31m# Python 3.4\u001b[0m\u001b[0;34m\u001b[0m\u001b[0m\n\u001b[0;32m----> 9\u001b[0;31m         \u001b[0mpycData\u001b[0m \u001b[0;34m=\u001b[0m \u001b[0;34mb'7gwNCj16/FTtDQAA4wAAAAAAAAAAAAAAAAMAAABAAAAAc4YAAABkAABkAQBsAABaAABHZAIAZAMA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\\ndWxlPgIAAABzFAAAAAwCExcPCAwNDAoMHwwgCQEJAQkB\\n'\u001b[0m\u001b[0;34m\u001b[0m\u001b[0m\n\u001b[0m\u001b[1;32m     10\u001b[0m         \u001b[0moffset\u001b[0m \u001b[0;34m=\u001b[0m \u001b[0;36m12\u001b[0m\u001b[0;34m\u001b[0m\u001b[0m\n\u001b[1;32m     11\u001b[0m     \u001b[0;32melif\u001b[0m \u001b[0mmagic\u001b[0m \u001b[0;34m==\u001b[0m \u001b[0;34mb'\\x17\\r\\r\\n'\u001b[0m\u001b[0;34m:\u001b[0m \u001b[0;31m# Python 3.5\u001b[0m\u001b[0;34m\u001b[0m\u001b[0m\n",
      "\u001b[0;31mKeyboardInterrupt\u001b[0m: "
     ]
    }
   ],
   "source": [
    "# Task 8.7.2\n",
    "\n",
    "from independence import *\n",
    "import random\n",
    "\n",
    "def find_8_vec(a0, b0):\n",
    "    z = [0, one]\n",
    "    a = [list2vec([i, j, k, l, m, n]) for i in z for j in z for k in z for l in z for m in z for n in z]\n",
    "    T = [i for i in a if i != a0 and i != b0]\n",
    "    y = [i for i in range(len(T))]\n",
    "    \n",
    "    x = [[i,j,k,l] for l in range(3,8) for k in range(2,7) for j in range(1,6) for i in range(5)]\n",
    "    count = 0\n",
    "    while True:\n",
    "        s = random.sample(y, 8)\n",
    "        S = [T[i] for i in s]\n",
    "        A = True\n",
    "        c2 = 0\n",
    "        for i in x:\n",
    "            c2 = c2 + 1\n",
    "            W = [a0,b0] + [S[j] for j in range(8) if j in i]\n",
    "            if not is_independent(W):\n",
    "                A = False\n",
    "                break\n",
    "        if A: return S\n",
    "        count = count+1\n",
    "        if count%250000 == 0: print(count, 's = ', s, ' ', len(x), ' ', c2)\n",
    "\n",
    "\n",
    "R = find_8_vec(a0, b0)\n",
    "x = [[i,j,k,l] for l in range(3,8) for k in range(2,7) for j in range(1,6) for i in range(5)]\n",
    "for i in x:\n",
    "    W = [[a0,b0] + R[j] for j in range(8) if j in i]\n",
    "    if not is_independent(W): print('Not independent!!!')\n",
    "print(R)"
   ]
  },
  {
   "cell_type": "code",
   "execution_count": 18,
   "metadata": {},
   "outputs": [
    {
     "data": {
      "text/plain": [
       "5.0"
      ]
     },
     "execution_count": 18,
     "metadata": {},
     "output_type": "execute_result"
    }
   ],
   "source": [
    "# Task 8.8.1\n",
    "import math\n",
    "from factoring_support import *\n",
    "\n",
    "def root_method(N):\n",
    "    a = intsqrt(N)\n",
    "    for i in range(1000000000):\n",
    "        a = a + i\n",
    "        if a**2 >= N:\n",
    "            t = math.sqrt(a**2 - N)\n",
    "            if int(t) == t:\n",
    "                b = t\n",
    "                return a - b\n",
    "\n",
    "root_method(55)"
   ]
  },
  {
   "cell_type": "code",
   "execution_count": 19,
   "metadata": {},
   "outputs": [
    {
     "data": {
      "text/plain": [
       "7.0"
      ]
     },
     "execution_count": 19,
     "metadata": {},
     "output_type": "execute_result"
    }
   ],
   "source": [
    "root_method(77)"
   ]
  },
  {
   "cell_type": "code",
   "execution_count": 26,
   "metadata": {},
   "outputs": [],
   "source": [
    "root_method(146771)"
   ]
  },
  {
   "cell_type": "code",
   "execution_count": 27,
   "metadata": {},
   "outputs": [],
   "source": [
    "root_method(118)"
   ]
  },
  {
   "cell_type": "code",
   "execution_count": 28,
   "metadata": {},
   "outputs": [
    {
     "name": "stdout",
     "output_type": "stream",
     "text": [
      "a =  838102050\n",
      "b =  921878310\n",
      "d =  67890\n",
      "a % d =  0\n",
      "b % d =  0\n",
      "d >= s :  True\n"
     ]
    }
   ],
   "source": [
    "# Task 8.8.2\n",
    "\n",
    "from factoring_support import *\n",
    "\n",
    "r = 12345\n",
    "s = 67890\n",
    "t = 13579\n",
    "a = r*s\n",
    "b = s*t\n",
    "\n",
    "d = gcd(a, b)\n",
    "\n",
    "print('a = ', a)\n",
    "print('b = ', b)\n",
    "print('d = ', d)\n",
    "print('a % d = ', a%d)\n",
    "print('b % d = ', b%d)\n",
    "print('d >= s : ', d>=s)"
   ]
  },
  {
   "cell_type": "code",
   "execution_count": 31,
   "metadata": {},
   "outputs": [
    {
     "name": "stdout",
     "output_type": "stream",
     "text": [
      "a*a - b*b % N == 0 :  True\n",
      "gcd(N,a-b) =  19117318483477\n"
     ]
    }
   ],
   "source": [
    "# Task 8.8.3\n",
    "\n",
    "N = 367160330145890434494322103\n",
    "a = 67469780066325164\n",
    "b = 9429601150488992\n",
    "\n",
    "print('a*a - b*b % N == 0 : ', True if (a*a - b*b) % N == 0 else False)\n",
    "print('gcd(N,a-b) = ', gcd(N,a-b))"
   ]
  },
  {
   "cell_type": "code",
   "execution_count": 32,
   "metadata": {},
   "outputs": [
    {
     "data": {
      "text/plain": [
       "[(2, 2), (3, 1)]"
      ]
     },
     "execution_count": 32,
     "metadata": {},
     "output_type": "execute_result"
    }
   ],
   "source": [
    "# Task 8.8.4\n",
    "\n",
    "primeset = {2,3,5,7,11,13}\n",
    "x = 12\n",
    "dumb_factor(x, primeset)"
   ]
  },
  {
   "cell_type": "code",
   "execution_count": 33,
   "metadata": {},
   "outputs": [
    {
     "data": {
      "text/plain": [
       "[(2, 1), (7, 1), (11, 1)]"
      ]
     },
     "execution_count": 33,
     "metadata": {},
     "output_type": "execute_result"
    }
   ],
   "source": [
    "x = 154\n",
    "dumb_factor(x, primeset)"
   ]
  },
  {
   "cell_type": "code",
   "execution_count": 34,
   "metadata": {},
   "outputs": [
    {
     "data": {
      "text/plain": [
       "[(2, 1), (3, 3), (11, 2), (13, 1)]"
      ]
     },
     "execution_count": 34,
     "metadata": {},
     "output_type": "execute_result"
    }
   ],
   "source": [
    "x = 2*3*3*3*11*11*13\n",
    "dumb_factor(x, primeset)"
   ]
  },
  {
   "cell_type": "code",
   "execution_count": 35,
   "metadata": {},
   "outputs": [
    {
     "data": {
      "text/plain": [
       "[]"
      ]
     },
     "execution_count": 35,
     "metadata": {},
     "output_type": "execute_result"
    }
   ],
   "source": [
    "x = 2*17\n",
    "dumb_factor(x, primeset)"
   ]
  },
  {
   "cell_type": "code",
   "execution_count": 36,
   "metadata": {},
   "outputs": [
    {
     "data": {
      "text/plain": [
       "[]"
      ]
     },
     "execution_count": 36,
     "metadata": {},
     "output_type": "execute_result"
    }
   ],
   "source": [
    "x = 2*3*5*7*19\n",
    "dumb_factor(x, primeset)"
   ]
  },
  {
   "cell_type": "code",
   "execution_count": 39,
   "metadata": {},
   "outputs": [
    {
     "data": {
      "text/plain": [
       "one"
      ]
     },
     "execution_count": 39,
     "metadata": {},
     "output_type": "execute_result"
    }
   ],
   "source": [
    "# Task 8.8.5\n",
    "\n",
    "def int2GF2(i):\n",
    "    return 0 if i % 2 == 0 else one\n",
    "\n",
    "int2GF2(3)"
   ]
  },
  {
   "cell_type": "code",
   "execution_count": 40,
   "metadata": {},
   "outputs": [
    {
     "data": {
      "text/plain": [
       "0"
      ]
     },
     "execution_count": 40,
     "metadata": {},
     "output_type": "execute_result"
    }
   ],
   "source": [
    "int2GF2(4)"
   ]
  },
  {
   "cell_type": "code",
   "execution_count": 41,
   "metadata": {},
   "outputs": [
    {
     "data": {
      "text/plain": [
       "Vec({2, 3, 5, 7, 11},{3: one})"
      ]
     },
     "execution_count": 41,
     "metadata": {},
     "output_type": "execute_result"
    }
   ],
   "source": [
    "# Task 8.8.6\n",
    "\n",
    "def make_Vec(primeset, factors):\n",
    "    return Vec(primeset, {p:int2GF2(a) for p,a in factors})\n",
    "\n",
    "make_Vec({2,3,5,7,11}, [(3,1)])"
   ]
  },
  {
   "cell_type": "code",
   "execution_count": 42,
   "metadata": {},
   "outputs": [
    {
     "data": {
      "text/plain": [
       "Vec({2, 3, 5, 7, 11},{2: one, 3: 0, 5: one, 11: one})"
      ]
     },
     "execution_count": 42,
     "metadata": {},
     "output_type": "execute_result"
    }
   ],
   "source": [
    "make_Vec({2,3,5,7,11}, [(2,17),(3,0),(5,1),(11,3)])"
   ]
  },
  {
   "cell_type": "code",
   "execution_count": 67,
   "metadata": {},
   "outputs": [
    {
     "name": "stdout",
     "output_type": "stream",
     "text": [
      "[51, 52, 53, 58, 61, 62, 63, 67, 68, 71, 77, 79]\n",
      "[Vec({2, 3, 5, 7, 11, 13, 17, 19, 23, 29, 31},{2: one, 7: one, 13: one}), Vec({2, 3, 5, 7, 11, 13, 17, 19, 23, 29, 31},{3: one, 5: one, 19: one}), Vec({2, 3, 5, 7, 11, 13, 17, 19, 23, 29, 31},{2: one, 3: one, 5: one, 13: one}), Vec({2, 3, 5, 7, 11, 13, 17, 19, 23, 29, 31},{3: one, 5: one, 7: one}), Vec({2, 3, 5, 7, 11, 13, 17, 19, 23, 29, 31},{2: one, 3: one, 7: one, 31: one}), Vec({2, 3, 5, 7, 11, 13, 17, 19, 23, 29, 31},{3: one, 5: 0, 19: one}), Vec({2, 3, 5, 7, 11, 13, 17, 19, 23, 29, 31},{2: one, 5: 0, 31: one}), Vec({2, 3, 5, 7, 11, 13, 17, 19, 23, 29, 31},{2: one, 3: 0, 5: one, 23: one}), Vec({2, 3, 5, 7, 11, 13, 17, 19, 23, 29, 31},{3: 0, 5: one, 7: 0}), Vec({2, 3, 5, 7, 11, 13, 17, 19, 23, 29, 31},{2: one, 3: one, 19: one, 23: one}), Vec({2, 3, 5, 7, 11, 13, 17, 19, 23, 29, 31},{2: one, 3: one, 5: one, 13: one}), Vec({2, 3, 5, 7, 11, 13, 17, 19, 23, 29, 31},{2: one, 3: one, 7: 0, 13: one})]\n"
     ]
    }
   ],
   "source": [
    "# Task 8.8.7\n",
    "\n",
    "def find_candidates(N, primeset):\n",
    "    roots = []\n",
    "    rowlist = []\n",
    "    \n",
    "    for x in range(intsqrt(N)+2, intsqrt(N)+2+10000000000000000000000000000000):\n",
    "        factors = dumb_factor(x*x - N, primeset)\n",
    "        #print(x, ' ', x*x - N,' ', factors, ' ', len(roots))\n",
    "        if len(factors) != 0:\n",
    "            roots = roots + [x]\n",
    "            rowlist = rowlist + [make_Vec(primeset, factors)]\n",
    "            if len(roots) == len(primeset)+1: return roots, rowlist\n",
    "\n",
    "N = 2419\n",
    "roots, rowlist = find_candidates(N, primes(32))\n",
    "print(roots)\n",
    "print(rowlist)"
   ]
  },
  {
   "cell_type": "code",
   "execution_count": 55,
   "metadata": {},
   "outputs": [
    {
     "data": {
      "text/plain": [
       "41"
      ]
     },
     "execution_count": 55,
     "metadata": {},
     "output_type": "execute_result"
    }
   ],
   "source": [
    "# Task 8.8.8\n",
    "\n",
    "a = 53*77\n",
    "b = 2*3**2*5*13\n",
    "gcd(a-b, N)"
   ]
  },
  {
   "cell_type": "code",
   "execution_count": 56,
   "metadata": {},
   "outputs": [
    {
     "data": {
      "text/plain": [
       "2419"
      ]
     },
     "execution_count": 56,
     "metadata": {},
     "output_type": "execute_result"
    }
   ],
   "source": [
    "# Task 8.8.9\n",
    "\n",
    "a = 52*67*71\n",
    "b = 2*3**2*5*19*23\n",
    "gcd(a-b, N)"
   ]
  },
  {
   "cell_type": "code",
   "execution_count": 59,
   "metadata": {},
   "outputs": [
    {
     "data": {
      "text/plain": [
       "(13498888, 778050)"
      ]
     },
     "execution_count": 59,
     "metadata": {},
     "output_type": "execute_result"
    }
   ],
   "source": [
    "# Task 8.8.10\n",
    "\n",
    "def find_a_and_b(v, roots, N):\n",
    "    alist = [roots[k] for k in v.D if v[k] != 0]\n",
    "    a = prod(alist)\n",
    "    c = prod([x*x-N for x in alist])\n",
    "    b = intsqrt(c)\n",
    "    assert b*b == c\n",
    "    return (a, b)\n",
    "\n",
    "v = Vec({0,1,2,3,4,5,6,7,8,9,10,11}, {0:0, 1:one, 2:one, 4:0, 5:one, 11:one})\n",
    "find_a_and_b(v, roots, N)"
   ]
  },
  {
   "cell_type": "code",
   "execution_count": 65,
   "metadata": {},
   "outputs": [
    {
     "data": {
      "text/plain": [
       "1"
      ]
     },
     "execution_count": 65,
     "metadata": {},
     "output_type": "execute_result"
    }
   ],
   "source": [
    "# Task 8.8.11\n",
    "import echelon\n",
    "\n",
    "N = 2461799993978700679\n",
    "primeset = primes(10000)\n",
    "roots, rowlist = find_candidates(N, primeset)\n",
    "M = echelon.transformation_rows(rowlist)\n",
    "v = M[-1]\n",
    "(a, b) = find_a_and_b(v, roots, N)\n",
    "gcd(a-b, N)"
   ]
  },
  {
   "cell_type": "code",
   "execution_count": 66,
   "metadata": {},
   "outputs": [
    {
     "data": {
      "text/plain": [
       "1230926561"
      ]
     },
     "execution_count": 66,
     "metadata": {},
     "output_type": "execute_result"
    }
   ],
   "source": [
    "v = M[-2]\n",
    "(a, b) = find_a_and_b(v, roots, N)\n",
    "gcd(a-b, N)"
   ]
  },
  {
   "cell_type": "code",
   "execution_count": 77,
   "metadata": {},
   "outputs": [
    {
     "data": {
      "text/plain": [
       "20672783502493917028427"
      ]
     },
     "execution_count": 77,
     "metadata": {},
     "output_type": "execute_result"
    }
   ],
   "source": [
    "# Task 8.8.12\n",
    "\n",
    "N = 20672783502493917028427\n",
    "primeset = primes(10000)\n",
    "roots, rowlist = find_candidates(N, primeset)\n",
    "M = echelon.transformation_rows(rowlist)\n",
    "v = M[-1]\n",
    "(a, b) = find_a_and_b(v, roots, N)\n",
    "gcd(a-b, N)"
   ]
  },
  {
   "cell_type": "code",
   "execution_count": 78,
   "metadata": {},
   "outputs": [
    {
     "data": {
      "text/plain": [
       "20672783502493917028427"
      ]
     },
     "execution_count": 78,
     "metadata": {},
     "output_type": "execute_result"
    }
   ],
   "source": [
    "v = M[-2]\n",
    "(a, b) = find_a_and_b(v, roots, N)\n",
    "gcd(a-b, N)"
   ]
  },
  {
   "cell_type": "code",
   "execution_count": 79,
   "metadata": {},
   "outputs": [
    {
     "data": {
      "text/plain": [
       "1"
      ]
     },
     "execution_count": 79,
     "metadata": {},
     "output_type": "execute_result"
    }
   ],
   "source": [
    "v = M[-3]\n",
    "(a, b) = find_a_and_b(v, roots, N)\n",
    "gcd(a-b, N)"
   ]
  },
  {
   "cell_type": "code",
   "execution_count": 80,
   "metadata": {},
   "outputs": [
    {
     "data": {
      "text/plain": [
       "20672783502493917028427"
      ]
     },
     "execution_count": 80,
     "metadata": {},
     "output_type": "execute_result"
    }
   ],
   "source": [
    "v = M[-4]\n",
    "(a, b) = find_a_and_b(v, roots, N)\n",
    "gcd(a-b, N)"
   ]
  },
  {
   "cell_type": "code",
   "execution_count": 81,
   "metadata": {},
   "outputs": [
    {
     "data": {
      "text/plain": [
       "1"
      ]
     },
     "execution_count": 81,
     "metadata": {},
     "output_type": "execute_result"
    }
   ],
   "source": [
    "v = M[-5]\n",
    "(a, b) = find_a_and_b(v, roots, N)\n",
    "gcd(a-b, N)"
   ]
  },
  {
   "cell_type": "code",
   "execution_count": 82,
   "metadata": {},
   "outputs": [
    {
     "data": {
      "text/plain": [
       "1230926561"
      ]
     },
     "execution_count": 82,
     "metadata": {},
     "output_type": "execute_result"
    }
   ],
   "source": [
    "v = M[-6]\n",
    "(a, b) = find_a_and_b(v, roots, N)\n",
    "gcd(a-b, N)"
   ]
  },
  {
   "cell_type": "code",
   "execution_count": 83,
   "metadata": {},
   "outputs": [
    {
     "data": {
      "text/plain": [
       "20672783502493917028427"
      ]
     },
     "execution_count": 83,
     "metadata": {},
     "output_type": "execute_result"
    }
   ],
   "source": [
    "# Task 8.8.13\n",
    "\n",
    "N = 20672783502493917028427\n",
    "primeset = primes(10000)\n",
    "roots, rowlist = find_candidates(N, primeset)\n",
    "M = echelon.transformation_rows(rowlist, sorted(primeset, reverse=True))\n",
    "v = M[-1]\n",
    "(a, b) = find_a_and_b(v, roots, N)\n",
    "gcd(a-b, N)"
   ]
  },
  {
   "cell_type": "code",
   "execution_count": 84,
   "metadata": {},
   "outputs": [
    {
     "data": {
      "text/plain": [
       "20672783502493917028427"
      ]
     },
     "execution_count": 84,
     "metadata": {},
     "output_type": "execute_result"
    }
   ],
   "source": [
    "v = M[-2]\n",
    "(a, b) = find_a_and_b(v, roots, N)\n",
    "gcd(a-b, N)"
   ]
  },
  {
   "cell_type": "code",
   "execution_count": 85,
   "metadata": {},
   "outputs": [
    {
     "data": {
      "text/plain": [
       "1"
      ]
     },
     "execution_count": 85,
     "metadata": {},
     "output_type": "execute_result"
    }
   ],
   "source": [
    "v = M[-3]\n",
    "(a, b) = find_a_and_b(v, roots, N)\n",
    "gcd(a-b, N)"
   ]
  },
  {
   "cell_type": "code",
   "execution_count": 86,
   "metadata": {},
   "outputs": [
    {
     "data": {
      "text/plain": [
       "20672783502493917028427"
      ]
     },
     "execution_count": 86,
     "metadata": {},
     "output_type": "execute_result"
    }
   ],
   "source": [
    "v = M[-4]\n",
    "(a, b) = find_a_and_b(v, roots, N)\n",
    "gcd(a-b, N)"
   ]
  },
  {
   "cell_type": "code",
   "execution_count": 87,
   "metadata": {},
   "outputs": [
    {
     "data": {
      "text/plain": [
       "1"
      ]
     },
     "execution_count": 87,
     "metadata": {},
     "output_type": "execute_result"
    }
   ],
   "source": [
    "v = M[-5]\n",
    "(a, b) = find_a_and_b(v, roots, N)\n",
    "gcd(a-b, N)"
   ]
  },
  {
   "cell_type": "code",
   "execution_count": 88,
   "metadata": {},
   "outputs": [
    {
     "data": {
      "text/plain": [
       "1230926561"
      ]
     },
     "execution_count": 88,
     "metadata": {},
     "output_type": "execute_result"
    }
   ],
   "source": [
    "v = M[-6]\n",
    "(a, b) = find_a_and_b(v, roots, N)\n",
    "gcd(a-b, N)"
   ]
  },
  {
   "cell_type": "code",
   "execution_count": 2,
   "metadata": {},
   "outputs": [
    {
     "data": {
      "text/plain": [
       "True"
      ]
     },
     "execution_count": 2,
     "metadata": {},
     "output_type": "execute_result"
    }
   ],
   "source": [
    "# Problem 8.9.3\n",
    "\n",
    "def first_non_zero(L):\n",
    "    for i in range(len(L)):\n",
    "        if L[i] != 0: return i\n",
    "    #return len(L)\n",
    "\n",
    "def is_echelon(A):\n",
    "    L = [first_non_zero(l) for l in A]\n",
    "    for i in range(len(L)-1):\n",
    "        if L[i] >= L[i+1]: return False\n",
    "    return True\n",
    "\n",
    "A = [[2,1,0],[0,-4,0],[0,0,1]]\n",
    "is_echelon(A)"
   ]
  },
  {
   "cell_type": "code",
   "execution_count": 3,
   "metadata": {},
   "outputs": [
    {
     "data": {
      "text/plain": [
       "False"
      ]
     },
     "execution_count": 3,
     "metadata": {},
     "output_type": "execute_result"
    }
   ],
   "source": [
    "A = [[2,1,0],[-4,0,0],[0,0,1]]\n",
    "is_echelon(A)"
   ]
  },
  {
   "cell_type": "code",
   "execution_count": 4,
   "metadata": {},
   "outputs": [
    {
     "data": {
      "text/plain": [
       "False"
      ]
     },
     "execution_count": 4,
     "metadata": {},
     "output_type": "execute_result"
    }
   ],
   "source": [
    "A = [[2,1,0],[0,3,0],[1,0,1]]\n",
    "is_echelon(A)"
   ]
  },
  {
   "cell_type": "code",
   "execution_count": 5,
   "metadata": {},
   "outputs": [
    {
     "data": {
      "text/plain": [
       "True"
      ]
     },
     "execution_count": 5,
     "metadata": {},
     "output_type": "execute_result"
    }
   ],
   "source": [
    "A = [[1,1,1,1,1],[0,2,0,1,3],[0,0,0,5,3]]\n",
    "is_echelon(A)"
   ]
  },
  {
   "cell_type": "code",
   "execution_count": 49,
   "metadata": {},
   "outputs": [
    {
     "data": {
      "text/plain": [
       "Vec({'C', 'A', 'B', 'D', 'E'},{'E': one, 'C': 0, 'B': one, 'A': one})"
      ]
     },
     "execution_count": 49,
     "metadata": {},
     "output_type": "execute_result"
    }
   ],
   "source": [
    "# Problem 8.9.6\n",
    "from vec import *\n",
    "from GF2 import *\n",
    "from vecutil import *\n",
    "\n",
    "def is_first_left(rowlist, label):\n",
    "    n = len(rowlist)\n",
    "    D = rowlist[0].D\n",
    "    for i in range(n):\n",
    "        if (rowlist[i])[label] != 0:\n",
    "            idx = list(sorted(D)).index(label)\n",
    "            t = []\n",
    "            for j in range(idx):\n",
    "                if (rowlist[i])[list(sorted(D))[j]] == 0:\n",
    "                    t.append(0)\n",
    "                else: t.append(1)\n",
    "            #print('idx, t, rowlist[i] = ', idx, t, rowlist[i])\n",
    "            if sum(t) == 0: return True\n",
    "    return False\n",
    "\n",
    "def echelon_solve(rowlist, label_list, b):\n",
    "    D = rowlist[0].D\n",
    "    x = zero_vec(D)\n",
    "    for j in reversed(range(len(rowlist))):\n",
    "        row = rowlist[j]\n",
    "        idx = [ll for ll in label_list if row[ll] != 0]\n",
    "        if len(idx) != 0:\n",
    "            c = idx[0]\n",
    "            x[c] = (b[j] - x*row)/row[c]\n",
    "    return x\n",
    "\n",
    "a0 = Vec({'A','B','C','D','E'}, {'A':one,'C':one,'D':one})\n",
    "a1 = Vec({'A','B','C','D','E'}, {'B':one,'E':one})\n",
    "a2 = Vec({'A','B','C','D','E'}, {'C':one,'E':one})\n",
    "a3 = Vec({'A','B','C','D','E'}, {'E':one})\n",
    "b = [one, 0, one, one]\n",
    "\n",
    "#is_first_left([a0,a1,a2,a3],'E')\n",
    "echelon_solve([a0,a1,a2,a3], ['A','B','C','D','E'], b)"
   ]
  },
  {
   "cell_type": "code",
   "execution_count": 50,
   "metadata": {},
   "outputs": [
    {
     "data": {
      "text/plain": [
       "Vec({'C', 'A', 'B', 'D', 'E'},{'C': one, 'B': 0, 'A': one})"
      ]
     },
     "execution_count": 50,
     "metadata": {},
     "output_type": "execute_result"
    }
   ],
   "source": [
    "a0 = Vec({'A','B','C','D','E'}, {'A':one,'B':one,'D':one})\n",
    "a1 = Vec({'A','B','C','D','E'}, {'B':one,'D':one,'E':one})\n",
    "a2 = Vec({'A','B','C','D','E'}, {'C':one,'E':one})\n",
    "a3 = Vec({'A','B','C','D','E'}, {})\n",
    "b = [one, 0, one, 0]\n",
    "\n",
    "echelon_solve([a0,a1,a2,a3], ['A','B','C','D','E'], b)"
   ]
  },
  {
   "cell_type": "code",
   "execution_count": 54,
   "metadata": {},
   "outputs": [
    {
     "data": {
      "text/plain": [
       "Vec({'D', 'A', 'B', 'C'},{'D': 0, 'C': 0, 'B': one, 'A': 0})"
      ]
     },
     "execution_count": 54,
     "metadata": {},
     "output_type": "execute_result"
    }
   ],
   "source": [
    "# Problem 8.9.7\n",
    "from mat import *\n",
    "import echelon\n",
    "\n",
    "def solve(A, b):\n",
    "    M = echelon.transformation(A)\n",
    "    U = M*A\n",
    "    col_label_list = sorted(A.D[1])\n",
    "    U_rows_dict = mat2rowdict(U)\n",
    "    rowlist = [U_rows_dict[i] for i in U_rows_dict]\n",
    "    return echelon_solve(rowlist,col_label_list, M*b)\n",
    "\n",
    "A = Mat(({'a','b','c','d'},{'A','B','C','D'}), {('a','A'):one, ('a','B'):one, ('a','D'):one,\n",
    "                                                ('b','A'):one, ('b','D'):one,\n",
    "                                                ('c','A'):one, ('c','B'):one, ('c','C'):one, ('c','D'):one,\n",
    "                                                ('d','C'):one, ('d','D'):one})\n",
    "g = Vec({'a','b','c','d'},{'a':one, 'c':one})\n",
    "solve(A,g)"
   ]
  },
  {
   "cell_type": "code",
   "execution_count": null,
   "metadata": {},
   "outputs": [],
   "source": []
  }
 ],
 "metadata": {
  "kernelspec": {
   "display_name": "Python [conda root]",
   "language": "python",
   "name": "conda-root-py"
  },
  "language_info": {
   "codemirror_mode": {
    "name": "ipython",
    "version": 3
   },
   "file_extension": ".py",
   "mimetype": "text/x-python",
   "name": "python",
   "nbconvert_exporter": "python",
   "pygments_lexer": "ipython3",
   "version": "3.6.5"
  }
 },
 "nbformat": 4,
 "nbformat_minor": 2
}

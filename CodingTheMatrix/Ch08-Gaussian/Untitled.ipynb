{
 "cells": [
  {
   "cell_type": "code",
   "execution_count": 15,
   "metadata": {},
   "outputs": [
    {
     "name": "stdout",
     "output_type": "stream",
     "text": [
      "16\n"
     ]
    },
    {
     "data": {
      "text/plain": [
       "Vec({0, 1, 2, 3, 4, 5},{0: one, 1: 0, 2: 0, 3: one, 4: 0, 5: one})"
      ]
     },
     "execution_count": 15,
     "metadata": {},
     "output_type": "execute_result"
    }
   ],
   "source": [
    "# Task 8.7.1\n",
    "from vecutil import *\n",
    "from GF2 import *\n",
    "from matutil import *\n",
    "from solver import *\n",
    "\n",
    "a0 = list2vec([one,one,0,one,0,one])\n",
    "b0 = list2vec([one,one,0,0,0,one])\n",
    "\n",
    "def choose_secret_vector(s,t):\n",
    "    z = [0, one]\n",
    "    a = [list2vec([i, j, k, l, m, n]) for i in z for j in z for k in z for l in z for m in z for n in z]\n",
    "    r = []\n",
    "    for v in a:\n",
    "        if a0*v == s and b0*v == t: r = r + [v]\n",
    "    print(len(r))\n",
    "    if len(r) % 2 == 0: return r[int(len(r)/2)]\n",
    "    else: return r[int((len(r)-1)/2)]    \n",
    "\n",
    "choose_secret_vector(one, 0)"
   ]
  },
  {
   "cell_type": "code",
   "execution_count": null,
   "metadata": {},
   "outputs": [],
   "source": [
    "# Task 8.7.2"
   ]
  },
  {
   "cell_type": "code",
   "execution_count": 18,
   "metadata": {},
   "outputs": [
    {
     "data": {
      "text/plain": [
       "5.0"
      ]
     },
     "execution_count": 18,
     "metadata": {},
     "output_type": "execute_result"
    }
   ],
   "source": [
    "# Task 8.8.1\n",
    "import math\n",
    "from factoring_support import *\n",
    "\n",
    "def root_method(N):\n",
    "    a = intsqrt(N)\n",
    "    for i in range(1000000000):\n",
    "        a = a + i\n",
    "        if a**2 >= N:\n",
    "            t = math.sqrt(a**2 - N)\n",
    "            if int(t) == t:\n",
    "                b = t\n",
    "                return a - b\n",
    "\n",
    "root_method(55)"
   ]
  },
  {
   "cell_type": "code",
   "execution_count": 19,
   "metadata": {},
   "outputs": [
    {
     "data": {
      "text/plain": [
       "7.0"
      ]
     },
     "execution_count": 19,
     "metadata": {},
     "output_type": "execute_result"
    }
   ],
   "source": [
    "root_method(77)"
   ]
  },
  {
   "cell_type": "code",
   "execution_count": 26,
   "metadata": {},
   "outputs": [],
   "source": [
    "root_method(146771)"
   ]
  },
  {
   "cell_type": "code",
   "execution_count": 27,
   "metadata": {},
   "outputs": [],
   "source": [
    "root_method(118)"
   ]
  },
  {
   "cell_type": "code",
   "execution_count": 28,
   "metadata": {},
   "outputs": [
    {
     "name": "stdout",
     "output_type": "stream",
     "text": [
      "a =  838102050\n",
      "b =  921878310\n",
      "d =  67890\n",
      "a % d =  0\n",
      "b % d =  0\n",
      "d >= s :  True\n"
     ]
    }
   ],
   "source": [
    "# Task 8.8.2\n",
    "\n",
    "from factoring_support import *\n",
    "\n",
    "r = 12345\n",
    "s = 67890\n",
    "t = 13579\n",
    "a = r*s\n",
    "b = s*t\n",
    "\n",
    "d = gcd(a, b)\n",
    "\n",
    "print('a = ', a)\n",
    "print('b = ', b)\n",
    "print('d = ', d)\n",
    "print('a % d = ', a%d)\n",
    "print('b % d = ', b%d)\n",
    "print('d >= s : ', d>=s)"
   ]
  },
  {
   "cell_type": "code",
   "execution_count": 31,
   "metadata": {},
   "outputs": [
    {
     "name": "stdout",
     "output_type": "stream",
     "text": [
      "a*a - b*b % N == 0 :  True\n",
      "gcd(N,a-b) =  19117318483477\n"
     ]
    }
   ],
   "source": [
    "# Task 8.8.3\n",
    "\n",
    "N = 367160330145890434494322103\n",
    "a = 67469780066325164\n",
    "b = 9429601150488992\n",
    "\n",
    "print('a*a - b*b % N == 0 : ', True if (a*a - b*b) % N == 0 else False)\n",
    "print('gcd(N,a-b) = ', gcd(N,a-b))"
   ]
  },
  {
   "cell_type": "code",
   "execution_count": 32,
   "metadata": {},
   "outputs": [
    {
     "data": {
      "text/plain": [
       "[(2, 2), (3, 1)]"
      ]
     },
     "execution_count": 32,
     "metadata": {},
     "output_type": "execute_result"
    }
   ],
   "source": [
    "# Task 8.8.4\n",
    "\n",
    "primeset = {2,3,5,7,11,13}\n",
    "x = 12\n",
    "dumb_factor(x, primeset)"
   ]
  },
  {
   "cell_type": "code",
   "execution_count": 33,
   "metadata": {},
   "outputs": [
    {
     "data": {
      "text/plain": [
       "[(2, 1), (7, 1), (11, 1)]"
      ]
     },
     "execution_count": 33,
     "metadata": {},
     "output_type": "execute_result"
    }
   ],
   "source": [
    "x = 154\n",
    "dumb_factor(x, primeset)"
   ]
  },
  {
   "cell_type": "code",
   "execution_count": 34,
   "metadata": {},
   "outputs": [
    {
     "data": {
      "text/plain": [
       "[(2, 1), (3, 3), (11, 2), (13, 1)]"
      ]
     },
     "execution_count": 34,
     "metadata": {},
     "output_type": "execute_result"
    }
   ],
   "source": [
    "x = 2*3*3*3*11*11*13\n",
    "dumb_factor(x, primeset)"
   ]
  },
  {
   "cell_type": "code",
   "execution_count": 35,
   "metadata": {},
   "outputs": [
    {
     "data": {
      "text/plain": [
       "[]"
      ]
     },
     "execution_count": 35,
     "metadata": {},
     "output_type": "execute_result"
    }
   ],
   "source": [
    "x = 2*17\n",
    "dumb_factor(x, primeset)"
   ]
  },
  {
   "cell_type": "code",
   "execution_count": 36,
   "metadata": {},
   "outputs": [
    {
     "data": {
      "text/plain": [
       "[]"
      ]
     },
     "execution_count": 36,
     "metadata": {},
     "output_type": "execute_result"
    }
   ],
   "source": [
    "x = 2*3*5*7*19\n",
    "dumb_factor(x, primeset)"
   ]
  },
  {
   "cell_type": "code",
   "execution_count": 39,
   "metadata": {},
   "outputs": [
    {
     "data": {
      "text/plain": [
       "one"
      ]
     },
     "execution_count": 39,
     "metadata": {},
     "output_type": "execute_result"
    }
   ],
   "source": [
    "# Task 8.8.5\n",
    "\n",
    "def int2GF2(i):\n",
    "    return 0 if i % 2 == 0 else one\n",
    "\n",
    "int2GF2(3)"
   ]
  },
  {
   "cell_type": "code",
   "execution_count": 40,
   "metadata": {},
   "outputs": [
    {
     "data": {
      "text/plain": [
       "0"
      ]
     },
     "execution_count": 40,
     "metadata": {},
     "output_type": "execute_result"
    }
   ],
   "source": [
    "int2GF2(4)"
   ]
  },
  {
   "cell_type": "code",
   "execution_count": 41,
   "metadata": {},
   "outputs": [
    {
     "data": {
      "text/plain": [
       "Vec({2, 3, 5, 7, 11},{3: one})"
      ]
     },
     "execution_count": 41,
     "metadata": {},
     "output_type": "execute_result"
    }
   ],
   "source": [
    "# Task 8.8.6\n",
    "\n",
    "def make_Vec(primeset, factors):\n",
    "    return Vec(primeset, {p:int2GF2(a) for p,a in factors})\n",
    "\n",
    "make_Vec({2,3,5,7,11}, [(3,1)])"
   ]
  },
  {
   "cell_type": "code",
   "execution_count": 42,
   "metadata": {},
   "outputs": [
    {
     "data": {
      "text/plain": [
       "Vec({2, 3, 5, 7, 11},{2: one, 3: 0, 5: one, 11: one})"
      ]
     },
     "execution_count": 42,
     "metadata": {},
     "output_type": "execute_result"
    }
   ],
   "source": [
    "make_Vec({2,3,5,7,11}, [(2,17),(3,0),(5,1),(11,3)])"
   ]
  },
  {
   "cell_type": "code",
   "execution_count": 67,
   "metadata": {},
   "outputs": [
    {
     "name": "stdout",
     "output_type": "stream",
     "text": [
      "[51, 52, 53, 58, 61, 62, 63, 67, 68, 71, 77, 79]\n",
      "[Vec({2, 3, 5, 7, 11, 13, 17, 19, 23, 29, 31},{2: one, 7: one, 13: one}), Vec({2, 3, 5, 7, 11, 13, 17, 19, 23, 29, 31},{3: one, 5: one, 19: one}), Vec({2, 3, 5, 7, 11, 13, 17, 19, 23, 29, 31},{2: one, 3: one, 5: one, 13: one}), Vec({2, 3, 5, 7, 11, 13, 17, 19, 23, 29, 31},{3: one, 5: one, 7: one}), Vec({2, 3, 5, 7, 11, 13, 17, 19, 23, 29, 31},{2: one, 3: one, 7: one, 31: one}), Vec({2, 3, 5, 7, 11, 13, 17, 19, 23, 29, 31},{3: one, 5: 0, 19: one}), Vec({2, 3, 5, 7, 11, 13, 17, 19, 23, 29, 31},{2: one, 5: 0, 31: one}), Vec({2, 3, 5, 7, 11, 13, 17, 19, 23, 29, 31},{2: one, 3: 0, 5: one, 23: one}), Vec({2, 3, 5, 7, 11, 13, 17, 19, 23, 29, 31},{3: 0, 5: one, 7: 0}), Vec({2, 3, 5, 7, 11, 13, 17, 19, 23, 29, 31},{2: one, 3: one, 19: one, 23: one}), Vec({2, 3, 5, 7, 11, 13, 17, 19, 23, 29, 31},{2: one, 3: one, 5: one, 13: one}), Vec({2, 3, 5, 7, 11, 13, 17, 19, 23, 29, 31},{2: one, 3: one, 7: 0, 13: one})]\n"
     ]
    }
   ],
   "source": [
    "# Task 8.8.7\n",
    "\n",
    "def find_candidates(N, primeset):\n",
    "    roots = []\n",
    "    rowlist = []\n",
    "    \n",
    "    for x in range(intsqrt(N)+2, intsqrt(N)+2+10000000000000000000000000000000):\n",
    "        factors = dumb_factor(x*x - N, primeset)\n",
    "        #print(x, ' ', x*x - N,' ', factors, ' ', len(roots))\n",
    "        if len(factors) != 0:\n",
    "            roots = roots + [x]\n",
    "            rowlist = rowlist + [make_Vec(primeset, factors)]\n",
    "            if len(roots) == len(primeset)+1: return roots, rowlist\n",
    "\n",
    "N = 2419\n",
    "roots, rowlist = find_candidates(N, primes(32))\n",
    "print(roots)\n",
    "print(rowlist)"
   ]
  },
  {
   "cell_type": "code",
   "execution_count": 55,
   "metadata": {},
   "outputs": [
    {
     "data": {
      "text/plain": [
       "41"
      ]
     },
     "execution_count": 55,
     "metadata": {},
     "output_type": "execute_result"
    }
   ],
   "source": [
    "# Task 8.8.8\n",
    "\n",
    "a = 53*77\n",
    "b = 2*3**2*5*13\n",
    "gcd(a-b, N)"
   ]
  },
  {
   "cell_type": "code",
   "execution_count": 56,
   "metadata": {},
   "outputs": [
    {
     "data": {
      "text/plain": [
       "2419"
      ]
     },
     "execution_count": 56,
     "metadata": {},
     "output_type": "execute_result"
    }
   ],
   "source": [
    "# Task 8.8.9\n",
    "\n",
    "a = 52*67*71\n",
    "b = 2*3**2*5*19*23\n",
    "gcd(a-b, N)"
   ]
  },
  {
   "cell_type": "code",
   "execution_count": 59,
   "metadata": {},
   "outputs": [
    {
     "data": {
      "text/plain": [
       "(13498888, 778050)"
      ]
     },
     "execution_count": 59,
     "metadata": {},
     "output_type": "execute_result"
    }
   ],
   "source": [
    "# Task 8.8.10\n",
    "\n",
    "def find_a_and_b(v, roots, N):\n",
    "    alist = [roots[k] for k in v.D if v[k] != 0]\n",
    "    a = prod(alist)\n",
    "    c = prod([x*x-N for x in alist])\n",
    "    b = intsqrt(c)\n",
    "    assert b*b == c\n",
    "    return (a, b)\n",
    "\n",
    "v = Vec({0,1,2,3,4,5,6,7,8,9,10,11}, {0:0, 1:one, 2:one, 4:0, 5:one, 11:one})\n",
    "find_a_and_b(v, roots, N)"
   ]
  },
  {
   "cell_type": "code",
   "execution_count": 65,
   "metadata": {},
   "outputs": [
    {
     "data": {
      "text/plain": [
       "1"
      ]
     },
     "execution_count": 65,
     "metadata": {},
     "output_type": "execute_result"
    }
   ],
   "source": [
    "# Task 8.8.11\n",
    "import echelon\n",
    "\n",
    "N = 2461799993978700679\n",
    "primeset = primes(10000)\n",
    "roots, rowlist = find_candidates(N, primeset)\n",
    "M = echelon.transformation_rows(rowlist)\n",
    "v = M[-1]\n",
    "(a, b) = find_a_and_b(v, roots, N)\n",
    "gcd(a-b, N)"
   ]
  },
  {
   "cell_type": "code",
   "execution_count": 66,
   "metadata": {},
   "outputs": [
    {
     "data": {
      "text/plain": [
       "1230926561"
      ]
     },
     "execution_count": 66,
     "metadata": {},
     "output_type": "execute_result"
    }
   ],
   "source": [
    "v = M[-2]\n",
    "(a, b) = find_a_and_b(v, roots, N)\n",
    "gcd(a-b, N)"
   ]
  },
  {
   "cell_type": "code",
   "execution_count": 77,
   "metadata": {},
   "outputs": [
    {
     "data": {
      "text/plain": [
       "20672783502493917028427"
      ]
     },
     "execution_count": 77,
     "metadata": {},
     "output_type": "execute_result"
    }
   ],
   "source": [
    "# Task 8.8.12\n",
    "\n",
    "N = 20672783502493917028427\n",
    "primeset = primes(10000)\n",
    "roots, rowlist = find_candidates(N, primeset)\n",
    "M = echelon.transformation_rows(rowlist)\n",
    "v = M[-1]\n",
    "(a, b) = find_a_and_b(v, roots, N)\n",
    "gcd(a-b, N)"
   ]
  },
  {
   "cell_type": "code",
   "execution_count": 78,
   "metadata": {},
   "outputs": [
    {
     "data": {
      "text/plain": [
       "20672783502493917028427"
      ]
     },
     "execution_count": 78,
     "metadata": {},
     "output_type": "execute_result"
    }
   ],
   "source": [
    "v = M[-2]\n",
    "(a, b) = find_a_and_b(v, roots, N)\n",
    "gcd(a-b, N)"
   ]
  },
  {
   "cell_type": "code",
   "execution_count": 79,
   "metadata": {},
   "outputs": [
    {
     "data": {
      "text/plain": [
       "1"
      ]
     },
     "execution_count": 79,
     "metadata": {},
     "output_type": "execute_result"
    }
   ],
   "source": [
    "v = M[-3]\n",
    "(a, b) = find_a_and_b(v, roots, N)\n",
    "gcd(a-b, N)"
   ]
  },
  {
   "cell_type": "code",
   "execution_count": 80,
   "metadata": {},
   "outputs": [
    {
     "data": {
      "text/plain": [
       "20672783502493917028427"
      ]
     },
     "execution_count": 80,
     "metadata": {},
     "output_type": "execute_result"
    }
   ],
   "source": [
    "v = M[-4]\n",
    "(a, b) = find_a_and_b(v, roots, N)\n",
    "gcd(a-b, N)"
   ]
  },
  {
   "cell_type": "code",
   "execution_count": 81,
   "metadata": {},
   "outputs": [
    {
     "data": {
      "text/plain": [
       "1"
      ]
     },
     "execution_count": 81,
     "metadata": {},
     "output_type": "execute_result"
    }
   ],
   "source": [
    "v = M[-5]\n",
    "(a, b) = find_a_and_b(v, roots, N)\n",
    "gcd(a-b, N)"
   ]
  },
  {
   "cell_type": "code",
   "execution_count": 82,
   "metadata": {},
   "outputs": [
    {
     "data": {
      "text/plain": [
       "1230926561"
      ]
     },
     "execution_count": 82,
     "metadata": {},
     "output_type": "execute_result"
    }
   ],
   "source": [
    "v = M[-6]\n",
    "(a, b) = find_a_and_b(v, roots, N)\n",
    "gcd(a-b, N)"
   ]
  },
  {
   "cell_type": "code",
   "execution_count": 83,
   "metadata": {},
   "outputs": [
    {
     "data": {
      "text/plain": [
       "20672783502493917028427"
      ]
     },
     "execution_count": 83,
     "metadata": {},
     "output_type": "execute_result"
    }
   ],
   "source": [
    "# Task 8.8.13\n",
    "\n",
    "N = 20672783502493917028427\n",
    "primeset = primes(10000)\n",
    "roots, rowlist = find_candidates(N, primeset)\n",
    "M = echelon.transformation_rows(rowlist, sorted(primeset, reverse=True))\n",
    "v = M[-1]\n",
    "(a, b) = find_a_and_b(v, roots, N)\n",
    "gcd(a-b, N)"
   ]
  },
  {
   "cell_type": "code",
   "execution_count": 84,
   "metadata": {},
   "outputs": [
    {
     "data": {
      "text/plain": [
       "20672783502493917028427"
      ]
     },
     "execution_count": 84,
     "metadata": {},
     "output_type": "execute_result"
    }
   ],
   "source": [
    "v = M[-2]\n",
    "(a, b) = find_a_and_b(v, roots, N)\n",
    "gcd(a-b, N)"
   ]
  },
  {
   "cell_type": "code",
   "execution_count": 85,
   "metadata": {},
   "outputs": [
    {
     "data": {
      "text/plain": [
       "1"
      ]
     },
     "execution_count": 85,
     "metadata": {},
     "output_type": "execute_result"
    }
   ],
   "source": [
    "v = M[-3]\n",
    "(a, b) = find_a_and_b(v, roots, N)\n",
    "gcd(a-b, N)"
   ]
  },
  {
   "cell_type": "code",
   "execution_count": 86,
   "metadata": {},
   "outputs": [
    {
     "data": {
      "text/plain": [
       "20672783502493917028427"
      ]
     },
     "execution_count": 86,
     "metadata": {},
     "output_type": "execute_result"
    }
   ],
   "source": [
    "v = M[-4]\n",
    "(a, b) = find_a_and_b(v, roots, N)\n",
    "gcd(a-b, N)"
   ]
  },
  {
   "cell_type": "code",
   "execution_count": 87,
   "metadata": {},
   "outputs": [
    {
     "data": {
      "text/plain": [
       "1"
      ]
     },
     "execution_count": 87,
     "metadata": {},
     "output_type": "execute_result"
    }
   ],
   "source": [
    "v = M[-5]\n",
    "(a, b) = find_a_and_b(v, roots, N)\n",
    "gcd(a-b, N)"
   ]
  },
  {
   "cell_type": "code",
   "execution_count": 88,
   "metadata": {},
   "outputs": [
    {
     "data": {
      "text/plain": [
       "1230926561"
      ]
     },
     "execution_count": 88,
     "metadata": {},
     "output_type": "execute_result"
    }
   ],
   "source": [
    "v = M[-6]\n",
    "(a, b) = find_a_and_b(v, roots, N)\n",
    "gcd(a-b, N)"
   ]
  },
  {
   "cell_type": "code",
   "execution_count": 2,
   "metadata": {},
   "outputs": [
    {
     "data": {
      "text/plain": [
       "True"
      ]
     },
     "execution_count": 2,
     "metadata": {},
     "output_type": "execute_result"
    }
   ],
   "source": [
    "# Problem 8.9.3\n",
    "\n",
    "def first_non_zero(L):\n",
    "    for i in range(len(L)):\n",
    "        if L[i] != 0: return i\n",
    "    #return len(L)\n",
    "\n",
    "def is_echelon(A):\n",
    "    L = [first_non_zero(l) for l in A]\n",
    "    for i in range(len(L)-1):\n",
    "        if L[i] >= L[i+1]: return False\n",
    "    return True\n",
    "\n",
    "A = [[2,1,0],[0,-4,0],[0,0,1]]\n",
    "is_echelon(A)"
   ]
  },
  {
   "cell_type": "code",
   "execution_count": 3,
   "metadata": {},
   "outputs": [
    {
     "data": {
      "text/plain": [
       "False"
      ]
     },
     "execution_count": 3,
     "metadata": {},
     "output_type": "execute_result"
    }
   ],
   "source": [
    "A = [[2,1,0],[-4,0,0],[0,0,1]]\n",
    "is_echelon(A)"
   ]
  },
  {
   "cell_type": "code",
   "execution_count": 4,
   "metadata": {},
   "outputs": [
    {
     "data": {
      "text/plain": [
       "False"
      ]
     },
     "execution_count": 4,
     "metadata": {},
     "output_type": "execute_result"
    }
   ],
   "source": [
    "A = [[2,1,0],[0,3,0],[1,0,1]]\n",
    "is_echelon(A)"
   ]
  },
  {
   "cell_type": "code",
   "execution_count": 5,
   "metadata": {},
   "outputs": [
    {
     "data": {
      "text/plain": [
       "True"
      ]
     },
     "execution_count": 5,
     "metadata": {},
     "output_type": "execute_result"
    }
   ],
   "source": [
    "A = [[1,1,1,1,1],[0,2,0,1,3],[0,0,0,5,3]]\n",
    "is_echelon(A)"
   ]
  },
  {
   "cell_type": "code",
   "execution_count": 49,
   "metadata": {},
   "outputs": [
    {
     "data": {
      "text/plain": [
       "Vec({'C', 'A', 'B', 'D', 'E'},{'E': one, 'C': 0, 'B': one, 'A': one})"
      ]
     },
     "execution_count": 49,
     "metadata": {},
     "output_type": "execute_result"
    }
   ],
   "source": [
    "# Problem 8.9.6\n",
    "from vec import *\n",
    "from GF2 import *\n",
    "from vecutil import *\n",
    "\n",
    "def is_first_left(rowlist, label):\n",
    "    n = len(rowlist)\n",
    "    D = rowlist[0].D\n",
    "    for i in range(n):\n",
    "        if (rowlist[i])[label] != 0:\n",
    "            idx = list(sorted(D)).index(label)\n",
    "            t = []\n",
    "            for j in range(idx):\n",
    "                if (rowlist[i])[list(sorted(D))[j]] == 0:\n",
    "                    t.append(0)\n",
    "                else: t.append(1)\n",
    "            #print('idx, t, rowlist[i] = ', idx, t, rowlist[i])\n",
    "            if sum(t) == 0: return True\n",
    "    return False\n",
    "\n",
    "def echelon_solve(rowlist, label_list, b):\n",
    "    D = rowlist[0].D\n",
    "    x = zero_vec(D)\n",
    "    for j in reversed(range(len(rowlist))):\n",
    "        row = rowlist[j]\n",
    "        idx = [ll for ll in label_list if row[ll] != 0]\n",
    "        if len(idx) != 0:\n",
    "            c = idx[0]\n",
    "            x[c] = (b[j] - x*row)/row[c]\n",
    "    return x\n",
    "\n",
    "a0 = Vec({'A','B','C','D','E'}, {'A':one,'C':one,'D':one})\n",
    "a1 = Vec({'A','B','C','D','E'}, {'B':one,'E':one})\n",
    "a2 = Vec({'A','B','C','D','E'}, {'C':one,'E':one})\n",
    "a3 = Vec({'A','B','C','D','E'}, {'E':one})\n",
    "b = [one, 0, one, one]\n",
    "\n",
    "#is_first_left([a0,a1,a2,a3],'E')\n",
    "echelon_solve([a0,a1,a2,a3], ['A','B','C','D','E'], b)"
   ]
  },
  {
   "cell_type": "code",
   "execution_count": 50,
   "metadata": {},
   "outputs": [
    {
     "data": {
      "text/plain": [
       "Vec({'C', 'A', 'B', 'D', 'E'},{'C': one, 'B': 0, 'A': one})"
      ]
     },
     "execution_count": 50,
     "metadata": {},
     "output_type": "execute_result"
    }
   ],
   "source": [
    "a0 = Vec({'A','B','C','D','E'}, {'A':one,'B':one,'D':one})\n",
    "a1 = Vec({'A','B','C','D','E'}, {'B':one,'D':one,'E':one})\n",
    "a2 = Vec({'A','B','C','D','E'}, {'C':one,'E':one})\n",
    "a3 = Vec({'A','B','C','D','E'}, {})\n",
    "b = [one, 0, one, 0]\n",
    "\n",
    "echelon_solve([a0,a1,a2,a3], ['A','B','C','D','E'], b)"
   ]
  },
  {
   "cell_type": "code",
   "execution_count": 54,
   "metadata": {},
   "outputs": [
    {
     "data": {
      "text/plain": [
       "Vec({'D', 'A', 'B', 'C'},{'D': 0, 'C': 0, 'B': one, 'A': 0})"
      ]
     },
     "execution_count": 54,
     "metadata": {},
     "output_type": "execute_result"
    }
   ],
   "source": [
    "# Problem 8.9.7\n",
    "from mat import *\n",
    "import echelon\n",
    "\n",
    "def solve(A, b):\n",
    "    M = echelon.transformation(A)\n",
    "    U = M*A\n",
    "    col_label_list = sorted(A.D[1])\n",
    "    U_rows_dict = mat2rowdict(U)\n",
    "    rowlist = [U_rows_dict[i] for i in U_rows_dict]\n",
    "    return echelon_solve(rowlist,col_label_list, M*b)\n",
    "\n",
    "A = Mat(({'a','b','c','d'},{'A','B','C','D'}), {('a','A'):one, ('a','B'):one, ('a','D'):one,\n",
    "                                                ('b','A'):one, ('b','D'):one,\n",
    "                                                ('c','A'):one, ('c','B'):one, ('c','C'):one, ('c','D'):one,\n",
    "                                                ('d','C'):one, ('d','D'):one})\n",
    "g = Vec({'a','b','c','d'},{'a':one, 'c':one})\n",
    "solve(A,g)"
   ]
  },
  {
   "cell_type": "code",
   "execution_count": null,
   "metadata": {},
   "outputs": [],
   "source": []
  }
 ],
 "metadata": {
  "kernelspec": {
   "display_name": "Python [conda root]",
   "language": "python",
   "name": "conda-root-py"
  },
  "language_info": {
   "codemirror_mode": {
    "name": "ipython",
    "version": 3
   },
   "file_extension": ".py",
   "mimetype": "text/x-python",
   "name": "python",
   "nbconvert_exporter": "python",
   "pygments_lexer": "ipython3",
   "version": "3.6.5"
  }
 },
 "nbformat": 4,
 "nbformat_minor": 2
}

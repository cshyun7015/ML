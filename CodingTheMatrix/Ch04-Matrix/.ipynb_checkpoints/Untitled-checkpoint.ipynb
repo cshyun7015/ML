{
 "cells": [
  {
   "cell_type": "code",
   "execution_count": 5,
   "metadata": {},
   "outputs": [
    {
     "name": "stdout",
     "output_type": "stream",
     "text": [
      "\n",
      " concrete electricity metal plastic water\n",
      "-----------------------------------------\n",
      "      312         356    51     215   373\n",
      "\n",
      "             concrete electricity metal plastic water\n",
      "           ------------------------------------------\n",
      "   gnome  |       1.3         0.4     0     0.2   0.8\n",
      "    hoop  |         0         0.3     0     1.5   0.4\n",
      "   putty  |         0         0.5     0     0.3   0.7\n",
      " shooter  |         0         0.8  0.15     0.5   0.4\n",
      "  slinky  |         0         0.7  0.25       0   0.2\n",
      "\n",
      "\n",
      " gnome hoop putty shooter slinky\n",
      "--------------------------------\n",
      "   240   55   133      90    150\n"
     ]
    }
   ],
   "source": [
    "# Example 5.5.15\n",
    "\n",
    "from vec import *\n",
    "from matutil import *\n",
    "from solver import *\n",
    "\n",
    "D = {'metal', 'concrete', 'plastic', 'water', 'electricity'}\n",
    "v_gnome = Vec(D, {'concrete':1.3, 'plastic':.2, 'water':.8, 'electricity':.4})\n",
    "v_hoop = Vec(D, {'plastic':1.5, 'water':.4, 'electricity':.3})\n",
    "v_slinky = Vec(D, {'metal':.25, 'water':.2, 'electricity':.7})\n",
    "v_putty = Vec(D, {'plastic':.3, 'water':.7, 'electricity':.5})\n",
    "v_shooter = Vec(D, {'metal':.15, 'plastic':.5, 'water':.4, 'electricity':.8})\n",
    "print(240*v_gnome + 55*v_hoop + 150*v_slinky + 133*v_putty + 90*v_shooter)\n",
    "\n",
    "rowdict = {'gnome':v_gnome, 'hoop':v_hoop, 'slinky':v_slinky, 'putty':v_putty, 'shooter':v_shooter}\n",
    "M = rowdict2mat(rowdict)\n",
    "print(M)\n",
    "\n",
    "C = {'metal', 'concrete', 'plastic', 'water', 'electricity'}\n",
    "b = Vec(C, {'water':373.1, 'concrete':312.0, 'plastic':215.4, 'metal':51.0, 'electricity':356.0})\n",
    "solution = solve(M.transpose(), b)\n",
    "print(solution)"
   ]
  },
  {
   "cell_type": "code",
   "execution_count": 2,
   "metadata": {},
   "outputs": [],
   "source": [
    "#import imp\n",
    "#imp.reload(mat)\n",
    "from mat import *\n",
    "M = Mat(({1,3,5}, {'a'}), {(1,'a'):4, (5,'a'): 2})"
   ]
  },
  {
   "cell_type": "code",
   "execution_count": 3,
   "metadata": {},
   "outputs": [
    {
     "data": {
      "text/plain": [
       "4"
      ]
     },
     "execution_count": 3,
     "metadata": {},
     "output_type": "execute_result"
    }
   ],
   "source": [
    "M[1,'a']"
   ]
  },
  {
   "cell_type": "code",
   "execution_count": 4,
   "metadata": {},
   "outputs": [
    {
     "data": {
      "text/plain": [
       "0"
      ]
     },
     "execution_count": 4,
     "metadata": {},
     "output_type": "execute_result"
    }
   ],
   "source": [
    "M[3,'a']"
   ]
  },
  {
   "cell_type": "code",
   "execution_count": 5,
   "metadata": {},
   "outputs": [
    {
     "name": "stdout",
     "output_type": "stream",
     "text": [
      "\n",
      "       a\n",
      "     ---\n",
      " 1  |  4\n",
      " 3  |  0\n",
      " 5  |  2\n",
      "\n"
     ]
    }
   ],
   "source": [
    "print(M)"
   ]
  },
  {
   "cell_type": "code",
   "execution_count": 5,
   "metadata": {},
   "outputs": [
    {
     "name": "stdout",
     "output_type": "stream",
     "text": [
      "\n",
      " (0, 0) (0, 1) (0, 2) (0, 3) (0, 4) (1, 0) (1, 1) (1, 2) (1, 3) (1, 4) (2, 0) (2, 1) (2, 2) (2, 3) (2, 4) (3, 0) (3, 1) (3, 2) (3, 3) (3, 4) (4, 0) (4, 1) (4, 2) (4, 3) (4, 4)\n",
      "-------------------------------------------------------------------------------------------------------------------------------------------------------------------------------\n",
      "      0    one    one      0    one    one      0      0      0    one    one      0    one    one      0      0      0    one      0      0    one    one      0      0      0\n"
     ]
    },
    {
     "data": {
      "text/plain": [
       "True"
      ]
     },
     "execution_count": 5,
     "metadata": {},
     "output_type": "execute_result"
    }
   ],
   "source": [
    "from GF2 import *\n",
    "from matutil import *\n",
    "from solver import *\n",
    "\n",
    "def button_vectors(n):\n",
    "    D = {(i,j) for i in range(n) for j in range(n)}\n",
    "    vecdict = {(i, j):Vec(D, dict([((x, j), one) for x in range(max(i-1,0), min(i+2,n))]\n",
    "                                 + [((i, y), one) for y in range(max(j-1,0), min(j+2,n))]))\n",
    "              for (i, j) in D}\n",
    "    return vecdict\n",
    "\n",
    "B = coldict2mat(button_vectors(5))\n",
    "n = 5\n",
    "D = {(i,j) for i in range(n) for j in range(n)}\n",
    "s = Vec(D, {(2,2):one})\n",
    "sol = solve(B, s)\n",
    "print(sol)\n",
    "B*sol == s"
   ]
  },
  {
   "cell_type": "code",
   "execution_count": 2,
   "metadata": {},
   "outputs": [
    {
     "data": {
      "text/plain": [
       "True"
      ]
     },
     "execution_count": 2,
     "metadata": {},
     "output_type": "execute_result"
    }
   ],
   "source": [
    "from mat import *\n",
    "\n",
    "A = Mat(({0,1,2}, {0,1,2}), {(1,1):4, (0,0):0, (1,2):1, (1,0):5, (0,1):3, (0,2):2})\n",
    "B = Mat(({0,1,2}, {0,1,2}), {(1,0):5, (2,1):3, (1,1):2, (2,0):0, (0,0):1, (0,1):4})\n",
    "A*B == Mat(({0,1,2}, {0,1,2}), {(0,0):15, (0,1):12, (1,0):25, (1,1):31})"
   ]
  },
  {
   "cell_type": "code",
   "execution_count": 1,
   "metadata": {},
   "outputs": [
    {
     "name": "stdout",
     "output_type": "stream",
     "text": [
      "\n",
      "        x y\n",
      "     ------\n",
      " 3  |  -2 4\n",
      " 6  |   0 3\n",
      "\n"
     ]
    },
    {
     "data": {
      "text/plain": [
       "True"
      ]
     },
     "execution_count": 1,
     "metadata": {},
     "output_type": "execute_result"
    }
   ],
   "source": [
    "from mat import *\n",
    "\n",
    "A1 = Mat(({3, 6}, {'x','y'}), {(3,'x'):-2, (6,'y'):3})\n",
    "A2 = Mat(({3, 6}, {'x','y'}), {(3,'y'):4})\n",
    "B = Mat(({3, 6}, {'x','y'}), {(3,'x'):-2, (3,'y'):4, (6,'y'):3})\n",
    "print(A1 + A2)\n",
    "A1 + A2 == B"
   ]
  },
  {
   "cell_type": "code",
   "execution_count": 1,
   "metadata": {},
   "outputs": [
    {
     "data": {
      "text/plain": [
       "True"
      ]
     },
     "execution_count": 1,
     "metadata": {},
     "output_type": "execute_result"
    }
   ],
   "source": [
    "from mat import *\n",
    "\n",
    "A = {0:Vec({0,1},{0:1,1:2}),1:Vec({0,1},{0:3,1:4})}\n",
    "B = [Vec({0,1},{0:1,1:2}),Vec({0,1},{0:3,1:4})]\n",
    "mat2rowdict(rowdict2mat(A)) == A"
   ]
  },
  {
   "cell_type": "code",
   "execution_count": 2,
   "metadata": {},
   "outputs": [
    {
     "data": {
      "text/plain": [
       "Mat(({0, 1}, {0, 1}), {(0, 0): 1, (0, 1): 2, (1, 0): 3, (1, 1): 4})"
      ]
     },
     "execution_count": 2,
     "metadata": {},
     "output_type": "execute_result"
    }
   ],
   "source": [
    "rowdict2mat(A)"
   ]
  },
  {
   "cell_type": "code",
   "execution_count": 3,
   "metadata": {},
   "outputs": [
    {
     "data": {
      "text/plain": [
       "True"
      ]
     },
     "execution_count": 3,
     "metadata": {},
     "output_type": "execute_result"
    }
   ],
   "source": [
    "rowdict2mat(A) == rowdict2mat(B)"
   ]
  },
  {
   "cell_type": "code",
   "execution_count": 1,
   "metadata": {},
   "outputs": [
    {
     "data": {
      "text/plain": [
       "True"
      ]
     },
     "execution_count": 1,
     "metadata": {},
     "output_type": "execute_result"
    }
   ],
   "source": [
    "from mat import *\n",
    "\n",
    "v1 = Vec({1, 2, 3}, {1: 1, 2: 8})\n",
    "M1 = Mat(({1, 2, 3}, {'a', 'b', 'c'}), {(1, 'b'): 2, (2, 'a'):-1, (3, 'a'): 1, (3, 'c'): 7})\n",
    "v1*M1 == Vec({'a', 'b', 'c'},{'a': -8, 'b': 2, 'c': 0})"
   ]
  },
  {
   "cell_type": "code",
   "execution_count": 1,
   "metadata": {},
   "outputs": [
    {
     "data": {
      "text/plain": [
       "True"
      ]
     },
     "execution_count": 1,
     "metadata": {},
     "output_type": "execute_result"
    }
   ],
   "source": [
    "from mat import *\n",
    "\n",
    "A = Mat(({0,1,2}, {0,1,2}), {(1,1):4, (0,0):0, (1,2):1, (1,0):5, (0,1):3, (0,2):2})\n",
    "B = Mat(({0,1,2}, {0,1,2}), {(1,0):5, (2,1):3, (1,1):2, (2,0):0, (0,0):1, (0,1):4})\n",
    "A*B == Mat(({0,1,2}, {0,1,2}), {(0,0):15, (0,1):12, (1,0):25, (1,1):31})"
   ]
  },
  {
   "cell_type": "code",
   "execution_count": 5,
   "metadata": {},
   "outputs": [
    {
     "name": "stdout",
     "output_type": "stream",
     "text": [
      "\n",
      " 0 1   2   3 4 5   6\n",
      "--------------------\n",
      " 0 0 one one 0 0 one\n"
     ]
    }
   ],
   "source": [
    "# Task 5.14.1\n",
    "\n",
    "from matutil import *\n",
    "from GF2 import *\n",
    "from mat import *\n",
    "\n",
    "G = listlist2mat([[one, 0, one, one],[one, one, 0, one],[0, 0, 0, one],[one, one, one, 0],\n",
    "                  [0, 0, one, 0],[0, one, 0, 0],[one, 0, 0, 0]])\n",
    "#print(G)\n",
    "p = Vec(set(range(4)), {0:one, 3:one})\n",
    "print(G*p)"
   ]
  },
  {
   "cell_type": "code",
   "execution_count": 21,
   "metadata": {},
   "outputs": [
    {
     "name": "stdout",
     "output_type": "stream",
     "text": [
      "\n",
      "         0   1   2   3\n",
      "     -----------------\n",
      " 0  |  one   0   0   0\n",
      " 1  |    0 one   0   0\n",
      " 2  |    0   0 one   0\n",
      " 3  |    0   0   0 one\n",
      "\n"
     ]
    }
   ],
   "source": [
    "# Task 5.14.2\n",
    "\n",
    "\n",
    "#R = listlist2mat([[0, 0, one, 0, 0, 0, 0],[0, 0, 0, 0, one, 0, 0],\n",
    "#                  [0, 0, 0, 0, 0, one, 0],[0, 0, 0, 0, 0, 0, one]])\n",
    "R = listlist2mat([[0, 0, 0, 0, 0, 0, one],[0, 0, 0, 0, 0, one, 0],\n",
    "                  [0, 0, 0, 0, one, 0, 0],[0, 0, one, 0, 0, 0, 0]])\n",
    "\n",
    "print(R*G)"
   ]
  },
  {
   "cell_type": "code",
   "execution_count": 6,
   "metadata": {},
   "outputs": [
    {
     "name": "stdout",
     "output_type": "stream",
     "text": [
      "\n",
      "       0 1 2 3\n",
      "     ---------\n",
      " 0  |  0 0 0 0\n",
      " 1  |  0 0 0 0\n",
      " 2  |  0 0 0 0\n",
      "\n"
     ]
    }
   ],
   "source": [
    "# Task 5.14.3\n",
    "\n",
    "H = listlist2mat([[0, 0, 0, one, one, one, one],[0, one, one, 0, 0, one, one],[one, 0, one, 0, one, 0, one]])\n",
    "#print(H)\n",
    "print(H*G)"
   ]
  },
  {
   "cell_type": "code",
   "execution_count": 23,
   "metadata": {},
   "outputs": [
    {
     "name": "stdout",
     "output_type": "stream",
     "text": [
      "\n",
      " 0   1 2   3\n",
      "------------\n",
      " 0 one 0 one\n"
     ]
    }
   ],
   "source": [
    "# Task 5.14.4\n",
    "def find_error(es):\n",
    "    coldict = mat2coldict(H)\n",
    "    return Vec(set(range(7)), {key:one for key, value in coldict.items() if value == es})\n",
    "\n",
    "He = Vec(set(range(3)), {0:0, 1:one, 2:one})\n",
    "#print(find_error(He))\n",
    "\n",
    "c_ = Vec(set(range(7)), {0:one, 2:one, 3:one, 5:one, 6:one})\n",
    "es = H*c_\n",
    "#print(es)\n",
    "#print(find_error(es))\n",
    "\n",
    "c = c_ + find_error(es)\n",
    "\n",
    "print(R*c)"
   ]
  },
  {
   "cell_type": "code",
   "execution_count": 24,
   "metadata": {},
   "outputs": [
    {
     "name": "stdout",
     "output_type": "stream",
     "text": [
      "\n",
      "         0   1\n",
      "     ---------\n",
      " 0  |    0 one\n",
      " 1  |    0   0\n",
      " 2  |    0   0\n",
      " 3  |    0   0\n",
      " 4  |    0   0\n",
      " 5  |    0   0\n",
      " 6  |  one   0\n",
      "\n"
     ]
    }
   ],
   "source": [
    "# Task 5.14.5\n",
    "def find_error_matrix(S):\n",
    "    coldict = mat2coldict(S)\n",
    "    return coldict2mat({key:find_error(value) for key, value in coldict.items()})\n",
    "\n",
    "S = listlist2mat([[one, 0],[one, 0],[one, one]])\n",
    "\n",
    "print(find_error_matrix(S))"
   ]
  },
  {
   "cell_type": "code",
   "execution_count": 25,
   "metadata": {},
   "outputs": [
    {
     "name": "stdout",
     "output_type": "stream",
     "text": [
      "\u0000\u0001\u0002\u0003\u0004\u0005\u0006\u0007\b\t\n",
      "\u000b",
      "\f",
      "\r",
      "\u000e\u000f\u0010\u0011\u0012\u0013\u0014\u0015\u0016\u0017\u0018\u0019\u001a\u001b\u001c",
      "\u001d",
      "\u001e",
      "\u001f !\"#$%&'()*+,-./0123456789:;<=>?@ABCDEFGHIJKLMNOPQRSTUVWXYZ[\\]^_`abcdefghijklmnopqrstuvwxyz{|}~",
      " ¡¢£¤¥¦§¨©ª«¬­®¯°±²³´µ¶·¸¹º»¼½¾¿ÀÁÂÃÄÅÆÇÈÉÊËÌÍÎÏÐÑÒÓÔÕÖ×ØÙÚÛÜÝÞßàáâãäåæçèéêëìíîïðñòóôõö÷øùúûüýþÿ\n"
     ]
    }
   ],
   "source": [
    "s = ''.join([chr(i) for i in range(256)])\n",
    "print(s)"
   ]
  },
  {
   "cell_type": "code",
   "execution_count": 29,
   "metadata": {},
   "outputs": [
    {
     "data": {
      "text/plain": [
       "'cshyun'"
      ]
     },
     "execution_count": 29,
     "metadata": {},
     "output_type": "execute_result"
    }
   ],
   "source": [
    "# Task 5.14.6\n",
    "from bitutil import *\n",
    "\n",
    "str2bits('cshyun')\n",
    "bits2str(str2bits('cshyun'))"
   ]
  },
  {
   "cell_type": "code",
   "execution_count": 31,
   "metadata": {},
   "outputs": [
    {
     "data": {
      "text/plain": [
       "'Hello~'"
      ]
     },
     "execution_count": 31,
     "metadata": {},
     "output_type": "execute_result"
    }
   ],
   "source": [
    "# Task 5.14.7\n",
    "P = bits2mat(str2bits('Hello~'))\n",
    "bits2str(mat2bits(P))"
   ]
  },
  {
   "cell_type": "code",
   "execution_count": 32,
   "metadata": {},
   "outputs": [],
   "source": [
    "# Task 5.14.8\n",
    "P = bits2mat(str2bits(\"\"\"I'm trying to free your mind, Neo. But I can only show you the door. \n",
    "                      You're the one that has to walk through it.\"\"\"))"
   ]
  },
  {
   "cell_type": "code",
   "execution_count": 35,
   "metadata": {},
   "outputs": [
    {
     "data": {
      "text/plain": [
       "\"I'M tryi.g \\x14o freE your mind$ Neon$But(I can only show you the door. \\n!              \\x00    (`You've txe one that has to walj throufH hu.\""
      ]
     },
     "execution_count": 35,
     "metadata": {},
     "output_type": "execute_result"
    }
   ],
   "source": [
    "# Task 5.14.9\n",
    "E = noise(P, 0.02)\n",
    "bits2str(mat2bits(E + P))"
   ]
  },
  {
   "cell_type": "code",
   "execution_count": 36,
   "metadata": {},
   "outputs": [],
   "source": [
    "# Task 5.14.10\n",
    "C = G*P"
   ]
  },
  {
   "cell_type": "code",
   "execution_count": 37,
   "metadata": {},
   "outputs": [
    {
     "data": {
      "text/plain": [
       "'I\\'m trying to free your mind, \\x8ego.\\xa0But!I c`n only óhow you the doïb. \\n                 !    Yow\\'rí tHe o~e tèAt has\"to\\x00waìk uhbough it.'"
      ]
     },
     "execution_count": 37,
     "metadata": {},
     "output_type": "execute_result"
    }
   ],
   "source": [
    "# Task 5.14.11\n",
    "CTILDE = noise(C, 0.02) + C\n",
    "bits2str(mat2bits(R*CTILDE))"
   ]
  },
  {
   "cell_type": "code",
   "execution_count": 44,
   "metadata": {},
   "outputs": [],
   "source": [
    "# Task 5.14.12\n",
    "def correct(A):\n",
    "    return find_error_matrix(A)\n",
    "\n",
    "#correct(H*CTILDE)"
   ]
  },
  {
   "cell_type": "code",
   "execution_count": 45,
   "metadata": {},
   "outputs": [
    {
     "data": {
      "text/plain": [
       "\"I'm trying to free your mind, ®eo. But I can only show you the door. \\n                      You're the one that has to walk through it.\""
      ]
     },
     "execution_count": 45,
     "metadata": {},
     "output_type": "execute_result"
    }
   ],
   "source": [
    "# Task 5.14.13\n",
    "bits2str(mat2bits(R*(CTILDE + correct(H*CTILDE))))"
   ]
  },
  {
   "cell_type": "code",
   "execution_count": 1,
   "metadata": {},
   "outputs": [
    {
     "name": "stdout",
     "output_type": "stream",
     "text": [
      "Hit Enter once the image is displayed.... \n"
     ]
    }
   ],
   "source": [
    "# Task 5.15.1\n",
    "\n",
    "from image_mat_util import *\n",
    "lv, cv = file2mat('../Ch02-Field/img01.png')\n",
    "mat2display(lv, cv)"
   ]
  },
  {
   "cell_type": "code",
   "execution_count": 21,
   "metadata": {},
   "outputs": [
    {
     "name": "stdout",
     "output_type": "stream",
     "text": [
      "\n",
      " u x y\n",
      "------\n",
      " 1 0 0\n",
      "\n",
      " u x y\n",
      "------\n",
      " 1 0 0\n",
      "Hit Enter once the image is displayed.... \n"
     ]
    }
   ],
   "source": [
    "# Task 5.15.2\n",
    "from vec import *\n",
    "from mat import *\n",
    "\n",
    "def identity():\n",
    "    return Mat(({'x','y','u'}, {'x','y','u'}), {('x','x'):1, ('y','y'):1, ('u','u'):1})\n",
    "\n",
    "t = Vec({'x','y','u'}, {'x':0, 'y':0, 'u':1})\n",
    "print(t)\n",
    "print(identity()*t)\n",
    "\n",
    "lv, cv = file2mat('../Ch02-Field/img01.png')\n",
    "mat2display(identity()*lv, cv)"
   ]
  },
  {
   "cell_type": "code",
   "execution_count": 22,
   "metadata": {},
   "outputs": [
    {
     "name": "stdout",
     "output_type": "stream",
     "text": [
      "\n",
      " u x y\n",
      "------\n",
      " 1 0 0\n",
      "\n",
      " u  x  y\n",
      "--------\n",
      " 1 30 40\n",
      "Hit Enter once the image is displayed.... \n"
     ]
    }
   ],
   "source": [
    "# Task 5.15.3\n",
    "from vec import *\n",
    "from mat import *\n",
    "\n",
    "def translation(alpha, beta):\n",
    "    return Mat(({'x','y','u'}, {'x','y','u'}), {('x','x'):1, ('y','y'):1, ('u','u'):1, ('x','u'):alpha, ('y','u'):beta})\n",
    "\n",
    "t = Vec({'x','y','u'}, {'x':0, 'y':0, 'u':1})\n",
    "print(t)\n",
    "print(translation(30, 40)*t)\n",
    "\n",
    "lv, cv = file2mat('../Ch02-Field/img01.png')\n",
    "mat2display(translation(30, 40)*lv, cv)"
   ]
  },
  {
   "cell_type": "code",
   "execution_count": 9,
   "metadata": {},
   "outputs": [
    {
     "name": "stdout",
     "output_type": "stream",
     "text": [
      "\n",
      " u x y\n",
      "------\n",
      " 1 3 4\n",
      "\n",
      " u x y\n",
      "------\n",
      " 1 6 8\n",
      "Hit Enter once the image is displayed.... \n"
     ]
    }
   ],
   "source": [
    "# Task 5.15.4\n",
    "from vec import *\n",
    "from mat import *\n",
    "\n",
    "def scale(alpha, beta):\n",
    "    return Mat(({'x','y','u'}, {'x','y','u'}), {('x','x'):alpha, ('y','y'):beta, ('u','u'):1})\n",
    "\n",
    "t = Vec({'x','y','u'}, {'x':3, 'y':4, 'u':1})\n",
    "print(t)\n",
    "print(scale(2, 2)*t)\n",
    "\n",
    "lv, cv = file2mat('../Ch02-Field/img01.png')\n",
    "mat2display(scale(2, 2)*lv, cv)"
   ]
  },
  {
   "cell_type": "code",
   "execution_count": 23,
   "metadata": {},
   "outputs": [
    {
     "name": "stdout",
     "output_type": "stream",
     "text": [
      "\n",
      " u x y\n",
      "------\n",
      " 1 0 1\n",
      "\n",
      " u     x     y\n",
      "--------------\n",
      " 1 0.707 0.707\n",
      "Hit Enter once the image is displayed.... \n"
     ]
    }
   ],
   "source": [
    "# Task 5.15.5\n",
    "from vec import *\n",
    "from mat import *\n",
    "import math\n",
    "\n",
    "def rotation(theta):\n",
    "    return Mat(({'x','y','u'}, {'x','y','u'}), {('x','x'):math.cos(-theta), ('x','y'):-math.sin(-theta), \n",
    "                                                ('y','x'):math.sin(-theta), ('y','y'):math.cos(-theta),('u','u'):1})\n",
    "\n",
    "t = Vec({'x','y','u'}, {'x':0, 'y':1, 'u':1})\n",
    "print(t)\n",
    "print(rotation(math.pi/4)*t)\n",
    "\n",
    "lv, cv = file2mat('../Ch02-Field/img01.png')\n",
    "mat2display(rotation(math.pi/4)*lv, cv)"
   ]
  },
  {
   "cell_type": "code",
   "execution_count": 27,
   "metadata": {},
   "outputs": [
    {
     "name": "stdout",
     "output_type": "stream",
     "text": [
      "\n",
      " u x  y\n",
      "-------\n",
      " 1 0 30\n",
      "\n",
      " u    x     y\n",
      "-------------\n",
      " 1 21.2 -8.79\n",
      "Hit Enter once the image is displayed.... \n"
     ]
    }
   ],
   "source": [
    "# Task 5.15.6\n",
    "from vec import *\n",
    "from mat import *\n",
    "import math\n",
    "\n",
    "def rotation_about(theta, x, y):\n",
    "    return translation(x, y)*rotation(theta)\n",
    "\n",
    "t = Vec({'x','y','u'}, {'x':0, 'y':30, 'u':1})\n",
    "print(t)\n",
    "print(rotation_about(math.pi/4, 0, -30)*t)\n",
    "\n",
    "lv, cv = file2mat('../Ch02-Field/img01.png')\n",
    "mat2display(rotation_about(math.pi/4, 0, -30)*lv, cv)"
   ]
  },
  {
   "cell_type": "code",
   "execution_count": 18,
   "metadata": {},
   "outputs": [
    {
     "name": "stdout",
     "output_type": "stream",
     "text": [
      "\n",
      " u x y\n",
      "------\n",
      " 1 3 4\n",
      "\n",
      " u  x y\n",
      "-------\n",
      " 1 -3 4\n"
     ]
    }
   ],
   "source": [
    "# Task 5.15.7\n",
    "from vec import *\n",
    "from mat import *\n",
    "\n",
    "def reflect_y():\n",
    "    return Mat(({'x','y','u'}, {'x','y','u'}), {('x','x'):-1, ('y','y'):1, ('u','u'):1})\n",
    "\n",
    "t = Vec({'x','y','u'}, {'x':3, 'y':4, 'u':1})\n",
    "print(t)\n",
    "print(reflect_y()*t)"
   ]
  },
  {
   "cell_type": "code",
   "execution_count": 19,
   "metadata": {},
   "outputs": [
    {
     "name": "stdout",
     "output_type": "stream",
     "text": [
      "\n",
      " u x y\n",
      "------\n",
      " 1 3 4\n",
      "\n",
      " u x  y\n",
      "-------\n",
      " 1 3 -4\n"
     ]
    }
   ],
   "source": [
    "# Task 5.15.8\n",
    "from vec import *\n",
    "from mat import *\n",
    "\n",
    "def reflect_x():\n",
    "    return Mat(({'x','y','u'}, {'x','y','u'}), {('x','x'):1, ('y','y'):-1, ('u','u'):1})\n",
    "\n",
    "t = Vec({'x','y','u'}, {'x':3, 'y':4, 'u':1})\n",
    "print(t)\n",
    "print(reflect_x()*t)"
   ]
  },
  {
   "cell_type": "code",
   "execution_count": 45,
   "metadata": {},
   "outputs": [
    {
     "name": "stdout",
     "output_type": "stream",
     "text": [
      "\n",
      " u  x  y\n",
      "--------\n",
      " 1 -1 -1\n",
      "theta =  -0.7853981633974483\n",
      "\n",
      " u x y\n",
      "------\n",
      " 1 2 2\n"
     ]
    }
   ],
   "source": [
    "# Task 5.15.11\n",
    "from vec import *\n",
    "from mat import *\n",
    "import math\n",
    "\n",
    "def reflect_about(x1, y1, x2, y2):\n",
    "    x = x1\n",
    "    y = y1\n",
    "    theta = math.atan((y2-y1)/(x2-x1))\n",
    "    print('theta = ', theta)\n",
    "    return translation(x1, y1)*rotation(-theta)*reflect_x()*rotation(theta)*translation(-x1, -y1)\n",
    "\n",
    "t = Vec({'x','y','u'}, {'x':-1, 'y':-1, 'u':1})\n",
    "print(t)\n",
    "print(reflect_about(1, 0, 0, 1)*t)"
   ]
  },
  {
   "cell_type": "code",
   "execution_count": 51,
   "metadata": {},
   "outputs": [
    {
     "data": {
      "text/plain": [
       "Vec({0, 1},{0: 19, 1: 190})"
      ]
     },
     "execution_count": 51,
     "metadata": {},
     "output_type": "execute_result"
    }
   ],
   "source": [
    "# Problem 5.17.13\n",
    "from matutil import *\n",
    "\n",
    "def lin_comb_mat_vec_mult(M, v):\n",
    "    u = Vec(M.D[0], {k:0 for k in M.D[0]})\n",
    "    for i in M.D[0]:\n",
    "        for j in M.D[1]:\n",
    "            u[i] = u[i] + M[(i,j)]*v[j] \n",
    "    return Vec(u.D, {key:value for key, value in u.f.items() if value != 0})\n",
    "\n",
    "x = listlist2mat([[1, 2, 3],[10, 20, 30]])\n",
    "y = Vec(set(range(3)), {0:7, 2:4})\n",
    "lin_comb_mat_vec_mult(x, y)"
   ]
  },
  {
   "cell_type": "code",
   "execution_count": 52,
   "metadata": {},
   "outputs": [
    {
     "data": {
      "text/plain": [
       "Vec({0, 1, 2},{0: 43, 1: 86, 2: 129})"
      ]
     },
     "execution_count": 52,
     "metadata": {},
     "output_type": "execute_result"
    }
   ],
   "source": [
    "# Problem 5.17.14\n",
    "\n",
    "def lin_comb_vec_mat_mult(v, M):\n",
    "    u = Vec(M.D[1], {k:0 for k in M.D[1]})\n",
    "    for i in M.D[1]:\n",
    "        for j in M.D[0]:\n",
    "            u[i] = u[i] + M[(j,i)]*v[j] \n",
    "    return Vec(u.D, {key:value for key, value in u.f.items() if value != 0})\n",
    "\n",
    "x = Vec(set(range(2)), {0:3, 1:4})\n",
    "y = listlist2mat([[1, 2, 3],[10, 20, 30]])\n",
    "lin_comb_vec_mat_mult(x, y)"
   ]
  },
  {
   "cell_type": "code",
   "execution_count": 53,
   "metadata": {},
   "outputs": [
    {
     "data": {
      "text/plain": [
       "Vec({0, 1, 2},{0: 1, 1: 5, 2: 30})"
      ]
     },
     "execution_count": 53,
     "metadata": {},
     "output_type": "execute_result"
    }
   ],
   "source": [
    "# Problem 5.17.15\n",
    "\n",
    "def dot_product_mat_vec_mult(M, v):\n",
    "    dic = mat2rowdict(M)\n",
    "    u = Vec(M.D[0], {k:0 for k in M.D[0]})\n",
    "    for i in M.D[0]:\n",
    "        u[i] = dot(dic[i], v)\n",
    "    return u\n",
    "\n",
    "x = listlist2mat([[1, 2],[3, 4],[10, 0]])\n",
    "y = Vec(set(range(2)), {0:3, 1:-1})\n",
    "dot_product_mat_vec_mult(x, y)"
   ]
  },
  {
   "cell_type": "code",
   "execution_count": 54,
   "metadata": {},
   "outputs": [
    {
     "data": {
      "text/plain": [
       "Vec({0, 1, 2},{0: 43, 1: 86, 2: 129})"
      ]
     },
     "execution_count": 54,
     "metadata": {},
     "output_type": "execute_result"
    }
   ],
   "source": [
    "# Problem 5.17.16\n",
    "\n",
    "def dot_product_vec_mat_mult(v, M):\n",
    "    dic = mat2coldict(M)\n",
    "    u = Vec(M.D[1], {k:0 for k in M.D[1]})\n",
    "    for i in M.D[1]:\n",
    "        u[i] = dot(dic[i], v)\n",
    "    return u\n",
    "\n",
    "x = Vec(set(range(2)), {0:3, 1:4})\n",
    "y = listlist2mat([[1, 2, 3],[10, 20, 30]])\n",
    "dot_product_vec_mat_mult(x, y)"
   ]
  },
  {
   "cell_type": "code",
   "execution_count": 70,
   "metadata": {},
   "outputs": [],
   "source": [
    "# Problem 5.17.19\n",
    "\n",
    "f = open('UN_voting_data.txt')\n",
    "mylist = list(f)\n",
    "\n",
    "dic = {}\n",
    "n = len(mylist[0].split())-1\n",
    "for l in mylist:\n",
    "    t = l.split()\n",
    "    dic[t[0]] = [int(x) for x in t[1::]]\n",
    "\n",
    "A = Mat((set(range(n)), set(dic.keys())), {(i,k):e for (i, e) in enumerate(v) for (k, v) in dic.items()})\n",
    "\n",
    "#f = {}\n",
    "#for k, v in dic.items():\n",
    "#    for i, e in enumerate(v):\n",
    "#        f[(i, k)] = e"
   ]
  },
  {
   "cell_type": "code",
   "execution_count": 71,
   "metadata": {},
   "outputs": [
    {
     "ename": "KeyboardInterrupt",
     "evalue": "",
     "output_type": "error",
     "traceback": [
      "\u001b[0;31m---------------------------------------------------------------------------\u001b[0m",
      "\u001b[0;31mKeyboardInterrupt\u001b[0m                         Traceback (most recent call last)",
      "\u001b[0;32m<ipython-input-71-c0ea5628f6d3>\u001b[0m in \u001b[0;36m<module>\u001b[0;34m()\u001b[0m\n\u001b[0;32m----> 1\u001b[0;31m \u001b[0mM\u001b[0m \u001b[0;34m=\u001b[0m \u001b[0mtranspose\u001b[0m\u001b[0;34m(\u001b[0m\u001b[0mA\u001b[0m\u001b[0;34m)\u001b[0m\u001b[0;34m*\u001b[0m\u001b[0mA\u001b[0m\u001b[0;34m\u001b[0m\u001b[0m\n\u001b[0m",
      "\u001b[0;32m~/Downloads/CodingTheMatrix/Ch04-Matrix/mat.py\u001b[0m in \u001b[0;36m__mul__\u001b[0;34m(self, other)\u001b[0m\n\u001b[1;32m    286\u001b[0m     \u001b[0;32mdef\u001b[0m \u001b[0m__mul__\u001b[0m\u001b[0;34m(\u001b[0m\u001b[0mself\u001b[0m\u001b[0;34m,\u001b[0m\u001b[0mother\u001b[0m\u001b[0;34m)\u001b[0m\u001b[0;34m:\u001b[0m\u001b[0;34m\u001b[0m\u001b[0m\n\u001b[1;32m    287\u001b[0m         \u001b[0;32mif\u001b[0m \u001b[0mMat\u001b[0m \u001b[0;34m==\u001b[0m \u001b[0mtype\u001b[0m\u001b[0;34m(\u001b[0m\u001b[0mother\u001b[0m\u001b[0;34m)\u001b[0m\u001b[0;34m:\u001b[0m\u001b[0;34m\u001b[0m\u001b[0m\n\u001b[0;32m--> 288\u001b[0;31m             \u001b[0;32mreturn\u001b[0m \u001b[0mmatrix_matrix_mul\u001b[0m\u001b[0;34m(\u001b[0m\u001b[0mself\u001b[0m\u001b[0;34m,\u001b[0m\u001b[0mother\u001b[0m\u001b[0;34m)\u001b[0m\u001b[0;34m\u001b[0m\u001b[0m\n\u001b[0m\u001b[1;32m    289\u001b[0m         \u001b[0;32melif\u001b[0m \u001b[0mVec\u001b[0m \u001b[0;34m==\u001b[0m \u001b[0mtype\u001b[0m\u001b[0;34m(\u001b[0m\u001b[0mother\u001b[0m\u001b[0;34m)\u001b[0m\u001b[0;34m:\u001b[0m\u001b[0;34m\u001b[0m\u001b[0m\n\u001b[1;32m    290\u001b[0m             \u001b[0;32mreturn\u001b[0m \u001b[0mmatrix_vector_mul\u001b[0m\u001b[0;34m(\u001b[0m\u001b[0mself\u001b[0m\u001b[0;34m,\u001b[0m\u001b[0mother\u001b[0m\u001b[0;34m)\u001b[0m\u001b[0;34m\u001b[0m\u001b[0m\n",
      "\u001b[0;32m~/Downloads/CodingTheMatrix/Ch04-Matrix/mat.py\u001b[0m in \u001b[0;36mmatrix_matrix_mul\u001b[0;34m(A, B)\u001b[0m\n\u001b[1;32m    264\u001b[0m \u001b[0;34m\u001b[0m\u001b[0m\n\u001b[1;32m    265\u001b[0m     \u001b[0mdic_A\u001b[0m \u001b[0;34m=\u001b[0m \u001b[0mmat2rowdict\u001b[0m\u001b[0;34m(\u001b[0m\u001b[0mA\u001b[0m\u001b[0;34m)\u001b[0m\u001b[0;34m\u001b[0m\u001b[0m\n\u001b[0;32m--> 266\u001b[0;31m     \u001b[0mdic_m\u001b[0m \u001b[0;34m=\u001b[0m \u001b[0;34m{\u001b[0m\u001b[0mkey\u001b[0m\u001b[0;34m:\u001b[0m\u001b[0mvector_matrix_mul\u001b[0m\u001b[0;34m(\u001b[0m\u001b[0mvalue\u001b[0m\u001b[0;34m,\u001b[0m\u001b[0mB\u001b[0m\u001b[0;34m)\u001b[0m \u001b[0;32mfor\u001b[0m \u001b[0mkey\u001b[0m\u001b[0;34m,\u001b[0m \u001b[0mvalue\u001b[0m \u001b[0;32min\u001b[0m \u001b[0mdic_A\u001b[0m\u001b[0;34m.\u001b[0m\u001b[0mitems\u001b[0m\u001b[0;34m(\u001b[0m\u001b[0;34m)\u001b[0m\u001b[0;34m}\u001b[0m\u001b[0;34m\u001b[0m\u001b[0m\n\u001b[0m\u001b[1;32m    267\u001b[0m     \u001b[0;32mreturn\u001b[0m \u001b[0mrowdict2mat\u001b[0m\u001b[0;34m(\u001b[0m\u001b[0mdic_m\u001b[0m\u001b[0;34m)\u001b[0m\u001b[0;34m\u001b[0m\u001b[0m\n\u001b[1;32m    268\u001b[0m \u001b[0;34m\u001b[0m\u001b[0m\n",
      "\u001b[0;32m~/Downloads/CodingTheMatrix/Ch04-Matrix/mat.py\u001b[0m in \u001b[0;36m<dictcomp>\u001b[0;34m(.0)\u001b[0m\n\u001b[1;32m    264\u001b[0m \u001b[0;34m\u001b[0m\u001b[0m\n\u001b[1;32m    265\u001b[0m     \u001b[0mdic_A\u001b[0m \u001b[0;34m=\u001b[0m \u001b[0mmat2rowdict\u001b[0m\u001b[0;34m(\u001b[0m\u001b[0mA\u001b[0m\u001b[0;34m)\u001b[0m\u001b[0;34m\u001b[0m\u001b[0m\n\u001b[0;32m--> 266\u001b[0;31m     \u001b[0mdic_m\u001b[0m \u001b[0;34m=\u001b[0m \u001b[0;34m{\u001b[0m\u001b[0mkey\u001b[0m\u001b[0;34m:\u001b[0m\u001b[0mvector_matrix_mul\u001b[0m\u001b[0;34m(\u001b[0m\u001b[0mvalue\u001b[0m\u001b[0;34m,\u001b[0m\u001b[0mB\u001b[0m\u001b[0;34m)\u001b[0m \u001b[0;32mfor\u001b[0m \u001b[0mkey\u001b[0m\u001b[0;34m,\u001b[0m \u001b[0mvalue\u001b[0m \u001b[0;32min\u001b[0m \u001b[0mdic_A\u001b[0m\u001b[0;34m.\u001b[0m\u001b[0mitems\u001b[0m\u001b[0;34m(\u001b[0m\u001b[0;34m)\u001b[0m\u001b[0;34m}\u001b[0m\u001b[0;34m\u001b[0m\u001b[0m\n\u001b[0m\u001b[1;32m    267\u001b[0m     \u001b[0;32mreturn\u001b[0m \u001b[0mrowdict2mat\u001b[0m\u001b[0;34m(\u001b[0m\u001b[0mdic_m\u001b[0m\u001b[0;34m)\u001b[0m\u001b[0;34m\u001b[0m\u001b[0m\n\u001b[1;32m    268\u001b[0m \u001b[0;34m\u001b[0m\u001b[0m\n",
      "\u001b[0;32m~/Downloads/CodingTheMatrix/Ch04-Matrix/mat.py\u001b[0m in \u001b[0;36mvector_matrix_mul\u001b[0;34m(v, M)\u001b[0m\n\u001b[1;32m    155\u001b[0m     \u001b[0;32mfor\u001b[0m \u001b[0mi\u001b[0m \u001b[0;32min\u001b[0m \u001b[0mM\u001b[0m\u001b[0;34m.\u001b[0m\u001b[0mD\u001b[0m\u001b[0;34m[\u001b[0m\u001b[0;36m1\u001b[0m\u001b[0;34m]\u001b[0m\u001b[0;34m:\u001b[0m\u001b[0;34m\u001b[0m\u001b[0m\n\u001b[1;32m    156\u001b[0m         \u001b[0;32mfor\u001b[0m \u001b[0mj\u001b[0m \u001b[0;32min\u001b[0m \u001b[0mM\u001b[0m\u001b[0;34m.\u001b[0m\u001b[0mD\u001b[0m\u001b[0;34m[\u001b[0m\u001b[0;36m0\u001b[0m\u001b[0;34m]\u001b[0m\u001b[0;34m:\u001b[0m\u001b[0;34m\u001b[0m\u001b[0m\n\u001b[0;32m--> 157\u001b[0;31m             \u001b[0mu\u001b[0m\u001b[0;34m[\u001b[0m\u001b[0mi\u001b[0m\u001b[0;34m]\u001b[0m \u001b[0;34m=\u001b[0m \u001b[0mu\u001b[0m\u001b[0;34m[\u001b[0m\u001b[0mi\u001b[0m\u001b[0;34m]\u001b[0m \u001b[0;34m+\u001b[0m \u001b[0mM\u001b[0m\u001b[0;34m[\u001b[0m\u001b[0;34m(\u001b[0m\u001b[0mj\u001b[0m\u001b[0;34m,\u001b[0m\u001b[0mi\u001b[0m\u001b[0;34m)\u001b[0m\u001b[0;34m]\u001b[0m\u001b[0;34m*\u001b[0m\u001b[0mv\u001b[0m\u001b[0;34m[\u001b[0m\u001b[0mj\u001b[0m\u001b[0;34m]\u001b[0m\u001b[0;34m\u001b[0m\u001b[0m\n\u001b[0m\u001b[1;32m    158\u001b[0m     \u001b[0;32mreturn\u001b[0m \u001b[0mu\u001b[0m\u001b[0;34m\u001b[0m\u001b[0m\n\u001b[1;32m    159\u001b[0m \u001b[0;34m\u001b[0m\u001b[0m\n",
      "\u001b[0;32m~/Downloads/CodingTheMatrix/Ch04-Matrix/mat.py\u001b[0m in \u001b[0;36mgetitem\u001b[0;34m(M, k)\u001b[0m\n\u001b[1;32m     14\u001b[0m     \"\"\"\n\u001b[1;32m     15\u001b[0m     \u001b[0;32massert\u001b[0m \u001b[0mk\u001b[0m\u001b[0;34m[\u001b[0m\u001b[0;36m0\u001b[0m\u001b[0;34m]\u001b[0m \u001b[0;32min\u001b[0m \u001b[0mM\u001b[0m\u001b[0;34m.\u001b[0m\u001b[0mD\u001b[0m\u001b[0;34m[\u001b[0m\u001b[0;36m0\u001b[0m\u001b[0;34m]\u001b[0m \u001b[0;32mand\u001b[0m \u001b[0mk\u001b[0m\u001b[0;34m[\u001b[0m\u001b[0;36m1\u001b[0m\u001b[0;34m]\u001b[0m \u001b[0;32min\u001b[0m \u001b[0mM\u001b[0m\u001b[0;34m.\u001b[0m\u001b[0mD\u001b[0m\u001b[0;34m[\u001b[0m\u001b[0;36m1\u001b[0m\u001b[0;34m]\u001b[0m\u001b[0;34m\u001b[0m\u001b[0m\n\u001b[0;32m---> 16\u001b[0;31m     \u001b[0;32mreturn\u001b[0m \u001b[0mM\u001b[0m\u001b[0;34m.\u001b[0m\u001b[0mf\u001b[0m\u001b[0;34m[\u001b[0m\u001b[0mk\u001b[0m\u001b[0;34m]\u001b[0m \u001b[0;32mif\u001b[0m \u001b[0mk\u001b[0m \u001b[0;32min\u001b[0m \u001b[0mM\u001b[0m\u001b[0;34m.\u001b[0m\u001b[0mf\u001b[0m \u001b[0;32melse\u001b[0m \u001b[0;36m0\u001b[0m\u001b[0;34m\u001b[0m\u001b[0m\n\u001b[0m\u001b[1;32m     17\u001b[0m \u001b[0;34m\u001b[0m\u001b[0m\n\u001b[1;32m     18\u001b[0m \u001b[0;32mdef\u001b[0m \u001b[0mequal\u001b[0m\u001b[0;34m(\u001b[0m\u001b[0mA\u001b[0m\u001b[0;34m,\u001b[0m \u001b[0mB\u001b[0m\u001b[0;34m)\u001b[0m\u001b[0;34m:\u001b[0m\u001b[0;34m\u001b[0m\u001b[0m\n",
      "\u001b[0;31mKeyboardInterrupt\u001b[0m: "
     ]
    }
   ],
   "source": [
    "M = transpose(A)*A"
   ]
  },
  {
   "cell_type": "code",
   "execution_count": null,
   "metadata": {},
   "outputs": [],
   "source": []
  }
 ],
 "metadata": {
  "kernelspec": {
   "display_name": "Python [conda root]",
   "language": "python",
   "name": "conda-root-py"
  },
  "language_info": {
   "codemirror_mode": {
    "name": "ipython",
    "version": 3
   },
   "file_extension": ".py",
   "mimetype": "text/x-python",
   "name": "python",
   "nbconvert_exporter": "python",
   "pygments_lexer": "ipython3",
   "version": "3.6.5"
  }
 },
 "nbformat": 4,
 "nbformat_minor": 2
}

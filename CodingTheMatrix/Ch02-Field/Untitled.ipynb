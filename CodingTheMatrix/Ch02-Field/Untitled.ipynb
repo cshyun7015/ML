{
 "cells": [
  {
   "cell_type": "code",
   "execution_count": 1,
   "metadata": {},
   "outputs": [],
   "source": [
    "# Task 2.4.1\n",
    "S = {2+2j, 3+2j, 1.75+1j, 2+1j, 2.25+1j, 2.5+1j, 2.75+1j, 3+1j, 3.25+1j}\n",
    "\n",
    "from plotting import plot\n",
    "plot(S, 4)"
   ]
  },
  {
   "cell_type": "code",
   "execution_count": 2,
   "metadata": {},
   "outputs": [],
   "source": [
    "# Task 2.4.3\n",
    "plot({1+2j+z for z in S}, 4)"
   ]
  },
  {
   "cell_type": "code",
   "execution_count": 3,
   "metadata": {},
   "outputs": [],
   "source": [
    "# Task 2.4.7\n",
    "from plotting import plot\n",
    "\n",
    "plot({1/2*z for z in S}, 4, title='My scaled points')"
   ]
  },
  {
   "cell_type": "code",
   "execution_count": 4,
   "metadata": {},
   "outputs": [],
   "source": [
    "# Task 2.4.8\n",
    "plot({1/2*1j*z for z in S}, 4, title='Rotated and scaled')"
   ]
  },
  {
   "cell_type": "code",
   "execution_count": 5,
   "metadata": {},
   "outputs": [],
   "source": [
    "# Task 2.4.9\n",
    "plot({2-1j+(1/2*1j*z) for z in S}, 4)"
   ]
  },
  {
   "cell_type": "code",
   "execution_count": 6,
   "metadata": {},
   "outputs": [
    {
     "name": "stdout",
     "output_type": "stream",
     "text": [
      "width = 166\n",
      "height = 189\n"
     ]
    }
   ],
   "source": [
    "# Task 2.4.10\n",
    "from image import file2image, color2gray\n",
    "data = color2gray(file2image('img01.png'))\n",
    "width = len(data[1])\n",
    "height = len(data)\n",
    "\n",
    "print('width = ' + str(width))\n",
    "print('height = ' + str(height))\n",
    "\n",
    "pts = [x + (height-y)*1j for x in range(width) for y in range(height) if data[y][x] < 120]\n",
    "\n",
    "from plotting import plot\n",
    "plot(pts, scale=200, dot_size = 2)"
   ]
  },
  {
   "cell_type": "code",
   "execution_count": 7,
   "metadata": {},
   "outputs": [],
   "source": [
    "# Task 2.4.11\n",
    "def f(z):\n",
    "    x = min([x.real for x in z]) + (max([x.real for x in z])-min([x.real for x in z]))/2\n",
    "    y = min([x.imag for x in z]) + (max([x.imag for x in z])-min([x.imag for x in z]))/2\n",
    "    return {-x-y*1j+c for c in z}\n",
    "\n",
    "plot(f(S), scale=4)"
   ]
  },
  {
   "cell_type": "code",
   "execution_count": 8,
   "metadata": {},
   "outputs": [],
   "source": [
    "# Task 2.4.12\n",
    "plot({1/2*1j*z for z in pts}, 200, title='Rotated and scaled')"
   ]
  },
  {
   "cell_type": "code",
   "execution_count": 9,
   "metadata": {},
   "outputs": [],
   "source": [
    "# Definition 2.4.15: Argument of z is the angle in radians between z arrow and 1 + 0i arrow."
   ]
  },
  {
   "cell_type": "code",
   "execution_count": 10,
   "metadata": {},
   "outputs": [],
   "source": [
    "# Euler’s formula: For any real number θ, eθi is the point z on the unit circle with argument θ."
   ]
  },
  {
   "cell_type": "code",
   "execution_count": 11,
   "metadata": {},
   "outputs": [],
   "source": [
    "# Task 2.4.17\n",
    "import math\n",
    "n = 20\n",
    "L = [math.e**(2*math.pi*1j/(x+1)) for x in range(n)]\n",
    "plot(L, scale=4)"
   ]
  },
  {
   "cell_type": "code",
   "execution_count": 12,
   "metadata": {},
   "outputs": [],
   "source": [
    "# Task 2.4.18\n",
    "plot({c*math.e**(math.pi/4*1j) for c in S}, scale=4)"
   ]
  },
  {
   "cell_type": "code",
   "execution_count": 13,
   "metadata": {},
   "outputs": [],
   "source": [
    "# Task 2.4.19\n",
    "plot({c*math.e**(math.pi/4*1j) for c in pts}, scale=200)"
   ]
  },
  {
   "cell_type": "code",
   "execution_count": 14,
   "metadata": {},
   "outputs": [],
   "source": [
    "# Task 2.4.20\n",
    "plot({(-width*.5 - height*0.5*1j + c)*.5*math.e**(math.pi/4*1j) for c in pts}, scale=200)"
   ]
  },
  {
   "cell_type": "code",
   "execution_count": 15,
   "metadata": {},
   "outputs": [
    {
     "data": {
      "text/plain": [
       "one"
      ]
     },
     "execution_count": 15,
     "metadata": {},
     "output_type": "execute_result"
    }
   ],
   "source": [
    "from GF2 import one\n",
    "one * one"
   ]
  },
  {
   "cell_type": "code",
   "execution_count": 16,
   "metadata": {},
   "outputs": [
    {
     "data": {
      "text/plain": [
       "0"
      ]
     },
     "execution_count": 16,
     "metadata": {},
     "output_type": "execute_result"
    }
   ],
   "source": [
    "one * 0"
   ]
  },
  {
   "cell_type": "code",
   "execution_count": 17,
   "metadata": {},
   "outputs": [
    {
     "data": {
      "text/plain": [
       "one"
      ]
     },
     "execution_count": 17,
     "metadata": {},
     "output_type": "execute_result"
    }
   ],
   "source": [
    "one + 0"
   ]
  },
  {
   "cell_type": "code",
   "execution_count": 18,
   "metadata": {},
   "outputs": [
    {
     "data": {
      "text/plain": [
       "0"
      ]
     },
     "execution_count": 18,
     "metadata": {},
     "output_type": "execute_result"
    }
   ],
   "source": [
    "one + one"
   ]
  },
  {
   "cell_type": "code",
   "execution_count": 19,
   "metadata": {},
   "outputs": [
    {
     "data": {
      "text/plain": [
       "one"
      ]
     },
     "execution_count": 19,
     "metadata": {},
     "output_type": "execute_result"
    }
   ],
   "source": [
    "-one"
   ]
  },
  {
   "cell_type": "code",
   "execution_count": 32,
   "metadata": {},
   "outputs": [
    {
     "data": {
      "text/plain": [
       "['VEVLZDLVEZ ',\n",
       " 'WFWM EMWF A',\n",
       " 'XGXNAFNXGAB',\n",
       " 'YHYOBGOYHBC',\n",
       " 'ZIZPCHPZICD',\n",
       " ' J QDIQ JDE',\n",
       " 'AKAREJRAKEF',\n",
       " 'BLBSFKSBLFG',\n",
       " 'CMCTGLTCMGH',\n",
       " 'DNDUHMUDNHI',\n",
       " 'EOEVINVEOIJ',\n",
       " 'FPFWJOWFPJK',\n",
       " 'GQGXKPXGQKL',\n",
       " 'HRHYLQYHRLM',\n",
       " 'ISIZMRZISMN',\n",
       " 'JTJ NS JTNO',\n",
       " 'KUKAOTAKUOP',\n",
       " 'LVLBPUBLVPQ',\n",
       " 'MWMCQVCMWQR',\n",
       " 'NXNDRWDNXRS',\n",
       " 'OYOESXEOYST',\n",
       " 'PZPFTYFPZTU',\n",
       " 'Q QGUZGQ UV',\n",
       " 'RARHV HRAVW',\n",
       " 'SBSIWAISBWX',\n",
       " 'TCTJXBJTCXY',\n",
       " 'UDUKYCKUDYZ',\n",
       " 'VEVLZDLVEZ ',\n",
       " 'WFWM EMWF A',\n",
       " 'XGXNAFNXGAB',\n",
       " 'YHYOBGOYHBC',\n",
       " 'ZIZPCHPZICD']"
      ]
     },
     "execution_count": 32,
     "metadata": {},
     "output_type": "execute_result"
    }
   ],
   "source": [
    "# Problem 2.5.1\n",
    "T = {0:'A',1:'B',2:'C',3:'D',4:'E',5:'F',6:'G',7:'H',8:'I',9:'J',10:'K',11:'L',12:'M',\n",
    "     13:'N',14:'O',15:'P',16:'Q',17:'R',18:'S',19:'T',20:'U',21:'V',22:'W',23:'X',24:'Y',25:'Z',26:' '}\n",
    "\n",
    "def t2b(x):\n",
    "    return ''.join([str((x//2**(i))%2) for i in reversed(range(5))])\n",
    "\n",
    "Tt2b = {t2b(key):value for key,value in T.items()}\n",
    "\n",
    "co = ['10101','00100','10101','01011','11001','00011','01011','10101','00100','11001','11010']\n",
    "\n",
    "def f(i,j):\n",
    "    return t2b((int(i,2)+j)%27)\n",
    "\n",
    "[''.join([Tt2b[f(x,i)] for x in co]) for i in range(32)]"
   ]
  },
  {
   "cell_type": "code",
   "execution_count": 21,
   "metadata": {},
   "outputs": [
    {
     "data": {
      "text/plain": [
       "[1, 5, 7]"
      ]
     },
     "execution_count": 21,
     "metadata": {},
     "output_type": "execute_result"
    }
   ],
   "source": [
    "# Problem 2.7.1\n",
    "def my_filter(L, num): return [x for x in L if x % num != 0]\n",
    "L = [1,2,4,5,7]\n",
    "num = 2\n",
    "my_filter(L, num)"
   ]
  },
  {
   "cell_type": "code",
   "execution_count": 22,
   "metadata": {},
   "outputs": [
    {
     "data": {
      "text/plain": [
       "[[1], [1, 2], [1, 2, 3]]"
      ]
     },
     "execution_count": 22,
     "metadata": {},
     "output_type": "execute_result"
    }
   ],
   "source": [
    "# Problem 2.7.2\n",
    "def my_lists(L): return [[i+1 for i in range(x)] for x in L]\n",
    "my_lists([1,2,3])"
   ]
  },
  {
   "cell_type": "code",
   "execution_count": 23,
   "metadata": {},
   "outputs": [
    {
     "data": {
      "text/plain": [
       "[[]]"
      ]
     },
     "execution_count": 23,
     "metadata": {},
     "output_type": "execute_result"
    }
   ],
   "source": [
    "my_lists([0])"
   ]
  },
  {
   "cell_type": "code",
   "execution_count": 24,
   "metadata": {},
   "outputs": [
    {
     "data": {
      "text/plain": [
       "{0: 'apple', 1: 'banana'}"
      ]
     },
     "execution_count": 24,
     "metadata": {},
     "output_type": "execute_result"
    }
   ],
   "source": [
    "# Problem 2.7.3\n",
    "def my_function_composition(f, g): return {k:g[v] for k, v in f.items()}\n",
    "f = {0:'a', 1:'b'}\n",
    "g = {'a':'apple', 'b':'banana'}\n",
    "my_function_composition(f,g)"
   ]
  },
  {
   "cell_type": "code",
   "execution_count": 25,
   "metadata": {},
   "outputs": [],
   "source": [
    "# Problem 2.7.4\n",
    "def mySum(L):\n",
    "    current = 0\n",
    "    for x in L:\n",
    "        current = current + x\n",
    "    return current"
   ]
  },
  {
   "cell_type": "code",
   "execution_count": 26,
   "metadata": {},
   "outputs": [],
   "source": [
    "# Problem 2.7.5\n",
    "def myProduct(L):\n",
    "    current = 1\n",
    "    for x in L:\n",
    "        current = current * x\n",
    "    return current"
   ]
  },
  {
   "cell_type": "code",
   "execution_count": 27,
   "metadata": {},
   "outputs": [],
   "source": [
    "# Problem 2.7.6\n",
    "def myMin(L):\n",
    "    if len(L) <= 0: return None\n",
    "    current = L[0]\n",
    "    for x in L:\n",
    "        if x < current:\n",
    "            current = x\n",
    "    return current"
   ]
  },
  {
   "cell_type": "code",
   "execution_count": 28,
   "metadata": {},
   "outputs": [],
   "source": [
    "# Problem 2.7.7\n",
    "def myConcat(L):\n",
    "    current = ''\n",
    "    for x in L:\n",
    "        current = current + x\n",
    "    return current"
   ]
  },
  {
   "cell_type": "code",
   "execution_count": 29,
   "metadata": {},
   "outputs": [],
   "source": [
    "# Problem 2.7.8\n",
    "def myUnion(L):\n",
    "    current = {}\n",
    "    for x in L:\n",
    "        current = current or x\n",
    "    return current"
   ]
  },
  {
   "cell_type": "code",
   "execution_count": 30,
   "metadata": {},
   "outputs": [],
   "source": [
    "# Problem 2.7.12\n",
    "def transform(a, b, L):\n",
    "    return [a*c+b for c in L]"
   ]
  },
  {
   "cell_type": "code",
   "execution_count": null,
   "metadata": {},
   "outputs": [],
   "source": []
  }
 ],
 "metadata": {
  "kernelspec": {
   "display_name": "Python [conda root]",
   "language": "python",
   "name": "conda-root-py"
  },
  "language_info": {
   "codemirror_mode": {
    "name": "ipython",
    "version": 3
   },
   "file_extension": ".py",
   "mimetype": "text/x-python",
   "name": "python",
   "nbconvert_exporter": "python",
   "pygments_lexer": "ipython3",
   "version": "3.6.5"
  }
 },
 "nbformat": 4,
 "nbformat_minor": 2
}

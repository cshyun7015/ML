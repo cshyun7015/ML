{
 "cells": [
  {
   "cell_type": "code",
   "execution_count": 1,
   "metadata": {},
   "outputs": [],
   "source": [
    "# Task 2.4.1\n",
    "S = {2+2j, 3+2j, 1.75+1j, 2+1j, 2.25+1j, 2.5+1j, 2.75+1j, 3+1j, 3.25+1j}\n",
    "\n",
    "from plotting import plot\n",
    "plot(S, 4)"
   ]
  },
  {
   "cell_type": "code",
   "execution_count": 2,
   "metadata": {},
   "outputs": [],
   "source": [
    "# Task 2.4.3\n",
    "plot({1+2j+z for z in S}, 4)"
   ]
  },
  {
   "cell_type": "code",
   "execution_count": 9,
   "metadata": {},
   "outputs": [],
   "source": [
    "# Task 2.4.7\n",
    "from plotting import plot\n",
    "\n",
    "plot({1/2*z for z in S}, 4, title='My scaled points')"
   ]
  },
  {
   "cell_type": "code",
   "execution_count": 10,
   "metadata": {},
   "outputs": [],
   "source": [
    "# Task 2.4.8\n",
    "plot({1/2*1j*z for z in S}, 4, title='Rotated and scaled')"
   ]
  },
  {
   "cell_type": "code",
   "execution_count": 11,
   "metadata": {},
   "outputs": [],
   "source": [
    "# Task 2.4.9\n",
    "plot({2-1j+(1/2*1j*z) for z in S}, 4)"
   ]
  },
  {
   "cell_type": "code",
   "execution_count": 12,
   "metadata": {},
   "outputs": [
    {
     "name": "stdout",
     "output_type": "stream",
     "text": [
      "width = 166\n",
      "height = 189\n"
     ]
    }
   ],
   "source": [
    "# Task 2.4.10\n",
    "from image import file2image, color2gray\n",
    "data = color2gray(file2image('img01.png'))\n",
    "width = len(data[1])\n",
    "height = len(data)\n",
    "\n",
    "print('width = ' + str(width))\n",
    "print('height = ' + str(height))\n",
    "\n",
    "pts = [x + (height-y)*1j for x in range(width) for y in range(height) if data[y][x] < 120]\n",
    "\n",
    "from plotting import plot\n",
    "plot(pts, scale=200, dot_size = 2)"
   ]
  },
  {
   "cell_type": "code",
   "execution_count": 19,
   "metadata": {},
   "outputs": [],
   "source": [
    "# Task 2.4.11\n",
    "def f(z):\n",
    "    x = min([x.real for x in z]) + (max([x.real for x in z])-min([x.real for x in z]))/2\n",
    "    y = min([x.imag for x in z]) + (max([x.imag for x in z])-min([x.imag for x in z]))/2\n",
    "    return {-x-y*1j+c for c in z}\n",
    "\n",
    "plot(f(S), scale=4)"
   ]
  },
  {
   "cell_type": "code",
   "execution_count": 20,
   "metadata": {},
   "outputs": [],
   "source": [
    "# Task 2.4.12\n",
    "plot({1/2*1j*z for z in pts}, 200, title='Rotated and scaled')"
   ]
  },
  {
   "cell_type": "code",
   "execution_count": 31,
   "metadata": {},
   "outputs": [],
   "source": [
    "# Task 2.4.17\n",
    "import math\n",
    "n = 20\n",
    "L = [math.e**(2*math.pi*1j/(x+1)) for x in range(n)]\n",
    "plot(L, scale=4)"
   ]
  },
  {
   "cell_type": "code",
   "execution_count": 32,
   "metadata": {},
   "outputs": [],
   "source": [
    "# Task 2.4.18\n",
    "plot({c*math.e**(math.pi/4*1j) for c in S}, scale=4)"
   ]
  },
  {
   "cell_type": "code",
   "execution_count": 33,
   "metadata": {},
   "outputs": [],
   "source": [
    "# Task 2.4.19\n",
    "plot({c*math.e**(math.pi/4*1j) for c in pts}, scale=200)"
   ]
  },
  {
   "cell_type": "code",
   "execution_count": 36,
   "metadata": {},
   "outputs": [],
   "source": [
    "# Task 2.4.20\n",
    "plot({(-width*.5 - height*0.5*1j + c)*.5*math.e**(math.pi/4*1j) for c in pts}, scale=200)"
   ]
  },
  {
   "cell_type": "code",
   "execution_count": 49,
   "metadata": {},
   "outputs": [
    {
     "data": {
      "text/plain": [
       "one"
      ]
     },
     "execution_count": 49,
     "metadata": {},
     "output_type": "execute_result"
    }
   ],
   "source": [
    "from GF2 import one\n",
    "one * one"
   ]
  },
  {
   "cell_type": "code",
   "execution_count": 50,
   "metadata": {},
   "outputs": [
    {
     "data": {
      "text/plain": [
       "0"
      ]
     },
     "execution_count": 50,
     "metadata": {},
     "output_type": "execute_result"
    }
   ],
   "source": [
    "one * 0"
   ]
  },
  {
   "cell_type": "code",
   "execution_count": 51,
   "metadata": {},
   "outputs": [
    {
     "data": {
      "text/plain": [
       "one"
      ]
     },
     "execution_count": 51,
     "metadata": {},
     "output_type": "execute_result"
    }
   ],
   "source": [
    "one + 0"
   ]
  },
  {
   "cell_type": "code",
   "execution_count": 52,
   "metadata": {},
   "outputs": [
    {
     "data": {
      "text/plain": [
       "0"
      ]
     },
     "execution_count": 52,
     "metadata": {},
     "output_type": "execute_result"
    }
   ],
   "source": [
    "one + one"
   ]
  },
  {
   "cell_type": "code",
   "execution_count": 53,
   "metadata": {},
   "outputs": [
    {
     "data": {
      "text/plain": [
       "one"
      ]
     },
     "execution_count": 53,
     "metadata": {},
     "output_type": "execute_result"
    }
   ],
   "source": [
    "-one"
   ]
  },
  {
   "cell_type": "code",
   "execution_count": 37,
   "metadata": {},
   "outputs": [
    {
     "data": {
      "text/plain": [
       "[1, 5, 7]"
      ]
     },
     "execution_count": 37,
     "metadata": {},
     "output_type": "execute_result"
    }
   ],
   "source": [
    "# Problem 2.7.1\n",
    "def my_filter(L, num): return [x for x in L if x % num != 0]\n",
    "L = [1,2,4,5,7]\n",
    "num = 2\n",
    "my_filter(L, num)"
   ]
  },
  {
   "cell_type": "code",
   "execution_count": 42,
   "metadata": {},
   "outputs": [
    {
     "data": {
      "text/plain": [
       "[[1], [1, 2], [1, 2, 3]]"
      ]
     },
     "execution_count": 42,
     "metadata": {},
     "output_type": "execute_result"
    }
   ],
   "source": [
    "# Problem 2.7.2\n",
    "def my_lists(L): return [[i+1 for i in range(x)] for x in L]\n",
    "my_lists([1,2,3])"
   ]
  },
  {
   "cell_type": "code",
   "execution_count": 43,
   "metadata": {},
   "outputs": [
    {
     "data": {
      "text/plain": [
       "[[]]"
      ]
     },
     "execution_count": 43,
     "metadata": {},
     "output_type": "execute_result"
    }
   ],
   "source": [
    "my_lists([0])"
   ]
  },
  {
   "cell_type": "code",
   "execution_count": 45,
   "metadata": {},
   "outputs": [
    {
     "data": {
      "text/plain": [
       "{0: 'apple', 1: 'banana'}"
      ]
     },
     "execution_count": 45,
     "metadata": {},
     "output_type": "execute_result"
    }
   ],
   "source": [
    "# Problem 2.7.3\n",
    "def my_function_composition(f, g): return {k:g[v] for k, v in f.items()}\n",
    "f = {0:'a', 1:'b'}\n",
    "g = {'a':'apple', 'b':'banana'}\n",
    "my_function_composition(f,g)"
   ]
  },
  {
   "cell_type": "code",
   "execution_count": 46,
   "metadata": {},
   "outputs": [],
   "source": [
    "# Problem 2.7.4\n",
    "def mySum(L):\n",
    "    current = 0\n",
    "    for x in L:\n",
    "        current = current + x\n",
    "    return current"
   ]
  },
  {
   "cell_type": "code",
   "execution_count": 47,
   "metadata": {},
   "outputs": [],
   "source": [
    "# Problem 2.7.5\n",
    "def myProduct(L):\n",
    "    current = 1\n",
    "    for x in L:\n",
    "        current = current * x\n",
    "    return current"
   ]
  },
  {
   "cell_type": "code",
   "execution_count": 48,
   "metadata": {},
   "outputs": [],
   "source": [
    "# Problem 2.7.6\n",
    "def myMin(L):\n",
    "    if len(L) <= 0: return None\n",
    "    current = L[0]\n",
    "    for x in L:\n",
    "        if x < current:\n",
    "            current = x\n",
    "    return current"
   ]
  },
  {
   "cell_type": "code",
   "execution_count": 49,
   "metadata": {},
   "outputs": [],
   "source": [
    "# Problem 2.7.7\n",
    "def myConcat(L):\n",
    "    current = ''\n",
    "    for x in L:\n",
    "        current = current + x\n",
    "    return current"
   ]
  },
  {
   "cell_type": "code",
   "execution_count": 50,
   "metadata": {},
   "outputs": [],
   "source": [
    "# Problem 2.7.8\n",
    "def myUnion(L):\n",
    "    current = {}\n",
    "    for x in L:\n",
    "        current = current or x\n",
    "    return current"
   ]
  },
  {
   "cell_type": "code",
   "execution_count": 51,
   "metadata": {},
   "outputs": [],
   "source": [
    "# Problem 2.7.12\n",
    "def transform(a, b, L):\n",
    "    return [a*c+b for c in L]"
   ]
  },
  {
   "cell_type": "code",
   "execution_count": null,
   "metadata": {},
   "outputs": [],
   "source": []
  }
 ],
 "metadata": {
  "kernelspec": {
   "display_name": "Python [conda root]",
   "language": "python",
   "name": "conda-root-py"
  },
  "language_info": {
   "codemirror_mode": {
    "name": "ipython",
    "version": 3
   },
   "file_extension": ".py",
   "mimetype": "text/x-python",
   "name": "python",
   "nbconvert_exporter": "python",
   "pygments_lexer": "ipython3",
   "version": "3.6.5"
  }
 },
 "nbformat": 4,
 "nbformat_minor": 2
}

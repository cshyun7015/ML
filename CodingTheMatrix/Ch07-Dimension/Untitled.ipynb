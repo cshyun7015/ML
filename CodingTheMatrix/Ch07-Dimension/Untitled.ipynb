{
 "cells": [
  {
   "cell_type": "code",
   "execution_count": 1,
   "metadata": {},
   "outputs": [],
   "source": [
    "import sys\n",
    "sys.path.append('/home/zog/Downloads/CodingTheMatrix/Ch02-Field')\n",
    "sys.path.append('/home/zog/Downloads/CodingTheMatrix/Ch03-Vector')\n",
    "sys.path.append('/home/zog/Downloads/CodingTheMatrix/Ch04-Matrix')"
   ]
  },
  {
   "cell_type": "code",
   "execution_count": 2,
   "metadata": {},
   "outputs": [],
   "source": [
    "# Morphing Lemma 7.1.1:\n",
    "# Suppose S is a set of vectors, and B is a linearly independent set of vectors in Span S.\n",
    "# Then |S|≥|B|."
   ]
  },
  {
   "cell_type": "code",
   "execution_count": 3,
   "metadata": {},
   "outputs": [],
   "source": [
    "# Theorem 7.1.2:\n",
    "# All bases for a vector space V have the same size"
   ]
  },
  {
   "cell_type": "code",
   "execution_count": 4,
   "metadata": {},
   "outputs": [],
   "source": [
    "# Definition 7.2.1:\n",
    "# We define the dimension of a vector space to be the size of a basis for that vector space.\n",
    "# The dimension of a vector space V is written dim V."
   ]
  },
  {
   "cell_type": "code",
   "execution_count": 5,
   "metadata": {},
   "outputs": [],
   "source": [
    "# Definition 7.2.5:\n",
    "# We define the rank of a set S of vectors as the dimension of Span S. We write rank S"
   ]
  },
  {
   "cell_type": "code",
   "execution_count": 6,
   "metadata": {},
   "outputs": [],
   "source": [
    "# Dimension Lemma 7.2.14:\n",
    "# If U is a subspace of W then\n",
    "# D1: dim U ≤ dim W, and\n",
    "# D2: if dim U = dim W then U=W"
   ]
  },
  {
   "cell_type": "code",
   "execution_count": 7,
   "metadata": {},
   "outputs": [],
   "source": [
    "# Grow-Algorithm-Termination Lemma 7.2.18:\n",
    "# If V is a subspace of FD where D is finite then Grow(V) terminates."
   ]
  },
  {
   "cell_type": "code",
   "execution_count": 8,
   "metadata": {},
   "outputs": [],
   "source": [
    "# Rank Theorem 7.2.20:\n",
    "# For every matrix M, row rank equals column rank"
   ]
  },
  {
   "cell_type": "code",
   "execution_count": 9,
   "metadata": {},
   "outputs": [
    {
     "data": {
      "text/plain": [
       "50"
      ]
     },
     "execution_count": 9,
     "metadata": {},
     "output_type": "execute_result"
    }
   ],
   "source": [
    "# Fact 7.2.22\n",
    "\n",
    "from vec import Vec\n",
    "from random import randint\n",
    "from GF2 import one\n",
    "\n",
    "def rand_GF2(): return one if randint(0,1)==1 else 0\n",
    "def rand_GF2_vec(D): return Vec(D, {d:rand_GF2() for d in D})\n",
    "D = set(range(100))\n",
    "\n",
    "L = [rand_GF2_vec(D) for i in range(50)]\n",
    "from independence import rank\n",
    "rank(L)"
   ]
  },
  {
   "cell_type": "code",
   "execution_count": 10,
   "metadata": {},
   "outputs": [],
   "source": [
    "# Definition 7.3.1:\n",
    "# If U and V share only the zero vector then we define the direct sum of U and V to be the set\n",
    "# {u+v : u ∈ U, v ∈ V} written U ⊕ V"
   ]
  },
  {
   "cell_type": "code",
   "execution_count": 11,
   "metadata": {},
   "outputs": [],
   "source": [
    "# Direct Sum Basis Lemma 7.3.8:\n",
    "# Union of a basis of U and a basis of V is a basis of U ⊕ V."
   ]
  },
  {
   "cell_type": "code",
   "execution_count": 12,
   "metadata": {},
   "outputs": [],
   "source": [
    "# Direct Sum Dimension Corollary 7.3.9:\n",
    "# dim U + dim V = dim U ⊕ V"
   ]
  },
  {
   "cell_type": "code",
   "execution_count": 13,
   "metadata": {},
   "outputs": [],
   "source": [
    "# Definition 7.3.11:\n",
    "# If U ⊕ V = W, we say U and V are complementary subspaces of W"
   ]
  },
  {
   "cell_type": "code",
   "execution_count": 14,
   "metadata": {},
   "outputs": [],
   "source": [
    "# Kernel-Image Theorem 7.4.7:\n",
    "# For any linear function f:V → W,\n",
    "# dim Ker f + dim Im f = dim V"
   ]
  },
  {
   "cell_type": "code",
   "execution_count": 15,
   "metadata": {},
   "outputs": [],
   "source": [
    "# Rank-Nullity Theorem 7.4.9:\n",
    "# For any n-column matrix A, nullity A + rank A = n"
   ]
  },
  {
   "cell_type": "code",
   "execution_count": 16,
   "metadata": {},
   "outputs": [],
   "source": [
    "# Corollary 7.4.10:\n",
    "# Let A be an R×C matrix. \n",
    "# Then A is invertible if and only if |R|=|C| and the columns of A are linearly independent."
   ]
  },
  {
   "cell_type": "code",
   "execution_count": 17,
   "metadata": {},
   "outputs": [],
   "source": [
    "# Theorem 7.4.11:\n",
    "# The transpose of an invertible matrix is invertible."
   ]
  },
  {
   "cell_type": "code",
   "execution_count": 18,
   "metadata": {},
   "outputs": [],
   "source": [
    "# Theorem 7.4.12:\n",
    "# Suppose A and B are square matrices such that BA is an identity matrix I.\n",
    "# Then A and B are inverses of each other"
   ]
  },
  {
   "cell_type": "code",
   "execution_count": 19,
   "metadata": {},
   "outputs": [],
   "source": [
    "# Definition 7.5.7:\n",
    "# The set of vectors u such that u·v = 0 for every vector v in V is called the annihilator of V.\n",
    "# Written as Vo."
   ]
  },
  {
   "cell_type": "code",
   "execution_count": 20,
   "metadata": {},
   "outputs": [],
   "source": [
    "# Annihilator Dimension Theorem 7.5.13:\n",
    "# dim V + dim Vo = n"
   ]
  },
  {
   "cell_type": "code",
   "execution_count": 21,
   "metadata": {},
   "outputs": [],
   "source": [
    "# Theorem 7.5.15:\n",
    "# (Vo)o = V (The annihilator of the annihilator is the original space.)"
   ]
  },
  {
   "cell_type": "code",
   "execution_count": 43,
   "metadata": {},
   "outputs": [
    {
     "name": "stdout",
     "output_type": "stream",
     "text": [
      "injecting  \n",
      " 0 1 2\n",
      "------\n",
      " 1 0 0\n",
      "ejecting  \n",
      " 0 1 2\n",
      "------\n",
      " 2 4 0\n",
      " \n",
      "injecting  \n",
      " 0 1 2\n",
      "------\n",
      " 0 1 0\n",
      "ejecting  \n",
      " 0 1 2\n",
      "------\n",
      " 1 0 3\n",
      " \n",
      "injecting  \n",
      " 0 1 2\n",
      "------\n",
      " 0 0 1\n",
      "ejecting  \n",
      " 0 1 2\n",
      "------\n",
      " 0 4 4\n",
      " \n"
     ]
    }
   ],
   "source": [
    "# Problem 7.7.4\n",
    "\n",
    "# Problem 6.14.14\n",
    "from solver import *\n",
    "def vec2rep(veclist, v):\n",
    "    M = coldict2mat(veclist)\n",
    "    return solve(M,v)\n",
    "\n",
    "# Problem 6.14.19\n",
    "from vecutil import *\n",
    "def exchange(S, A, z):\n",
    "    B = [v for v in S if v not in A]\n",
    "    beta = vec2rep(A+B, z)\n",
    "    Alen = len(A)\n",
    "    for i in range(len(B)):\n",
    "        j = Alen + i\n",
    "        if beta[j] != 0:\n",
    "            betaj = beta[j]\n",
    "            beta[j] = 0\n",
    "            return 1/betaj*z -1/betaj*coldict2mat(A+B)*beta\n",
    "\n",
    "from matutil import *\n",
    "\n",
    "def morph(S, B):\n",
    "    r = []\n",
    "    A = []\n",
    "    for z in B:\n",
    "        t = exchange(S,A,z)\n",
    "        #print('[t] = ', [t])\n",
    "        w = Vec(t.D, {key:float(int(round(value))) for key,value in t.f.items()})\n",
    "        r = r + [(z, w)]\n",
    "        A = A + [z]\n",
    "        S = [v for v in S if v != w]\n",
    "        #print('[w] = ', [w])\n",
    "        #print('A = ', A)\n",
    "        #print('S = ', S)\n",
    "    return r\n",
    "        \n",
    "S = [list2vec(v) for v in [[2,4,0],[1,0,3],[0,4,4],[1,1,1]]]\n",
    "B = [list2vec(v) for v in [[1,0,0],[0,1,0],[0,0,1]]]\n",
    "for (z,w) in morph(S, B):\n",
    "    print(\"injecting \", z)\n",
    "    print(\"ejecting \", w)\n",
    "    print(' ')"
   ]
  },
  {
   "cell_type": "code",
   "execution_count": 44,
   "metadata": {},
   "outputs": [
    {
     "data": {
      "text/plain": [
       "False"
      ]
     },
     "execution_count": 44,
     "metadata": {},
     "output_type": "execute_result"
    }
   ],
   "source": [
    "# Problem 7.7.6\n",
    "from independence import *\n",
    "\n",
    "def my_is_independent(L):\n",
    "    return True if len(L) == rank(L) else False\n",
    "\n",
    "L = [list2vec(v) for v in [[2,4,0],[8,16,4],[0,0,7]]]\n",
    "my_is_independent(L)"
   ]
  },
  {
   "cell_type": "code",
   "execution_count": 45,
   "metadata": {},
   "outputs": [
    {
     "data": {
      "text/plain": [
       "True"
      ]
     },
     "execution_count": 45,
     "metadata": {},
     "output_type": "execute_result"
    }
   ],
   "source": [
    "L = [list2vec(v) for v in [[2,4,0],[8,16,4]]]\n",
    "my_is_independent(L)"
   ]
  },
  {
   "cell_type": "code",
   "execution_count": 46,
   "metadata": {},
   "outputs": [
    {
     "data": {
      "text/plain": [
       "True"
      ]
     },
     "execution_count": 46,
     "metadata": {},
     "output_type": "execute_result"
    }
   ],
   "source": [
    "L = [list2vec(v) for v in [[1,3,0,0],[2,1,1,0],[0,0,1,0],[1,1,4,-1]]]\n",
    "my_is_independent(L)"
   ]
  },
  {
   "cell_type": "code",
   "execution_count": 47,
   "metadata": {},
   "outputs": [
    {
     "data": {
      "text/plain": [
       "True"
      ]
     },
     "execution_count": 47,
     "metadata": {},
     "output_type": "execute_result"
    }
   ],
   "source": [
    "from GF2 import *\n",
    "\n",
    "L = [list2vec(v) for v in [[one,0,one,0],[0,one,0,0],[one,one,one,one],[one,0,0,one]]]\n",
    "my_is_independent(L)"
   ]
  },
  {
   "cell_type": "code",
   "execution_count": 48,
   "metadata": {},
   "outputs": [
    {
     "data": {
      "text/plain": [
       "2"
      ]
     },
     "execution_count": 48,
     "metadata": {},
     "output_type": "execute_result"
    }
   ],
   "source": [
    "# Problem 7.7.7\n",
    "\n",
    "def my_rank(L):\n",
    "    if is_independent(L): return len(L)\n",
    "    l = len(L)\n",
    "    T = []\n",
    "    for i in range(l):\n",
    "        T = T + [L[i]]\n",
    "        if not is_independent(T): return i\n",
    "        \n",
    "L = [list2vec(v) for v in [[1,2,3],[4,5,6],[1.1,1.1,1.1]]]\n",
    "my_rank(L)"
   ]
  },
  {
   "cell_type": "code",
   "execution_count": 49,
   "metadata": {},
   "outputs": [
    {
     "data": {
      "text/plain": [
       "4"
      ]
     },
     "execution_count": 49,
     "metadata": {},
     "output_type": "execute_result"
    }
   ],
   "source": [
    "L = [list2vec(v) for v in [[1,3,0,0],[2,0,5,1],[0,0,1,0],[0,0,7,-1]]]\n",
    "my_rank(L)"
   ]
  },
  {
   "cell_type": "code",
   "execution_count": 50,
   "metadata": {},
   "outputs": [
    {
     "data": {
      "text/plain": [
       "3"
      ]
     },
     "execution_count": 50,
     "metadata": {},
     "output_type": "execute_result"
    }
   ],
   "source": [
    "L = [list2vec(v) for v in [[one,0,one,0],[0,one,0,0],[one,one,one,one],[0,0,0,one]]]\n",
    "my_rank(L)"
   ]
  },
  {
   "cell_type": "code",
   "execution_count": 51,
   "metadata": {},
   "outputs": [
    {
     "data": {
      "text/plain": [
       "(Vec({0, 1, 2},{0: -215.9999999999964, 1: -7.999999999999865, 2: 173.9999999999971}),\n",
       " Vec({3, 4},{3: 0.0, 4: 0.0}))"
      ]
     },
     "execution_count": 51,
     "metadata": {},
     "output_type": "execute_result"
    }
   ],
   "source": [
    "# Problem 7.7.11\n",
    "\n",
    "def direct_sum_decompose(U_basis, V_basis, w):\n",
    "    uv = vec2rep(U_basis + V_basis, w)\n",
    "    Ul = len(U_basis)\n",
    "    Vl = len(V_basis)\n",
    "    u = Vec({i for i in range(Ul)},{k:uv[k] for k in range(Ul)})\n",
    "    v = Vec({i for i in range(Ul,Ul+Vl)},{k:uv[k] for k in range(Ul,Ul+Vl)})\n",
    "    return (u, v)\n",
    "\n",
    "U_basis = [list2vec(v) for v in [[2,1,0,0,6,0],[11,5,0,0,1,0],[3,1.5,0,0,7.5,0]]]\n",
    "V_basis = [list2vec(v) for v in [[0,0,7,0,0,1],[0,0,15,0,0,2]]]\n",
    "w = list2vec([2,5,0,0,1,0])\n",
    "direct_sum_decompose(U_basis, V_basis, w)"
   ]
  },
  {
   "cell_type": "code",
   "execution_count": 52,
   "metadata": {},
   "outputs": [
    {
     "data": {
      "text/plain": [
       "(Vec({0, 1, 2},{0: 0.0, 1: 0.0, 2: 0.0}),\n",
       " Vec({3, 4},{3: -65.99999999999986, 4: 30.999999999999932}))"
      ]
     },
     "execution_count": 52,
     "metadata": {},
     "output_type": "execute_result"
    }
   ],
   "source": [
    "w = list2vec([0,0,3,0,0,-4])\n",
    "direct_sum_decompose(U_basis, V_basis, w)"
   ]
  },
  {
   "cell_type": "code",
   "execution_count": 53,
   "metadata": {},
   "outputs": [
    {
     "data": {
      "text/plain": [
       "(Vec({0, 1, 2},{0: -79.99999999999619, 1: -2.999999999999855, 2: 64.6666666666636}),\n",
       " Vec({3, 4},{3: 15.0, 4: -7.0}))"
      ]
     },
     "execution_count": 53,
     "metadata": {},
     "output_type": "execute_result"
    }
   ],
   "source": [
    "w = list2vec([1,2,0,0,2,1])\n",
    "direct_sum_decompose(U_basis, V_basis, w)"
   ]
  },
  {
   "cell_type": "code",
   "execution_count": 54,
   "metadata": {},
   "outputs": [
    {
     "data": {
      "text/plain": [
       "(Vec({0, 1, 2},{0: -245.9999999999967, 1: -9.999999999999876, 2: 198.666666666664}),\n",
       " Vec({3, 4},{3: 67.00000000000018, 4: -31.00000000000009}))"
      ]
     },
     "execution_count": 54,
     "metadata": {},
     "output_type": "execute_result"
    }
   ],
   "source": [
    "w = list2vec([-6,2,4,0,4,5])\n",
    "direct_sum_decompose(U_basis, V_basis, w)"
   ]
  },
  {
   "cell_type": "code",
   "execution_count": 55,
   "metadata": {},
   "outputs": [
    {
     "data": {
      "text/plain": [
       "(Vec({0, 1, 2},{0: 0, 1: 0, 2: 0}), Vec({3},{3: 0}))"
      ]
     },
     "execution_count": 55,
     "metadata": {},
     "output_type": "execute_result"
    }
   ],
   "source": [
    "U_basis = [list2vec(v) for v in [[one,one,0,one,0,one],[one,one,0,0,0,one],[one,0,0,0,0,0]]]\n",
    "V_basis = [list2vec(v) for v in [[one,one,one,0,one,one]]]\n",
    "w = list2vec([0,0,0,0,0,0])\n",
    "direct_sum_decompose(U_basis, V_basis, w)"
   ]
  },
  {
   "cell_type": "code",
   "execution_count": 56,
   "metadata": {},
   "outputs": [
    {
     "data": {
      "text/plain": [
       "(Vec({0, 1, 2},{0: one, 1: one, 2: one}), Vec({3},{3: 0}))"
      ]
     },
     "execution_count": 56,
     "metadata": {},
     "output_type": "execute_result"
    }
   ],
   "source": [
    "w = list2vec([one,0,0,one,0,0])\n",
    "direct_sum_decompose(U_basis, V_basis, w)"
   ]
  },
  {
   "cell_type": "code",
   "execution_count": 57,
   "metadata": {},
   "outputs": [
    {
     "data": {
      "text/plain": [
       "(Vec({0, 1, 2},{0: one, 1: one, 2: 0}), Vec({3},{3: one}))"
      ]
     },
     "execution_count": 57,
     "metadata": {},
     "output_type": "execute_result"
    }
   ],
   "source": [
    "w = list2vec([one,one,one,one,one,one])\n",
    "direct_sum_decompose(U_basis, V_basis, w)"
   ]
  },
  {
   "cell_type": "code",
   "execution_count": 64,
   "metadata": {},
   "outputs": [
    {
     "name": "stdout",
     "output_type": "stream",
     "text": [
      "False\n",
      "3\n",
      "2\n"
     ]
    },
    {
     "data": {
      "text/plain": [
       "False"
      ]
     },
     "execution_count": 64,
     "metadata": {},
     "output_type": "execute_result"
    }
   ],
   "source": [
    "# Problem 7.7.12\n",
    "\n",
    "def is_invertable(M):\n",
    "    cv = [value for key,value in mat2coldict(M).items()]\n",
    "    T = mat2coldict(M.transpose())\n",
    "    rv = [T[k] for k in T.keys()]\n",
    "    res = is_independent(cv)\n",
    "    print(res)\n",
    "    print(len(cv))\n",
    "    print(len(rv))\n",
    "    return True if res and (len(cv) == len(rv)) else False\n",
    "\n",
    "M = Mat(({1,2},{1,2,3}), {(1,1):1, (1,2):2, (1,3):3, (2,1):3, (2,2):1, (2,3):1})\n",
    "is_invertable(M)"
   ]
  },
  {
   "cell_type": "code",
   "execution_count": 65,
   "metadata": {},
   "outputs": [
    {
     "name": "stdout",
     "output_type": "stream",
     "text": [
      "True\n",
      "4\n",
      "4\n"
     ]
    },
    {
     "data": {
      "text/plain": [
       "True"
      ]
     },
     "execution_count": 65,
     "metadata": {},
     "output_type": "execute_result"
    }
   ],
   "source": [
    "M = Mat(({1,2,3,4},{1,2,3,4}), {(1,1):1, (1,3):1, (2,2):2, (2,3):1, (3,3):3, (3,4):1, (4,4):4})\n",
    "is_invertable(M)"
   ]
  },
  {
   "cell_type": "code",
   "execution_count": 66,
   "metadata": {},
   "outputs": [
    {
     "name": "stdout",
     "output_type": "stream",
     "text": [
      "True\n",
      "2\n",
      "3\n"
     ]
    },
    {
     "data": {
      "text/plain": [
       "False"
      ]
     },
     "execution_count": 66,
     "metadata": {},
     "output_type": "execute_result"
    }
   ],
   "source": [
    "M = Mat(({1,2,3},{1,2}), {(1,1):1, (2,2):1, (3,1):2, (3,2):1})\n",
    "is_invertable(M)"
   ]
  },
  {
   "cell_type": "code",
   "execution_count": 68,
   "metadata": {},
   "outputs": [
    {
     "name": "stdout",
     "output_type": "stream",
     "text": [
      "False\n",
      "3\n",
      "3\n"
     ]
    },
    {
     "data": {
      "text/plain": [
       "False"
      ]
     },
     "execution_count": 68,
     "metadata": {},
     "output_type": "execute_result"
    }
   ],
   "source": [
    "M = listlist2mat([[one,0,one],[0,one,one],[one,one,0]])\n",
    "is_invertable(M)"
   ]
  },
  {
   "cell_type": "code",
   "execution_count": 69,
   "metadata": {},
   "outputs": [
    {
     "name": "stdout",
     "output_type": "stream",
     "text": [
      "True\n",
      "2\n",
      "2\n"
     ]
    },
    {
     "data": {
      "text/plain": [
       "True"
      ]
     },
     "execution_count": 69,
     "metadata": {},
     "output_type": "execute_result"
    }
   ],
   "source": [
    "M = listlist2mat([[one,one],[0,one]])\n",
    "is_invertable(M)"
   ]
  },
  {
   "cell_type": "code",
   "execution_count": 70,
   "metadata": {},
   "outputs": [
    {
     "name": "stdout",
     "output_type": "stream",
     "text": [
      "\n",
      "         1   2   3\n",
      "     -------------\n",
      " 1  |    0 one   0\n",
      " 2  |  one   0   0\n",
      " 3  |    0   0 one\n",
      "\n",
      "\n",
      "         1   2   3\n",
      "     -------------\n",
      " 1  |  one   0   0\n",
      " 2  |    0 one   0\n",
      " 3  |    0   0 one\n",
      "\n"
     ]
    }
   ],
   "source": [
    "# Problem 7.7.13\n",
    "\n",
    "def find_matrix_inverse(A):\n",
    "    I = identity(A.D[1], one)\n",
    "    Ic = mat2coldict(I)\n",
    "    R = {}\n",
    "    for i in A.D[1]:\n",
    "        R[i] = solve(A,Ic[i])\n",
    "    return coldict2mat(R)\n",
    "\n",
    "A = Mat(({1,2,3},{1,2,3}), {(1,2):one, (2,1):one, (3,3):one})\n",
    "R = find_matrix_inverse(A)\n",
    "print(R)\n",
    "print(A*R)"
   ]
  },
  {
   "cell_type": "code",
   "execution_count": 71,
   "metadata": {},
   "outputs": [
    {
     "name": "stdout",
     "output_type": "stream",
     "text": [
      "\n",
      "         1   2   3   4\n",
      "     -----------------\n",
      " 1  |  one   0 one one\n",
      " 2  |  one one one   0\n",
      " 3  |    0   0   0 one\n",
      " 4  |  one one   0   0\n",
      "\n",
      "\n",
      "         1   2   3   4\n",
      "     -----------------\n",
      " 1  |  one   0   0   0\n",
      " 2  |    0 one   0   0\n",
      " 3  |    0   0 one   0\n",
      " 4  |    0   0   0 one\n",
      "\n"
     ]
    }
   ],
   "source": [
    "A = Mat(({1,2,3,4},{1,2,3,4}), {(1,1):one, (1,2):one, (1,3):one, (1,4):one,\n",
    "                                (2,1):one, (2,2):one, (2,3):one, (3,2):one,\n",
    "                                (3,4):one, (4,3):one})\n",
    "R = find_matrix_inverse(A)\n",
    "print(R)\n",
    "print(A*R)"
   ]
  },
  {
   "cell_type": "code",
   "execution_count": 72,
   "metadata": {},
   "outputs": [
    {
     "name": "stdout",
     "output_type": "stream",
     "text": [
      "\n",
      "         1   2   3   4   5\n",
      "     ---------------------\n",
      " 1  |  one one one one one\n",
      " 2  |    0 one one one one\n",
      " 3  |    0   0 one one one\n",
      " 4  |    0   0   0 one one\n",
      " 5  |    0   0   0   0 one\n",
      "\n",
      "\n",
      "         1   2   3   4   5\n",
      "     ---------------------\n",
      " 1  |  one   0   0   0   0\n",
      " 2  |    0 one   0   0   0\n",
      " 3  |    0   0 one   0   0\n",
      " 4  |    0   0   0 one   0\n",
      " 5  |    0   0   0   0 one\n",
      "\n"
     ]
    }
   ],
   "source": [
    "A = Mat(({1,2,3,4,5},{1,2,3,4,5}), {(1,1):one, (1,2):one, (2,2):one, (2,3):one,\n",
    "                                (3,3):one, (3,4):one, (4,4):one, (4,5):one,\n",
    "                                (5,5):one})\n",
    "R = find_matrix_inverse(A)\n",
    "print(R)\n",
    "print(A*R)"
   ]
  },
  {
   "cell_type": "code",
   "execution_count": 73,
   "metadata": {},
   "outputs": [
    {
     "name": "stdout",
     "output_type": "stream",
     "text": [
      "\n",
      "       0    1     2     3\n",
      "     --------------------\n",
      " 0  |  1 -0.5 -0.05 -3.54\n",
      " 1  |  0    1  -0.3 -0.87\n",
      " 2  |  0    0     1  -0.1\n",
      " 3  |  0    0     0     1\n",
      "\n",
      "\n",
      "       0 1 2 3\n",
      "     ---------\n",
      " 0  |  1 0 0 0\n",
      " 1  |  0 1 0 0\n",
      " 2  |  0 0 1 0\n",
      " 3  |  0 0 0 1\n",
      "\n"
     ]
    }
   ],
   "source": [
    "# Problem 7.7.14\n",
    "from triangular import *\n",
    "\n",
    "def find_triangular_matrix_inverse(A):\n",
    "    I = identity(A.D[1], 1)\n",
    "    Ic = mat2coldict(I)\n",
    "    T = mat2coldict(A.transpose())\n",
    "    rowlist = [T[k] for k in T.keys()]\n",
    "    label_list = [x for x in A.D[1]]\n",
    "    R = {}\n",
    "    for i in A.D[1]:\n",
    "        R[i] = triangular_solve(rowlist, label_list,Ic[i])\n",
    "    return coldict2mat(R)\n",
    "\n",
    "A = listlist2mat([[1,.5,.2,4],[0,1,.3,.9],[0,0,1,.1],[0,0,0,1]])\n",
    "R = find_triangular_matrix_inverse(A)\n",
    "print(R)\n",
    "print(A*R)"
   ]
  },
  {
   "cell_type": "code",
   "execution_count": null,
   "metadata": {},
   "outputs": [],
   "source": []
  }
 ],
 "metadata": {
  "kernelspec": {
   "display_name": "Python [conda root]",
   "language": "python",
   "name": "conda-root-py"
  },
  "language_info": {
   "codemirror_mode": {
    "name": "ipython",
    "version": 3
   },
   "file_extension": ".py",
   "mimetype": "text/x-python",
   "name": "python",
   "nbconvert_exporter": "python",
   "pygments_lexer": "ipython3",
   "version": "3.6.5"
  }
 },
 "nbformat": 4,
 "nbformat_minor": 2
}

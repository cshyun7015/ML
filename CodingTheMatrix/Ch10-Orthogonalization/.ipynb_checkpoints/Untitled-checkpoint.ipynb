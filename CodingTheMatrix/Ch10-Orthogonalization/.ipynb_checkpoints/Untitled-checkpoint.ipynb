{
 "cells": [
  {
   "cell_type": "code",
   "execution_count": 4,
   "metadata": {},
   "outputs": [
    {
     "name": "stdout",
     "output_type": "stream",
     "text": [
      "\n",
      " 0 1 2\n",
      "------\n",
      " 1 1 1\n",
      "\n",
      " 0 1 2\n",
      "------\n",
      " 1 0 0\n",
      "\n",
      " 0 1 2\n",
      "------\n",
      " 1 0 0\n"
     ]
    }
   ],
   "source": [
    "# Problem 10.2.2\n",
    "from orthogonalization import *\n",
    "from vecutil import *\n",
    "\n",
    "v1 = list2vec([0,2,2])\n",
    "v2 = list2vec([0,1,-1])\n",
    "vlist = [v1,v2]\n",
    "b = list2vec([1,1,1])\n",
    "\n",
    "print(b)\n",
    "for v in vlist:\n",
    "    b = b - project_along(b, v)\n",
    "    print(b)"
   ]
  },
  {
   "cell_type": "code",
   "execution_count": 7,
   "metadata": {},
   "outputs": [
    {
     "name": "stdout",
     "output_type": "stream",
     "text": [
      "[Vec({0, 1, 2},{0: 1, 1: 0, 2: 2})]\n",
      "[Vec({0, 1, 2},{0: 1, 1: 0, 2: 2}), Vec({0, 1, 2},{0: 0.0, 1: 0.0, 2: 0.0})]\n",
      "[Vec({0, 1, 2},{0: 1, 1: 0, 2: 2}), Vec({0, 1, 2},{0: 0.0, 1: 0.0, 2: 0.0}), Vec({0, 1, 2},{0: 1.6, 1: 0.0, 2: -0.8})]\n"
     ]
    }
   ],
   "source": [
    "# Problem 10.3.4\n",
    "\n",
    "v1 = list2vec([1,0,2])\n",
    "v2 = list2vec([1,0,2])\n",
    "v3 = list2vec([2,0,0])\n",
    "vlist = [v1,v2,v3]\n",
    "\n",
    "vstarlist = []\n",
    "for v in vlist:\n",
    "    vstarlist.append(project_orthogonal(v, vstarlist))\n",
    "    print(vstarlist)"
   ]
  },
  {
   "cell_type": "code",
   "execution_count": 1,
   "metadata": {},
   "outputs": [
    {
     "name": "stdout",
     "output_type": "stream",
     "text": [
      "\n",
      "    a     b     c     d\n",
      "-----------------------\n",
      " 0.73 0.548 0.183 0.365\n",
      "\n",
      "     a     b      c      d\n",
      "--------------------------\n",
      " 0.187 0.403 -0.566 -0.695\n",
      "\n",
      "     a      b      c     d\n",
      "--------------------------\n",
      " 0.528 -0.653 -0.512 0.181\n"
     ]
    }
   ],
   "source": [
    "# Problem 10.11.9\n",
    "from orthonormalization import *\n",
    "from vec import *\n",
    "\n",
    "D = {'a','b','c','d'}\n",
    "L = [Vec(D, {'a':4,'b':3,'c':1,'d':2}), Vec(D, {'a':8,'b':9,'c':-5,'d':-5}), Vec(D, {'a':10,'b':1,'c':-1,'d':5})]\n",
    "for v in orthonormalize(L): print(v)"
   ]
  },
  {
   "cell_type": "code",
   "execution_count": 1,
   "metadata": {},
   "outputs": [
    {
     "name": "stdout",
     "output_type": "stream",
     "text": [
      "\n",
      "           0      1      2\n",
      "     ---------------------\n",
      " a  |   0.73  0.187  0.528\n",
      " b  |  0.548  0.403 -0.653\n",
      " c  |  0.183 -0.566 -0.512\n",
      " d  |  0.365 -0.695  0.181\n",
      "\n"
     ]
    }
   ],
   "source": [
    "# Problem 10.11.10\n",
    "from orthonormalization import *\n",
    "from vec import Vec\n",
    "\n",
    "D = {'a','b','c','d'}\n",
    "L = [Vec(D, {'a':4,'b':3,'c':1,'d':2}), Vec(D, {'a':8,'b':9,'c':-5,'d':-5}), Vec(D, {'a':10,'b':1,'c':-1,'d':5})]\n",
    "Qlist, Rlist = aug_orthonormalize(L)\n",
    "from matutil import coldict2mat\n",
    "print(coldict2mat(Qlist))"
   ]
  },
  {
   "cell_type": "code",
   "execution_count": 2,
   "metadata": {},
   "outputs": [
    {
     "name": "stdout",
     "output_type": "stream",
     "text": [
      "\n",
      "          0    1      2\n",
      "     ------------------\n",
      " 0  |  5.48 8.03   9.49\n",
      " 1  |     0 11.4 -0.636\n",
      " 2  |     0    0   6.04\n",
      "\n"
     ]
    }
   ],
   "source": [
    "print(coldict2mat(Rlist))"
   ]
  },
  {
   "cell_type": "code",
   "execution_count": 3,
   "metadata": {},
   "outputs": [
    {
     "name": "stdout",
     "output_type": "stream",
     "text": [
      "\n",
      "       0  1  2\n",
      "     ---------\n",
      " a  |  4  8 10\n",
      " b  |  3  9  1\n",
      " c  |  1 -5 -1\n",
      " d  |  2 -5  5\n",
      "\n"
     ]
    }
   ],
   "source": [
    "print(coldict2mat(Qlist)*coldict2mat(Rlist))"
   ]
  },
  {
   "cell_type": "code",
   "execution_count": 4,
   "metadata": {},
   "outputs": [
    {
     "name": "stdout",
     "output_type": "stream",
     "text": [
      "\n",
      "               0 1        2\n",
      "     ----------------------\n",
      " a  |  -4.44E-16 0        0\n",
      " b  |          0 0 4.44E-16\n",
      " c  |  -1.11E-16 0        0\n",
      " d  |  -2.22E-16 0        0\n",
      "\n"
     ]
    }
   ],
   "source": [
    "print(coldict2mat(Qlist)*coldict2mat(Rlist) - coldict2mat(L))"
   ]
  },
  {
   "cell_type": "code",
   "execution_count": 15,
   "metadata": {},
   "outputs": [
    {
     "name": "stdout",
     "output_type": "stream",
     "text": [
      "\n",
      "        A  B\n",
      "     -------\n",
      " a  |  -1  2\n",
      " b  |   5  3\n",
      " c  |   1 -2\n",
      "\n"
     ]
    }
   ],
   "source": [
    "# Problem 10.11.12\n",
    "import QR\n",
    "from mat import *\n",
    "from triangular import *\n",
    "\n",
    "def QR_solve(A, b):\n",
    "    Q,R = QR.factor(A)\n",
    "    return triangular_solve(mat2rowdict(R), sorted(A.D[1], key=repr), Q.transpose()*b)\n",
    "\n",
    "A = Mat(({'a','b','c'},{'A','B'}), {('a','A'):-1,('a','B'):2,\n",
    "                                   ('b','A'):5,('b','B'):3,('c','A'):1,('c','B'):-2})\n",
    "print(A)"
   ]
  },
  {
   "cell_type": "code",
   "execution_count": 11,
   "metadata": {},
   "outputs": [
    {
     "name": "stdout",
     "output_type": "stream",
     "text": [
      "\n",
      "            0     1\n",
      "     --------------\n",
      " a  |  -0.192  0.68\n",
      " b  |   0.962 0.272\n",
      " c  |   0.192 -0.68\n",
      "\n"
     ]
    }
   ],
   "source": [
    "Q,R = QR.factor(A)\n",
    "print(Q)"
   ]
  },
  {
   "cell_type": "code",
   "execution_count": 12,
   "metadata": {},
   "outputs": [
    {
     "name": "stdout",
     "output_type": "stream",
     "text": [
      "\n",
      "         A    B\n",
      "     ----------\n",
      " 0  |  5.2 2.12\n",
      " 1  |    0 3.54\n",
      "\n"
     ]
    }
   ],
   "source": [
    "print(R)"
   ]
  },
  {
   "cell_type": "code",
   "execution_count": 16,
   "metadata": {},
   "outputs": [
    {
     "data": {
      "text/plain": [
       "Vec({'B', 'A'},{'B': 0.1153846153846154, 'A': -0.2692307692307693})"
      ]
     },
     "execution_count": 16,
     "metadata": {},
     "output_type": "execute_result"
    }
   ],
   "source": [
    "b = Vec({'a','b','c'},{'a':1,'b':-1})\n",
    "x = QR_solve(A,b)\n",
    "x"
   ]
  },
  {
   "cell_type": "code",
   "execution_count": 17,
   "metadata": {},
   "outputs": [
    {
     "data": {
      "text/plain": [
       "Vec({'B', 'A'},{'B': -4.440892098500626e-16, 'A': 2.220446049250313e-16})"
      ]
     },
     "execution_count": 17,
     "metadata": {},
     "output_type": "execute_result"
    }
   ],
   "source": [
    "A.transpose()*(b-A*x)"
   ]
  },
  {
   "cell_type": "code",
   "execution_count": 2,
   "metadata": {},
   "outputs": [
    {
     "data": {
      "text/plain": [
       "[Vec({'age', 'height'},{'age': 18.0, 'height': 76.1}),\n",
       " Vec({'age', 'height'},{'age': 19.0, 'height': 77.0}),\n",
       " Vec({'age', 'height'},{'age': 20.0, 'height': 78.1}),\n",
       " Vec({'age', 'height'},{'age': 21.0, 'height': 78.2}),\n",
       " Vec({'age', 'height'},{'age': 22.0, 'height': 78.8}),\n",
       " Vec({'age', 'height'},{'age': 23.0, 'height': 79.7}),\n",
       " Vec({'age', 'height'},{'age': 24.0, 'height': 79.9}),\n",
       " Vec({'age', 'height'},{'age': 25.0, 'height': 81.1}),\n",
       " Vec({'age', 'height'},{'age': 26.0, 'height': 81.2}),\n",
       " Vec({'age', 'height'},{'age': 27.0, 'height': 81.8}),\n",
       " Vec({'age', 'height'},{'age': 28.0, 'height': 82.8}),\n",
       " Vec({'age', 'height'},{'age': 29.0, 'height': 83.5})]"
      ]
     },
     "execution_count": 2,
     "metadata": {},
     "output_type": "execute_result"
    }
   ],
   "source": [
    "# Problem 10.11.15\n",
    "from read_data import *\n",
    "\n",
    "vlist = read_vectors('age-height.txt')\n",
    "vlist"
   ]
  },
  {
   "cell_type": "code",
   "execution_count": null,
   "metadata": {},
   "outputs": [],
   "source": [
    "# Problem 10.11.16"
   ]
  }
 ],
 "metadata": {
  "kernelspec": {
   "display_name": "Python [conda root]",
   "language": "python",
   "name": "conda-root-py"
  },
  "language_info": {
   "codemirror_mode": {
    "name": "ipython",
    "version": 3
   },
   "file_extension": ".py",
   "mimetype": "text/x-python",
   "name": "python",
   "nbconvert_exporter": "python",
   "pygments_lexer": "ipython3",
   "version": "3.6.5"
  }
 },
 "nbformat": 4,
 "nbformat_minor": 2
}

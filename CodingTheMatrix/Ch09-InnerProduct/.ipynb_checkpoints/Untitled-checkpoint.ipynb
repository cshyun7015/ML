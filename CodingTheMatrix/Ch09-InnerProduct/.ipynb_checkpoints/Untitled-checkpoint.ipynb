{
 "cells": [
  {
   "cell_type": "code",
   "execution_count": 6,
   "metadata": {},
   "outputs": [
    {
     "data": {
      "text/plain": [
       "Mat(({1, 2, 3, 4, 5, 6, 7, 8, 9}, {1, 2, 3, 4, 5, 6, 7, 8, 9}), {(1, 1): 1, (1, 2): 2, (1, 3): 3, (1, 4): 4, (1, 5): 5, (1, 6): 6, (1, 7): 7, (1, 8): 8, (1, 9): 9, (2, 1): 2, (2, 2): 4, (2, 3): 6, (2, 4): 8, (2, 5): 10, (2, 6): 12, (2, 7): 14, (2, 8): 16, (2, 9): 18, (3, 1): 3, (3, 2): 6, (3, 3): 9, (3, 4): 12, (3, 5): 15, (3, 6): 18, (3, 7): 21, (3, 8): 24, (3, 9): 27, (4, 1): 4, (4, 2): 8, (4, 3): 12, (4, 4): 16, (4, 5): 20, (4, 6): 24, (4, 7): 28, (4, 8): 32, (4, 9): 36, (5, 1): 5, (5, 2): 10, (5, 3): 15, (5, 4): 20, (5, 5): 25, (5, 6): 30, (5, 7): 35, (5, 8): 40, (5, 9): 45, (6, 1): 6, (6, 2): 12, (6, 3): 18, (6, 4): 24, (6, 5): 30, (6, 6): 36, (6, 7): 42, (6, 8): 48, (6, 9): 54, (7, 1): 7, (7, 2): 14, (7, 3): 21, (7, 4): 28, (7, 5): 35, (7, 6): 42, (7, 7): 49, (7, 8): 56, (7, 9): 63, (8, 1): 8, (8, 2): 16, (8, 3): 24, (8, 4): 32, (8, 5): 40, (8, 6): 48, (8, 7): 56, (8, 8): 64, (8, 9): 72, (9, 1): 9, (9, 2): 18, (9, 3): 27, (9, 4): 36, (9, 5): 45, (9, 6): 54, (9, 7): 63, (9, 8): 72, (9, 9): 81})"
      ]
     },
     "execution_count": 6,
     "metadata": {},
     "output_type": "execute_result"
    }
   ],
   "source": [
    "# Problem 9.3.15\n",
    "from vec import *\n",
    "from mat import *\n",
    "\n",
    "def projection_matrix(v):\n",
    "    f = {}\n",
    "    for i in v.D:\n",
    "        for j in v.D:\n",
    "            f[(i,j)] = v[i]*v[j]\n",
    "    return Mat((v.D, v.D), f)\n",
    "\n",
    "v = Vec({1,2,3,4,5,6,7,8,9},{1:1,2:2,3:3,4:4,5:5,6:6,7:7,8:8,9:9})\n",
    "projection_matrix(v)"
   ]
  },
  {
   "cell_type": "code",
   "execution_count": null,
   "metadata": {},
   "outputs": [],
   "source": [
    "# Task 9.4.1\n",
    "\n"
   ]
  },
  {
   "cell_type": "code",
   "execution_count": null,
   "metadata": {},
   "outputs": [],
   "source": [
    "# Task 9.4.2\n",
    "\n",
    "def signum(u):"
   ]
  },
  {
   "cell_type": "code",
   "execution_count": null,
   "metadata": {},
   "outputs": [],
   "source": [
    "# Task 9.4.3\n",
    "\n",
    "def fraction_wrong(A, b, w):"
   ]
  },
  {
   "cell_type": "code",
   "execution_count": null,
   "metadata": {},
   "outputs": [],
   "source": [
    "# Task 9.4.4\n",
    "\n",
    "def loss(A, b, w):"
   ]
  },
  {
   "cell_type": "code",
   "execution_count": null,
   "metadata": {},
   "outputs": [],
   "source": [
    "# Task 9.4.9\n",
    "\n",
    "def find_grid(A, b, w):"
   ]
  },
  {
   "cell_type": "code",
   "execution_count": null,
   "metadata": {},
   "outputs": [],
   "source": [
    "# Task 9.4.10\n",
    "\n",
    "def gradient_descent_step(A, b, w, sigma):"
   ]
  },
  {
   "cell_type": "code",
   "execution_count": null,
   "metadata": {},
   "outputs": [],
   "source": [
    "# Task 9.4.11\n",
    "\n",
    "def gradient_descent(A, b, w, sigma, T):"
   ]
  },
  {
   "cell_type": "code",
   "execution_count": null,
   "metadata": {},
   "outputs": [],
   "source": [
    "# Task 9.4.12"
   ]
  },
  {
   "cell_type": "code",
   "execution_count": null,
   "metadata": {},
   "outputs": [],
   "source": [
    "# Task 9.4.13"
   ]
  }
 ],
 "metadata": {
  "kernelspec": {
   "display_name": "Python [conda root]",
   "language": "python",
   "name": "conda-root-py"
  },
  "language_info": {
   "codemirror_mode": {
    "name": "ipython",
    "version": 3
   },
   "file_extension": ".py",
   "mimetype": "text/x-python",
   "name": "python",
   "nbconvert_exporter": "python",
   "pygments_lexer": "ipython3",
   "version": "3.6.5"
  }
 },
 "nbformat": 4,
 "nbformat_minor": 2
}

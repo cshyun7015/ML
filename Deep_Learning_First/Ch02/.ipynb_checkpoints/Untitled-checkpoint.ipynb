{
 "cells": [
  {
   "cell_type": "raw",
   "metadata": {},
   "source": [
    "# 2.8.1 SGD"
   ]
  },
  {
   "cell_type": "code",
   "execution_count": 1,
   "metadata": {},
   "outputs": [],
   "source": [
    "import numpy"
   ]
  },
  {
   "cell_type": "code",
   "execution_count": 2,
   "metadata": {},
   "outputs": [],
   "source": [
    "def Sigmoid(x):\n",
    "    return 1.0 / (1.0 + numpy.exp(-x))"
   ]
  },
  {
   "cell_type": "code",
   "execution_count": 3,
   "metadata": {},
   "outputs": [],
   "source": [
    "X = numpy.array([[0, 0, 1], [0, 1, 1], [1, 0, 1], [1, 1, 1]])\n",
    "D = numpy.array([0, 0, 1, 1])"
   ]
  },
  {
   "cell_type": "code",
   "execution_count": 4,
   "metadata": {},
   "outputs": [],
   "source": [
    "def DeltaSGD(W, X, D):\n",
    "    alpha = 0.9\n",
    "    N = 4\n",
    "    for k in range(N):\n",
    "        x = X[k]\n",
    "        d = D[k]\n",
    "        v = numpy.dot(W, x)\n",
    "        y = Sigmoid(v)\n",
    "        \n",
    "        e = d - y\n",
    "        delta = y*(1-y)*e\n",
    "        \n",
    "        dW = alpha*delta*x\n",
    "        \n",
    "        W[0][0] = W[0][0] + dW[0]\n",
    "        W[0][1] = W[0][1] + dW[1]\n",
    "        W[0][2] = W[0][2] + dW[2]\n",
    "        \n",
    "    return W"
   ]
  },
  {
   "cell_type": "code",
   "execution_count": 5,
   "metadata": {},
   "outputs": [],
   "source": [
    "W = 2*numpy.random.rand(1,3) - 1\n",
    "for x in range(10000):\n",
    "    W = DeltaSGD(W, X, D)"
   ]
  },
  {
   "cell_type": "code",
   "execution_count": 6,
   "metadata": {},
   "outputs": [],
   "source": [
    "y = numpy.zeros((4))"
   ]
  },
  {
   "cell_type": "code",
   "execution_count": 7,
   "metadata": {},
   "outputs": [],
   "source": [
    "for k in range(4):\n",
    "    x = X[k]\n",
    "    v = numpy.dot(W, x)\n",
    "    y[k] = Sigmoid(v)"
   ]
  },
  {
   "cell_type": "code",
   "execution_count": 8,
   "metadata": {},
   "outputs": [
    {
     "data": {
      "text/plain": [
       "array([0.01020437, 0.00829452, 0.99324234, 0.99168338])"
      ]
     },
     "execution_count": 8,
     "metadata": {},
     "output_type": "execute_result"
    }
   ],
   "source": [
    "y"
   ]
  },
  {
   "cell_type": "raw",
   "metadata": {},
   "source": [
    "# 2.8.2 Batch"
   ]
  },
  {
   "cell_type": "code",
   "execution_count": 9,
   "metadata": {},
   "outputs": [],
   "source": [
    "def DeltaBatch(W, X, D):\n",
    "    alpha = 0.9\n",
    "    dWsum = numpy.zeros((3))\n",
    "    N = 4\n",
    "    for k in range(N):\n",
    "        x = X[k]\n",
    "        d = D[k]\n",
    "        v = numpy.dot(W, x)\n",
    "        y = Sigmoid(v)\n",
    "        \n",
    "        e = d - y\n",
    "        delta = y*(1-y)*e\n",
    "        \n",
    "        dW = alpha*delta*x\n",
    "        \n",
    "        dWsum = dWsum + dW\n",
    "    \n",
    "    dWavg = dWsum / N\n",
    "    \n",
    "    W[0][0] = W[0][0] + dWavg[0]\n",
    "    W[0][1] = W[0][1] + dWavg[1]\n",
    "    W[0][2] = W[0][2] + dWavg[2]\n",
    "        \n",
    "    return W"
   ]
  },
  {
   "cell_type": "code",
   "execution_count": 10,
   "metadata": {},
   "outputs": [],
   "source": [
    "W = 2*numpy.random.rand(1,3) - 1\n",
    "for epoch in range(10000):\n",
    "    W = DeltaBatch(W, X, D)"
   ]
  },
  {
   "cell_type": "code",
   "execution_count": 11,
   "metadata": {},
   "outputs": [],
   "source": [
    "y = numpy.zeros((4))"
   ]
  },
  {
   "cell_type": "code",
   "execution_count": 12,
   "metadata": {},
   "outputs": [],
   "source": [
    "for k in range(4):\n",
    "    x = X[k]\n",
    "    v = numpy.dot(W, x)\n",
    "    y[k] = Sigmoid(v)"
   ]
  },
  {
   "cell_type": "code",
   "execution_count": 13,
   "metadata": {},
   "outputs": [
    {
     "data": {
      "text/plain": [
       "array([0.02084648, 0.01686505, 0.98628575, 0.98303531])"
      ]
     },
     "execution_count": 13,
     "metadata": {},
     "output_type": "execute_result"
    }
   ],
   "source": [
    "y"
   ]
  },
  {
   "cell_type": "raw",
   "metadata": {},
   "source": [
    "# 2.8.3 SGD vs. Batch"
   ]
  },
  {
   "cell_type": "code",
   "execution_count": 14,
   "metadata": {},
   "outputs": [],
   "source": [
    "X = numpy.array([[0, 0, 1], [0, 1, 1], [1, 0, 1], [1, 1, 1]])\n",
    "D = numpy.array([0, 0, 1, 1])"
   ]
  },
  {
   "cell_type": "code",
   "execution_count": 15,
   "metadata": {},
   "outputs": [],
   "source": [
    "E1 = numpy.zeros((1000))\n",
    "E2 = numpy.zeros((1000))"
   ]
  },
  {
   "cell_type": "code",
   "execution_count": 16,
   "metadata": {},
   "outputs": [],
   "source": [
    "W1 = 2*numpy.random.rand(1, 3)-1\n",
    "#W2 = W1\n",
    "W2 = 2*numpy.random.rand(1, 3)-1"
   ]
  },
  {
   "cell_type": "code",
   "execution_count": 17,
   "metadata": {},
   "outputs": [],
   "source": [
    "for epoch in range(1000):\n",
    "    W1 = DeltaSGD(W1, X, D)\n",
    "    W2 = DeltaBatch(W2, X, D)\n",
    "    \n",
    "    es1 = 0.0\n",
    "    es2 = 0.0\n",
    "    N = 4\n",
    "    \n",
    "    for k in range(4):\n",
    "        x = X[k]\n",
    "        d = D[k]\n",
    "        \n",
    "        v1 = numpy.dot(W1, x)\n",
    "        y1 = Sigmoid(v1)\n",
    "        es1 = es1 + numpy.power((d-y1), 2)\n",
    "        \n",
    "        v2 = numpy.dot(W2, x)\n",
    "        y2 = Sigmoid(v2)\n",
    "        es2 = es2 + numpy.power((d-y2), 2)\n",
    "        \n",
    "    E1[epoch] = es1 / N\n",
    "    E2[epoch] = es2 / N"
   ]
  },
  {
   "cell_type": "code",
   "execution_count": 18,
   "metadata": {},
   "outputs": [],
   "source": [
    "from matplotlib import pyplot as plt\n",
    "%matplotlib inline"
   ]
  },
  {
   "cell_type": "code",
   "execution_count": 19,
   "metadata": {},
   "outputs": [
    {
     "data": {
      "image/png": "[encoded data removed]",
      "text/plain": [
       "<Figure size 432x288 with 1 Axes>"
      ]
     },
     "metadata": {},
     "output_type": "display_data"
    }
   ],
   "source": [
    "plt.plot(range(1000), E1, 'r-', label='SGD')\n",
    "plt.plot(range(1000), E2, 'g-.', label='Batch')\n",
    "plt.xlabel(\"Epoch\")\n",
    "plt.ylabel(\"Average of Training error\")\n",
    "plt.legend()\n",
    "plt.show()"
   ]
  },
  {
   "cell_type": "code",
   "execution_count": 20,
   "metadata": {},
   "outputs": [
    {
     "data": {
      "text/plain": [
       "0.000775057282731966"
      ]
     },
     "execution_count": 20,
     "metadata": {},
     "output_type": "execute_result"
    }
   ],
   "source": [
    "E1[999]"
   ]
  },
  {
   "cell_type": "code",
   "execution_count": 21,
   "metadata": {},
   "outputs": [
    {
     "data": {
      "text/plain": [
       "0.0035157593686457674"
      ]
     },
     "execution_count": 21,
     "metadata": {},
     "output_type": "execute_result"
    }
   ],
   "source": [
    "E2[999]"
   ]
  },
  {
   "cell_type": "raw",
   "metadata": {},
   "source": [
    "# 2.9 "
   ]
  },
  {
   "cell_type": "code",
   "execution_count": 23,
   "metadata": {},
   "outputs": [],
   "source": [
    "X = numpy.array([[0, 0, 1], [0, 1, 1], [1, 0, 1], [1, 1, 1]])\n",
    "D = numpy.array([0, 1, 1, 0])"
   ]
  },
  {
   "cell_type": "code",
   "execution_count": 24,
   "metadata": {},
   "outputs": [],
   "source": [
    "W = 2*numpy.random.rand(1,3) - 1\n",
    "for x in range(40000):\n",
    "    W = DeltaSGD(W, X, D)"
   ]
  },
  {
   "cell_type": "code",
   "execution_count": 25,
   "metadata": {},
   "outputs": [],
   "source": [
    "y = numpy.zeros((4))"
   ]
  },
  {
   "cell_type": "code",
   "execution_count": 26,
   "metadata": {},
   "outputs": [],
   "source": [
    "for k in range(4):\n",
    "    x = X[k]\n",
    "    v = numpy.dot(W, x)\n",
    "    y[k] = Sigmoid(v)"
   ]
  },
  {
   "cell_type": "code",
   "execution_count": 27,
   "metadata": {},
   "outputs": [
    {
     "data": {
      "text/plain": [
       "array([0.52965337, 0.5       , 0.47034663, 0.44090112])"
      ]
     },
     "execution_count": 27,
     "metadata": {},
     "output_type": "execute_result"
    }
   ],
   "source": [
    "y"
   ]
  },
  {
   "cell_type": "code",
   "execution_count": null,
   "metadata": {},
   "outputs": [],
   "source": []
  }
 ],
 "metadata": {
  "kernelspec": {
   "display_name": "Python [conda root]",
   "language": "python",
   "name": "conda-root-py"
  },
  "language_info": {
   "codemirror_mode": {
    "name": "ipython",
    "version": 3
   },
   "file_extension": ".py",
   "mimetype": "text/x-python",
   "name": "python",
   "nbconvert_exporter": "python",
   "pygments_lexer": "ipython3",
   "version": "3.6.5"
  }
 },
 "nbformat": 4,
 "nbformat_minor": 2
}

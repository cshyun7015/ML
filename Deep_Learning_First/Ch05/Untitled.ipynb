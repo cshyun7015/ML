{
 "cells": [
  {
   "cell_type": "raw",
   "metadata": {},
   "source": [
    "# 5.3.1 ReLU Function"
   ]
  },
  {
   "cell_type": "code",
   "execution_count": 2,
   "metadata": {},
   "outputs": [],
   "source": [
    "import numpy"
   ]
  },
  {
   "cell_type": "code",
   "execution_count": 29,
   "metadata": {},
   "outputs": [],
   "source": [
    "def ReLU(x):\n",
    "    return numpy.maximum(0, x)"
   ]
  },
  {
   "cell_type": "code",
   "execution_count": 30,
   "metadata": {},
   "outputs": [],
   "source": [
    "def Softmax(x):\n",
    "    ex = numpy.exp(numpy.array(x))\n",
    "    return ex / sum(ex)"
   ]
  },
  {
   "cell_type": "code",
   "execution_count": 43,
   "metadata": {},
   "outputs": [],
   "source": [
    "def DeepReLU(W1, W2, W3, W4, X, D):\n",
    "    alpha = 0.01\n",
    "    N = 5\n",
    "    for k in range(N):\n",
    "        x = numpy.reshape(X[k], (25,1))\n",
    "        v1 = numpy.dot(W1, x)\n",
    "        y1 = ReLU(v1)\n",
    "        v2 = numpy.dot(W2, y1)\n",
    "        y2 = ReLU(v2)\n",
    "        v3 = numpy.dot(W3, y2)\n",
    "        y3 = ReLU(v3)\n",
    "        v = numpy.dot(W4, y3)\n",
    "        y = Softmax(v)\n",
    "\n",
    "        #d = numpy.transpose(D[k])\n",
    "        d = numpy.reshape(D[k], (5,1))\n",
    "        \n",
    "        e = d - y\n",
    "        delta = e\n",
    "        e3 = numpy.dot(W4.T, delta)\n",
    "        delta3 = (v3 > 0) * e3\n",
    "        e2 = numpy.dot(W3.T, delta3)\n",
    "        delta2 = (v2 > 0) * e2\n",
    "        e1 = numpy.dot(W2.T, delta2)\n",
    "        delta1 = (v1 > 0)* e1\n",
    "        \n",
    "        dW4 = alpha*numpy.outer(delta, numpy.transpose(y3))\n",
    "        #dW4 = alpha*numpy.dot(delta, numpy.transpose(y3))\n",
    "        W4 = W4 + dW4\n",
    "\n",
    "        dW3 = alpha*delta3*numpy.transpose(y2)\n",
    "        W3 = W3 + dW3\n",
    "        \n",
    "        dW2 = alpha*delta2*numpy.transpose(y1)\n",
    "        W2 = W2 + dW2\n",
    "\n",
    "        dW1 = alpha*delta1*numpy.transpose(x)\n",
    "        W1 = W1 + dW1\n",
    "\n",
    "    return W1, W2, W3, W4"
   ]
  },
  {
   "cell_type": "code",
   "execution_count": 44,
   "metadata": {},
   "outputs": [],
   "source": [
    "X = numpy.zeros((5, 5, 5))\n",
    "X[0] = [[0, 1, 1, 0, 0],\n",
    "        [0, 0, 1, 0, 0],\n",
    "        [0, 0, 1, 0, 0],\n",
    "        [0, 0, 1, 0, 0],\n",
    "        [0, 1, 1, 1, 0]]\n",
    "X[1] = [[1, 1, 1, 1, 0],\n",
    "        [0, 0, 0, 0, 1],\n",
    "        [0, 1, 1, 1, 0],\n",
    "        [1, 0, 0, 0, 0],\n",
    "        [1, 1, 1, 1, 1]]\n",
    "X[2] = [[1, 1, 1, 1, 0],\n",
    "        [0, 0, 0, 0, 1],\n",
    "        [0, 1, 1, 1, 0],\n",
    "        [0, 0, 0, 0, 1],\n",
    "        [1, 1, 1, 1, 0]]\n",
    "X[3] = [[0, 0, 0, 1, 0],\n",
    "        [0, 0, 1, 1, 0],\n",
    "        [0, 1, 0, 1, 0],\n",
    "        [1, 1, 1, 1, 1],\n",
    "        [0, 0, 0, 1, 0]]\n",
    "X[4] = [[1, 1, 1, 1, 1],\n",
    "        [1, 0, 0, 0, 0],\n",
    "        [1, 1, 1, 1, 0],\n",
    "        [0, 0, 0, 0, 1],\n",
    "        [1, 1, 1, 1, 0]]\n",
    "\n",
    "D = [[1, 0, 0, 0, 0],\n",
    "     [0, 1, 0, 0, 0],\n",
    "     [0, 0, 1, 0, 0],\n",
    "     [0, 0, 0, 1, 0],\n",
    "     [0, 0, 0, 0, 1]]"
   ]
  },
  {
   "cell_type": "code",
   "execution_count": 45,
   "metadata": {},
   "outputs": [],
   "source": [
    "W1 = 2*numpy.random.rand(20, 25)-1\n",
    "W2 = 2*numpy.random.rand(20, 20)-1\n",
    "W3 = 2*numpy.random.rand(20, 20)-1\n",
    "W4 = 2*numpy.random.rand(5, 20)-1"
   ]
  },
  {
   "cell_type": "code",
   "execution_count": 46,
   "metadata": {},
   "outputs": [],
   "source": [
    "for epoch in range(10000):\n",
    "    W1, W2, W3, W4 = DeepReLU(W1, W2, W3, W4, X, D)"
   ]
  },
  {
   "cell_type": "code",
   "execution_count": 47,
   "metadata": {},
   "outputs": [],
   "source": [
    "y = numpy.zeros((5, 5))"
   ]
  },
  {
   "cell_type": "code",
   "execution_count": 48,
   "metadata": {},
   "outputs": [],
   "source": [
    "N = 5\n",
    "for k in range(N):\n",
    "    x = numpy.reshape(X[k], (25,1))\n",
    "    v1 = numpy.dot(W1, x)\n",
    "    y1 = ReLU(v1)\n",
    "    v2 = numpy.dot(W2, y1)\n",
    "    y2 = ReLU(v2)\n",
    "    v3 = numpy.dot(W3, y2)\n",
    "    y3 = ReLU(v3)\n",
    "    v = numpy.dot(W4, y3)\n",
    "    y[k] = numpy.reshape(numpy.round(Softmax(v), 3), (5))"
   ]
  },
  {
   "cell_type": "code",
   "execution_count": 49,
   "metadata": {},
   "outputs": [
    {
     "data": {
      "text/plain": [
       "array([[1., 0., 0., 0., 0.],\n",
       "       [0., 1., 0., 0., 0.],\n",
       "       [0., 0., 1., 0., 0.],\n",
       "       [0., 0., 0., 1., 0.],\n",
       "       [0., 0., 0., 0., 1.]])"
      ]
     },
     "execution_count": 49,
     "metadata": {},
     "output_type": "execute_result"
    }
   ],
   "source": [
    "y"
   ]
  },
  {
   "cell_type": "raw",
   "metadata": {},
   "source": [
    "# 5.3.2 DropOut"
   ]
  },
  {
   "cell_type": "code",
   "execution_count": 51,
   "metadata": {},
   "outputs": [],
   "source": [
    "def Sigmoid(x):\n",
    "    return 1.0 / (1.0 + numpy.exp(-1 * numpy.array(x)))"
   ]
  },
  {
   "cell_type": "code",
   "execution_count": 52,
   "metadata": {},
   "outputs": [],
   "source": [
    "import random\n",
    "\n",
    "def Dropout(y, ratio):\n",
    "    m, n = y.shape\n",
    "    ym = numpy.zeros((m, n))\n",
    "    \n",
    "    num = round(m*n*(1-ratio))\n",
    "    idx = random.sample(range(m*n), num)\n",
    "    ym[idx] = 1 / (1-ratio)\n",
    "    return ym"
   ]
  },
  {
   "cell_type": "code",
   "execution_count": 67,
   "metadata": {},
   "outputs": [
    {
     "data": {
      "text/plain": [
       "array([[0.  ],\n",
       "       [1.25],\n",
       "       [1.25],\n",
       "       [1.25],\n",
       "       [1.25],\n",
       "       [1.25]])"
      ]
     },
     "execution_count": 67,
     "metadata": {},
     "output_type": "execute_result"
    }
   ],
   "source": [
    "z = numpy.random.rand(6, 1)\n",
    "Dropout(numpy.array(z), 0.2)"
   ]
  },
  {
   "cell_type": "code",
   "execution_count": 72,
   "metadata": {},
   "outputs": [],
   "source": [
    "def DeepDropout(W1, W2, W3, W4, X, D):\n",
    "    alpha = 0.01\n",
    "    N = 5\n",
    "    for k in range(N):\n",
    "        x = numpy.reshape(X[k], (25,1))\n",
    "        v1 = numpy.dot(W1, x)\n",
    "        y1 = Sigmoid(v1)\n",
    "        y1 = y1 * Dropout(y1, 0.2)\n",
    "        v2 = numpy.dot(W2, y1)\n",
    "        y2 = Sigmoid(v2)\n",
    "        y2 = y2 * Dropout(y2, 0.2)\n",
    "        v3 = numpy.dot(W3, y2)\n",
    "        y3 = Sigmoid(v3)\n",
    "        y3 = y3 * Dropout(y3, 0.2)\n",
    "        v = numpy.dot(W4, y3)\n",
    "        y = Softmax(v)\n",
    "\n",
    "        d = numpy.reshape(D[k], (5,1))\n",
    "        \n",
    "        e = d - y\n",
    "        delta = e\n",
    "        e3 = numpy.dot(W4.T, delta)\n",
    "        delta3 = y3 * (1 - y3) * e3\n",
    "        e2 = numpy.dot(W3.T, delta3)\n",
    "        delta2 = y2 * (1 - y2) * e2\n",
    "        e1 = numpy.dot(W2.T, delta2)\n",
    "        delta1 = y1 * (1 - y1) * e1\n",
    "        \n",
    "        dW4 = alpha*numpy.outer(delta, numpy.transpose(y3))\n",
    "        W4 = W4 + dW4\n",
    "\n",
    "        dW3 = alpha*delta3*numpy.transpose(y2)\n",
    "        W3 = W3 + dW3\n",
    "        \n",
    "        dW2 = alpha*delta2*numpy.transpose(y1)\n",
    "        W2 = W2 + dW2\n",
    "\n",
    "        dW1 = alpha*delta1*numpy.transpose(x)\n",
    "        W1 = W1 + dW1\n",
    "\n",
    "    return W1, W2, W3, W4"
   ]
  },
  {
   "cell_type": "code",
   "execution_count": 73,
   "metadata": {},
   "outputs": [],
   "source": [
    "X = numpy.zeros((5, 5, 5))\n",
    "X[0] = [[0, 1, 1, 0, 0],\n",
    "        [0, 0, 1, 0, 0],\n",
    "        [0, 0, 1, 0, 0],\n",
    "        [0, 0, 1, 0, 0],\n",
    "        [0, 1, 1, 1, 0]]\n",
    "X[1] = [[1, 1, 1, 1, 0],\n",
    "        [0, 0, 0, 0, 1],\n",
    "        [0, 1, 1, 1, 0],\n",
    "        [1, 0, 0, 0, 0],\n",
    "        [1, 1, 1, 1, 1]]\n",
    "X[2] = [[1, 1, 1, 1, 0],\n",
    "        [0, 0, 0, 0, 1],\n",
    "        [0, 1, 1, 1, 0],\n",
    "        [0, 0, 0, 0, 1],\n",
    "        [1, 1, 1, 1, 0]]\n",
    "X[3] = [[0, 0, 0, 1, 0],\n",
    "        [0, 0, 1, 1, 0],\n",
    "        [0, 1, 0, 1, 0],\n",
    "        [1, 1, 1, 1, 1],\n",
    "        [0, 0, 0, 1, 0]]\n",
    "X[4] = [[1, 1, 1, 1, 1],\n",
    "        [1, 0, 0, 0, 0],\n",
    "        [1, 1, 1, 1, 0],\n",
    "        [0, 0, 0, 0, 1],\n",
    "        [1, 1, 1, 1, 0]]\n",
    "\n",
    "D = [[1, 0, 0, 0, 0],\n",
    "     [0, 1, 0, 0, 0],\n",
    "     [0, 0, 1, 0, 0],\n",
    "     [0, 0, 0, 1, 0],\n",
    "     [0, 0, 0, 0, 1]]"
   ]
  },
  {
   "cell_type": "code",
   "execution_count": 74,
   "metadata": {},
   "outputs": [],
   "source": [
    "W1 = 2*numpy.random.rand(20, 25)-1\n",
    "W2 = 2*numpy.random.rand(20, 20)-1\n",
    "W3 = 2*numpy.random.rand(20, 20)-1\n",
    "W4 = 2*numpy.random.rand(5, 20)-1"
   ]
  },
  {
   "cell_type": "code",
   "execution_count": 75,
   "metadata": {},
   "outputs": [],
   "source": [
    "for epoch in range(20000):\n",
    "    W1, W2, W3, W4 = DeepDropout(W1, W2, W3, W4, X, D)"
   ]
  },
  {
   "cell_type": "code",
   "execution_count": 76,
   "metadata": {},
   "outputs": [],
   "source": [
    "y = numpy.zeros((5, 5))"
   ]
  },
  {
   "cell_type": "code",
   "execution_count": 77,
   "metadata": {},
   "outputs": [],
   "source": [
    "N = 5\n",
    "for k in range(N):\n",
    "    x = numpy.reshape(X[k], (25,1))\n",
    "    v1 = numpy.dot(W1, x)\n",
    "    y1 = Sigmoid(v1)\n",
    "    v2 = numpy.dot(W2, y1)\n",
    "    y2 = Sigmoid(v2)\n",
    "    v3 = numpy.dot(W3, y2)\n",
    "    y3 = Sigmoid(v3)\n",
    "    v = numpy.dot(W4, y3)\n",
    "    y[k] = numpy.reshape(numpy.round(Softmax(v), 3), (5))"
   ]
  },
  {
   "cell_type": "code",
   "execution_count": 78,
   "metadata": {},
   "outputs": [
    {
     "data": {
      "text/plain": [
       "array([[1.   , 0.   , 0.   , 0.   , 0.   ],\n",
       "       [0.   , 1.   , 0.   , 0.   , 0.   ],\n",
       "       [0.   , 0.001, 0.999, 0.   , 0.   ],\n",
       "       [0.   , 0.   , 0.   , 1.   , 0.   ],\n",
       "       [0.   , 0.   , 0.   , 0.   , 1.   ]])"
      ]
     },
     "execution_count": 78,
     "metadata": {},
     "output_type": "execute_result"
    }
   ],
   "source": [
    "y"
   ]
  },
  {
   "cell_type": "code",
   "execution_count": null,
   "metadata": {},
   "outputs": [],
   "source": []
  }
 ],
 "metadata": {
  "kernelspec": {
   "display_name": "Python [conda root]",
   "language": "python",
   "name": "conda-root-py"
  },
  "language_info": {
   "codemirror_mode": {
    "name": "ipython",
    "version": 3
   },
   "file_extension": ".py",
   "mimetype": "text/x-python",
   "name": "python",
   "nbconvert_exporter": "python",
   "pygments_lexer": "ipython3",
   "version": "3.6.5"
  }
 },
 "nbformat": 4,
 "nbformat_minor": 2
}

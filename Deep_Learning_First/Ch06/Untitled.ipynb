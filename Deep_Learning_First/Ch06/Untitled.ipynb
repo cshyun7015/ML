{
 "cells": [
  {
   "cell_type": "raw",
   "metadata": {},
   "source": [
    "# 6.5 MNIST"
   ]
  },
  {
   "cell_type": "code",
   "execution_count": 1,
   "metadata": {},
   "outputs": [],
   "source": [
    "import numpy\n",
    "import scipy.signal\n",
    "import scipy.sparse"
   ]
  },
  {
   "cell_type": "code",
   "execution_count": 2,
   "metadata": {},
   "outputs": [],
   "source": [
    "def Conv(x, W):\n",
    "    wrow, wcol, numFilters = W.shape\n",
    "    xrow, xcol, _ = x.shape\n",
    "    \n",
    "    yrow = xrow - wrow + 1\n",
    "    ycol = xcol - wcol + 1\n",
    "    \n",
    "    y = numpy.zeros((yrow, ycol, numFilters))\n",
    "    \n",
    "    for k in range(numFilters):\n",
    "        filterW = W[:, :, k]\n",
    "        filterW = numpy.rot90(numpy.squeeze(filterW), 2)\n",
    "        y[:, :, k] = scipy.signal.convolve2d(x[:, :, 0], filterW, 'valid')\n",
    "        \n",
    "    return y"
   ]
  },
  {
   "cell_type": "code",
   "execution_count": 3,
   "metadata": {},
   "outputs": [],
   "source": [
    "def Pool(x):\n",
    "    xrow, xcol, numFilters = x.shape\n",
    "    \n",
    "    y = numpy.zeros((int(xrow/2), int(xcol/2), numFilters))\n",
    "    \n",
    "    for k in range(numFilters):\n",
    "        filterW = numpy.ones((2, 2)) / (2*2)\n",
    "        image = scipy.signal.convolve2d(x[:, :, k], filterW, 'valid')\n",
    "        y[:, :, k] = image[0:image.shape[0]:2, 0:image.shape[1]:2]\n",
    "    \n",
    "    return y"
   ]
  },
  {
   "cell_type": "code",
   "execution_count": 4,
   "metadata": {},
   "outputs": [],
   "source": [
    "def ReLU(x):\n",
    "    return numpy.maximum(0, x)"
   ]
  },
  {
   "cell_type": "code",
   "execution_count": 5,
   "metadata": {},
   "outputs": [],
   "source": [
    "def Softmax(x):\n",
    "    ex = numpy.exp(numpy.array(x))\n",
    "    return ex / sum(ex)"
   ]
  },
  {
   "cell_type": "code",
   "execution_count": 6,
   "metadata": {},
   "outputs": [],
   "source": [
    "def MnistConv(W1, W5, Wo, X, D):\n",
    "    alpha = 0.01\n",
    "    beta = 0.95\n",
    "    \n",
    "    momentum1 = numpy.zeros(W1.shape)\n",
    "    momentum5 = numpy.zeros(W5.shape)\n",
    "    momentumo = numpy.zeros(Wo.shape)\n",
    "    \n",
    "    N = len(D)\n",
    "    \n",
    "    bsize = 100\n",
    "    blist = [x for x in range(0, (N-bsize+1), bsize)]\n",
    "    \n",
    "    for batch in range(len(blist)):\n",
    "        dW1 = numpy.zeros(W1.shape)\n",
    "        dW5 = numpy.zeros(W5.shape)\n",
    "        dWo = numpy.zeros(Wo.shape)\n",
    "        \n",
    "        begin = blist[batch]\n",
    "        for k in range(begin, begin+bsize, 1):\n",
    "            x = X[:, :, :, k]\n",
    "            y1 = Conv(x, W1)\n",
    "            y2 = ReLU(y1)\n",
    "            y3 = Pool(y2)\n",
    "            y4 = y3.flatten()\n",
    "            v5 = numpy.dot(W5, y4)\n",
    "            y5 = ReLU(v5)\n",
    "            v = numpy.dot(Wo, y5)\n",
    "            y = Softmax(v)\n",
    "            \n",
    "            d = numpy.zeros(10)\n",
    "            d[D[k]] = 1\n",
    "            \n",
    "            e = d - y\n",
    "            delta = e\n",
    "            \n",
    "            e5 = numpy.dot(Wo.T, delta)\n",
    "            delta5 = (y5 > 0) * e5\n",
    "            \n",
    "            e4 = numpy.dot(W5.T, delta5)\n",
    "            \n",
    "            e3 = e4.reshape(y3.shape)\n",
    "            \n",
    "            e2 = numpy.zeros(y2.shape)\n",
    "            W3 = numpy.ones(y2.shape) / (2*2)\n",
    "            for c in range(20):\n",
    "                e2[:, :, c] = scipy.sparse.kron(e3[:, :, c], numpy.ones((2, 2))) * W3[:, :, c]\n",
    "                \n",
    "            delta2 = (y2 > 0) * e2\n",
    "            \n",
    "            delta1_x = numpy.zeros(W1.shape)\n",
    "            for c in range(20):\n",
    "                delta1_x[:, :, c] = scipy.signal.convolve2d(x[:, :, 0], numpy.rot90(delta2[:, :, c], 2), 'valid')\n",
    "                \n",
    "            dW1 = dW1 + delta1_x\n",
    "            dW5 = dW5 + numpy.outer(delta5, numpy.transpose(y4))\n",
    "            dWo = dWo + numpy.outer(delta, numpy.transpose(y5))\n",
    "            \n",
    "            if k % 1000 == 0:\n",
    "                print('k = ', k, ' W1 = ', numpy.sum(W1), ' W5 = ', numpy.sum(W5), ' dWo = ', numpy.sum(Wo))\n",
    "        \n",
    "        dW1 = dW1 / (bsize * 1000)\n",
    "        dW5 = dW5 / (bsize * 1)\n",
    "        dWo = dWo / (bsize * 1)\n",
    "        \n",
    "        momentum1 = alpha * dW1 + beta * momentum1\n",
    "        W1 = W1 + momentum1\n",
    "        \n",
    "        momentum5 = alpha * dW5 + beta * momentum5\n",
    "        W5 = W5 + momentum5\n",
    "        \n",
    "        momentumo = alpha * dWo + beta * momentumo\n",
    "        Wo = Wo + momentumo\n",
    "\n",
    "    return W1, W5, Wo"
   ]
  },
  {
   "cell_type": "code",
   "execution_count": 7,
   "metadata": {},
   "outputs": [],
   "source": [
    "import sys, os\n",
    "sys.path.append(os.pardir)\n",
    "from dataset.mnist import load_mnist\n",
    "\n",
    "(Images, Labels), _ = load_mnist(flatten=False, normalize=False)"
   ]
  },
  {
   "cell_type": "code",
   "execution_count": 8,
   "metadata": {},
   "outputs": [],
   "source": [
    "import math\n",
    "\n",
    "W1 = 1e-2*numpy.random.randn(9, 9, 20)\n",
    "W5 = (2*numpy.random.rand(100, 2000) - 1) * math.sqrt(6) / math.sqrt(360 + 2000)\n",
    "Wo = (2*numpy.random.rand(10, 100) - 1) * math.sqrt(6) / math.sqrt(10 + 100)"
   ]
  },
  {
   "cell_type": "code",
   "execution_count": 9,
   "metadata": {},
   "outputs": [],
   "source": [
    "num_Images = len(Images)\n",
    "X = Images.transpose(2, 3, 1, 0).reshape(28, 28, 1, num_Images)[:, :, :, 0:8000]\n",
    "D = Labels[0:8000]"
   ]
  },
  {
   "cell_type": "code",
   "execution_count": 10,
   "metadata": {},
   "outputs": [
    {
     "name": "stdout",
     "output_type": "stream",
     "text": [
      "k =  0  W1 =  -0.46857531578299005  W5 =  3.579330796815433  dWo =  5.359998474058488\n",
      "k =  1000  W1 =  -33.33407012968216  W5 =  -1073.2819924109826  dWo =  5.359998474058491\n",
      "k =  2000  W1 =  -55.67487573457011  W5 =  -1781.0117292976101  dWo =  5.359998474058486\n",
      "k =  3000  W1 =  -69.36125047394344  W5 =  -2223.471449550728  dWo =  5.359998474058486\n",
      "k =  4000  W1 =  -77.60500979760307  W5 =  -2507.8597136424005  dWo =  5.359998474058479\n",
      "k =  5000  W1 =  -82.50994128233344  W5 =  -2685.3143737125865  dWo =  5.359998474058472\n",
      "k =  6000  W1 =  -85.10655983478094  W5 =  -2817.7319490763653  dWo =  5.359998474058486\n",
      "k =  7000  W1 =  -87.32262401773593  W5 =  -2955.2669096582867  dWo =  5.359998474058472\n",
      "k =  0  W1 =  -88.67297276480409  W5 =  -3072.4574987567394  dWo =  5.359998474058479\n",
      "k =  1000  W1 =  -87.97922605163053  W5 =  -3097.740030306669  dWo =  5.359998474058479\n",
      "k =  2000  W1 =  -87.44752007578634  W5 =  -3152.8641627418947  dWo =  5.359998474058493\n",
      "k =  3000  W1 =  -87.66500989835953  W5 =  -3187.3383186139667  dWo =  5.359998474058486\n",
      "k =  4000  W1 =  -87.77127684540719  W5 =  -3218.184208080247  dWo =  5.359998474058479\n",
      "k =  5000  W1 =  -87.559881951628  W5 =  -3261.7387699079372  dWo =  5.359998474058472\n",
      "k =  6000  W1 =  -87.33064977637412  W5 =  -3323.2504322044388  dWo =  5.35999847405845\n",
      "k =  7000  W1 =  -87.54005398308307  W5 =  -3377.8284434174275  dWo =  5.359998474058472\n",
      "k =  0  W1 =  -87.84673829085672  W5 =  -3441.569488778526  dWo =  5.359998474058479\n",
      "k =  1000  W1 =  -87.46518689192197  W5 =  -3455.1686791072816  dWo =  5.359998474058472\n",
      "k =  2000  W1 =  -87.38375753302876  W5 =  -3476.7651109524877  dWo =  5.3599984740584645\n",
      "k =  3000  W1 =  -87.22644841123535  W5 =  -3494.7731067913173  dWo =  5.359998474058472\n",
      "k =  4000  W1 =  -86.78185189968994  W5 =  -3528.2136507893956  dWo =  5.359998474058493\n",
      "k =  5000  W1 =  -86.6359664467901  W5 =  -3558.6789905429137  dWo =  5.35999847405845\n",
      "k =  6000  W1 =  -87.15069132919899  W5 =  -3591.3004503349607  dWo =  5.3599984740584645\n",
      "k =  7000  W1 =  -86.58574944286971  W5 =  -3668.6979186601066  dWo =  5.359998474058479\n"
     ]
    }
   ],
   "source": [
    "for epoch in range(3):\n",
    "    W1, W5, Wo = MnistConv(W1, W5, Wo, X, D)"
   ]
  },
  {
   "cell_type": "code",
   "execution_count": 11,
   "metadata": {},
   "outputs": [],
   "source": [
    "import pickle\n",
    "\n",
    "fp = open(\"MnistConv.mat\", \"wb\")\n",
    "pickle.dump(W1, fp)\n",
    "pickle.dump(W5, fp)\n",
    "pickle.dump(Wo, fp)\n",
    "fp.close()"
   ]
  },
  {
   "cell_type": "code",
   "execution_count": 17,
   "metadata": {},
   "outputs": [],
   "source": [
    "num_Images = len(Images)\n",
    "X = Images.transpose(2, 3, 1, 0).reshape(28, 28, 1, num_Images)[:, :, :, 8000:10000]\n",
    "D = Labels[8000:10000]"
   ]
  },
  {
   "cell_type": "code",
   "execution_count": 18,
   "metadata": {},
   "outputs": [
    {
     "name": "stdout",
     "output_type": "stream",
     "text": [
      "Accuracy is =  0.1755\n"
     ]
    }
   ],
   "source": [
    "acc = 0\n",
    "N = len(D)\n",
    "for k in range(N):\n",
    "    x = X[:, :, :, k]\n",
    "    y1 = Conv(x, W1)\n",
    "    y2 = ReLU(y1)\n",
    "    y3 = Pool(y2)\n",
    "    y4 = y3.flatten()\n",
    "    v5 = numpy.dot(W5, y4)\n",
    "    y5 = ReLU(v5)\n",
    "    v = numpy.dot(Wo, y5)\n",
    "    y = Softmax(v)\n",
    "    \n",
    "    i = numpy.argmax(y)\n",
    "    if i == D[k]:\n",
    "        acc = acc + 1\n",
    "\n",
    "acc = acc / N\n",
    "print('Accuracy is = ', acc)"
   ]
  },
  {
   "cell_type": "code",
   "execution_count": 19,
   "metadata": {},
   "outputs": [],
   "source": [
    "fp = open(\"MnistConv.mat\", \"rb\")\n",
    "W1 = pickle.load(fp)\n",
    "W5 = pickle.load(fp)\n",
    "Wo = pickle.load(fp)\n",
    "fp.close()"
   ]
  },
  {
   "cell_type": "code",
   "execution_count": 21,
   "metadata": {},
   "outputs": [],
   "source": [
    "num_Images = len(Images)\n",
    "X = Images.transpose(2, 3, 1, 0).reshape(28, 28, 1, num_Images)[:, :, :, 0:10]\n",
    "\n",
    "k = 0\n",
    "x = X[:, :, :, k]\n",
    "y1 = Conv(x, W1)\n",
    "y2 = ReLU(y1)\n",
    "y3 = Pool(y2)\n",
    "y4 = y3.flatten()\n",
    "v5 = numpy.dot(W5, y4)\n",
    "y5 = ReLU(v5)\n",
    "v = numpy.dot(Wo, y5)\n",
    "y = Softmax(v)"
   ]
  },
  {
   "cell_type": "code",
   "execution_count": 23,
   "metadata": {},
   "outputs": [
    {
     "data": {
      "text/plain": [
       "<matplotlib.image.AxesImage at 0x7fb22c0517f0>"
      ]
     },
     "execution_count": 23,
     "metadata": {},
     "output_type": "execute_result"
    },
    {
     "data": {
      "image/png": "[encoded data removed]",
      "text/plain": [
       "<Figure size 432x288 with 1 Axes>"
      ]
     },
     "metadata": {},
     "output_type": "display_data"
    }
   ],
   "source": [
    "import matplotlib.pyplot\n",
    "%matplotlib inline\n",
    "\n",
    "matplotlib.pyplot.imshow(x[:, :, 0], cmap='Greys', interpolation='None')"
   ]
  },
  {
   "cell_type": "code",
   "execution_count": 24,
   "metadata": {},
   "outputs": [
    {
     "data": {
      "text/plain": [
       "<matplotlib.image.AxesImage at 0x7fb21ce86b38>"
      ]
     },
     "execution_count": 24,
     "metadata": {},
     "output_type": "execute_result"
    },
    {
     "data": {
      "image/png": "[encoded data removed]",
      "text/plain": [
       "<Figure size 432x288 with 1 Axes>"
      ]
     },
     "metadata": {},
     "output_type": "display_data"
    }
   ],
   "source": [
    "convFilters = numpy.zeros((9*4, 9*5))\n",
    "i = 0\n",
    "for j in range(4):\n",
    "    for k in range(5):\n",
    "        convFilters[9*j:9*(j+1), 9*k:9*(k+1)] = W1[:, :, i]\n",
    "        i = i + 1\n",
    "matplotlib.pyplot.imshow(convFilters, cmap='Greys', interpolation='None')"
   ]
  },
  {
   "cell_type": "code",
   "execution_count": 25,
   "metadata": {},
   "outputs": [
    {
     "data": {
      "text/plain": [
       "<matplotlib.image.AxesImage at 0x7fb21cdf1400>"
      ]
     },
     "execution_count": 25,
     "metadata": {},
     "output_type": "execute_result"
    },
    {
     "data": {
      "image/png": "[encoded data removed]",
      "text/plain": [
       "<Figure size 432x288 with 1 Axes>"
      ]
     },
     "metadata": {},
     "output_type": "display_data"
    }
   ],
   "source": [
    "fList = numpy.zeros((20*4, 20*5))\n",
    "i = 0\n",
    "for j in range(4):\n",
    "    for k in range(5):\n",
    "        fList[20*j:20*(j+1), 20*k:20*(k+1)] = y1[:, :, i]\n",
    "        i = i + 1\n",
    "matplotlib.pyplot.imshow(fList, cmap='Greys', interpolation='None')"
   ]
  },
  {
   "cell_type": "code",
   "execution_count": 26,
   "metadata": {},
   "outputs": [
    {
     "data": {
      "text/plain": [
       "<matplotlib.image.AxesImage at 0x7fb21cdc99e8>"
      ]
     },
     "execution_count": 26,
     "metadata": {},
     "output_type": "execute_result"
    },
    {
     "data": {
      "image/png": "[encoded data removed]",
      "text/plain": [
       "<Figure size 432x288 with 1 Axes>"
      ]
     },
     "metadata": {},
     "output_type": "display_data"
    }
   ],
   "source": [
    "fList = numpy.zeros((20*4, 20*5))\n",
    "i = 0\n",
    "for j in range(4):\n",
    "    for k in range(5):\n",
    "        fList[20*j:20*(j+1), 20*k:20*(k+1)] = y2[:, :, i]\n",
    "        i = i + 1\n",
    "matplotlib.pyplot.imshow(fList, cmap='Greys', interpolation='None')"
   ]
  },
  {
   "cell_type": "code",
   "execution_count": 27,
   "metadata": {},
   "outputs": [
    {
     "data": {
      "text/plain": [
       "<matplotlib.image.AxesImage at 0x7fb21cd909b0>"
      ]
     },
     "execution_count": 27,
     "metadata": {},
     "output_type": "execute_result"
    },
    {
     "data": {
      "image/png": "[encoded data removed]",
      "text/plain": [
       "<Figure size 432x288 with 1 Axes>"
      ]
     },
     "metadata": {},
     "output_type": "display_data"
    }
   ],
   "source": [
    "fList = numpy.zeros((10*4, 10*5))\n",
    "i = 0\n",
    "for j in range(4):\n",
    "    for k in range(5):\n",
    "        fList[10*j:10*(j+1), 10*k:10*(k+1)] = y3[:, :, i]\n",
    "        i = i + 1\n",
    "matplotlib.pyplot.imshow(fList, cmap='Greys', interpolation='None')"
   ]
  },
  {
   "cell_type": "raw",
   "metadata": {},
   "source": [
    "# From now on, ..."
   ]
  },
  {
   "cell_type": "code",
   "execution_count": 28,
   "metadata": {},
   "outputs": [
    {
     "name": "stdout",
     "output_type": "stream",
     "text": [
      "(60000, 1, 28, 28)\n"
     ]
    }
   ],
   "source": [
    "print(Images.shape)"
   ]
  },
  {
   "cell_type": "code",
   "execution_count": 29,
   "metadata": {},
   "outputs": [],
   "source": [
    "import matplotlib.pyplot\n",
    "%matplotlib inline"
   ]
  },
  {
   "cell_type": "code",
   "execution_count": 30,
   "metadata": {},
   "outputs": [
    {
     "data": {
      "text/plain": [
       "<matplotlib.image.AxesImage at 0x7fb21ccea2e8>"
      ]
     },
     "execution_count": 30,
     "metadata": {},
     "output_type": "execute_result"
    },
    {
     "data": {
      "image/png": "[encoded data removed]",
      "text/plain": [
       "<Figure size 432x288 with 1 Axes>"
      ]
     },
     "metadata": {},
     "output_type": "display_data"
    }
   ],
   "source": [
    "matplotlib.pyplot.imshow(Images[0].reshape(28, 28), cmap='Greys', interpolation='None')"
   ]
  },
  {
   "cell_type": "code",
   "execution_count": 31,
   "metadata": {},
   "outputs": [
    {
     "data": {
      "text/plain": [
       "(28, 28)"
      ]
     },
     "execution_count": 31,
     "metadata": {},
     "output_type": "execute_result"
    }
   ],
   "source": [
    "Images[0].reshape(28, 28).shape"
   ]
  },
  {
   "cell_type": "code",
   "execution_count": 32,
   "metadata": {},
   "outputs": [
    {
     "data": {
      "text/plain": [
       "(28, 28, 1)"
      ]
     },
     "execution_count": 32,
     "metadata": {},
     "output_type": "execute_result"
    }
   ],
   "source": [
    "Images[0].transpose(1, 2, 0).shape"
   ]
  },
  {
   "cell_type": "code",
   "execution_count": 33,
   "metadata": {},
   "outputs": [
    {
     "data": {
      "text/plain": [
       "<matplotlib.image.AxesImage at 0x7fb21ccc4400>"
      ]
     },
     "execution_count": 33,
     "metadata": {},
     "output_type": "execute_result"
    },
    {
     "data": {
      "image/png": "[encoded data removed]",
      "text/plain": [
       "<Figure size 432x288 with 1 Axes>"
      ]
     },
     "metadata": {},
     "output_type": "display_data"
    }
   ],
   "source": [
    "matplotlib.pyplot.imshow(Images[0].transpose(1, 2, 0)[:, :, 0], cmap='Greys', interpolation='None')"
   ]
  },
  {
   "cell_type": "code",
   "execution_count": 34,
   "metadata": {},
   "outputs": [
    {
     "name": "stdout",
     "output_type": "stream",
     "text": [
      "x.shape =  (28, 28, 1)\n",
      "y.shape =  (14, 14, 1)\n",
      "filterW =  [[0.25 0.25]\n",
      " [0.25 0.25]]\n",
      "image.shape =  (27, 27)\n"
     ]
    },
    {
     "data": {
      "text/plain": [
       "<matplotlib.image.AxesImage at 0x7fb21cc9ccc0>"
      ]
     },
     "execution_count": 34,
     "metadata": {},
     "output_type": "execute_result"
    },
    {
     "data": {
      "image/png": "[encoded data removed]",
      "text/plain": [
       "<Figure size 432x288 with 1 Axes>"
      ]
     },
     "metadata": {},
     "output_type": "display_data"
    }
   ],
   "source": [
    "x = Images[0].transpose(1, 2, 0)\n",
    "print(\"x.shape = \", x.shape)\n",
    "xrow, xcol, numFilters = x.shape\n",
    "y = numpy.zeros((int(xrow/2), int(xcol/2), numFilters))\n",
    "print(\"y.shape = \", y.shape)\n",
    "\n",
    "for k in range(numFilters):\n",
    "    filterW = numpy.ones((2, 2)) / (2*2)\n",
    "    print(\"filterW = \", filterW)\n",
    "    image = scipy.signal.convolve2d(x[:, :, k], filterW, 'valid')\n",
    "    print(\"image.shape = \", image.shape)\n",
    "    y[:, :, k] = image[0:image.shape[0]:2, 0:image.shape[1]:2]\n",
    "\n",
    "matplotlib.pyplot.imshow(y[:, :, 0], cmap='Greys', interpolation='None')"
   ]
  },
  {
   "cell_type": "code",
   "execution_count": 35,
   "metadata": {},
   "outputs": [
    {
     "data": {
      "text/plain": [
       "<matplotlib.image.AxesImage at 0x7fb232d11080>"
      ]
     },
     "execution_count": 35,
     "metadata": {},
     "output_type": "execute_result"
    },
    {
     "data": {
      "image/png": "[encoded data removed]",
      "text/plain": [
       "<Figure size 432x288 with 1 Axes>"
      ]
     },
     "metadata": {},
     "output_type": "display_data"
    }
   ],
   "source": [
    "W = 1e-2*numpy.random.rand(9, 9, 20)\n",
    "x = Images[0].transpose(1, 2, 0)\n",
    "\n",
    "wrow, wcol, numFilters = W.shape\n",
    "xrow, xcol, _ = x.shape\n",
    "    \n",
    "yrow = xrow - wrow + 1\n",
    "ycol = xcol - wcol + 1\n",
    "    \n",
    "y = numpy.zeros((yrow, ycol, numFilters))\n",
    "    \n",
    "for k in range(numFilters):\n",
    "    filterW = W[:, :, k]\n",
    "    filterW = numpy.rot90(numpy.squeeze(filterW), 2)\n",
    "    y[:, :, k] = scipy.signal.convolve2d(x[:, :, 0], filterW, 'valid')\n",
    "\n",
    "matplotlib.pyplot.imshow(y[:, :, 0], cmap='Greys', interpolation='None')"
   ]
  },
  {
   "cell_type": "code",
   "execution_count": 36,
   "metadata": {},
   "outputs": [
    {
     "data": {
      "text/plain": [
       "<matplotlib.image.AxesImage at 0x7fb232cdc940>"
      ]
     },
     "execution_count": 36,
     "metadata": {},
     "output_type": "execute_result"
    },
    {
     "data": {
      "image/png": "[encoded data removed]",
      "text/plain": [
       "<Figure size 432x288 with 1 Axes>"
      ]
     },
     "metadata": {},
     "output_type": "display_data"
    }
   ],
   "source": [
    "matplotlib.pyplot.imshow(y[:, :, 19], cmap='Greys', interpolation='None')"
   ]
  },
  {
   "cell_type": "code",
   "execution_count": 37,
   "metadata": {},
   "outputs": [
    {
     "data": {
      "text/plain": [
       "[1, 3, 5, 7, 9]"
      ]
     },
     "execution_count": 37,
     "metadata": {},
     "output_type": "execute_result"
    }
   ],
   "source": [
    "[x for x in range(1, 10, 2)]"
   ]
  },
  {
   "cell_type": "code",
   "execution_count": 38,
   "metadata": {},
   "outputs": [
    {
     "data": {
      "text/plain": [
       "(784,)"
      ]
     },
     "execution_count": 38,
     "metadata": {},
     "output_type": "execute_result"
    }
   ],
   "source": [
    "Images[0].flatten().shape"
   ]
  },
  {
   "cell_type": "code",
   "execution_count": 39,
   "metadata": {},
   "outputs": [
    {
     "data": {
      "text/plain": [
       "5"
      ]
     },
     "execution_count": 39,
     "metadata": {},
     "output_type": "execute_result"
    }
   ],
   "source": [
    "Labels[0]"
   ]
  },
  {
   "cell_type": "code",
   "execution_count": 40,
   "metadata": {},
   "outputs": [
    {
     "data": {
      "text/plain": [
       "array([[0.],\n",
       "       [0.],\n",
       "       [0.],\n",
       "       [0.],\n",
       "       [0.],\n",
       "       [1.],\n",
       "       [0.],\n",
       "       [0.],\n",
       "       [0.],\n",
       "       [0.]])"
      ]
     },
     "execution_count": 40,
     "metadata": {},
     "output_type": "execute_result"
    }
   ],
   "source": [
    "d = numpy.zeros((10, 1))\n",
    "d[Labels[0]] = 1\n",
    "d"
   ]
  },
  {
   "cell_type": "code",
   "execution_count": 41,
   "metadata": {},
   "outputs": [
    {
     "data": {
      "text/plain": [
       "(8000, 1, 28, 28)"
      ]
     },
     "execution_count": 41,
     "metadata": {},
     "output_type": "execute_result"
    }
   ],
   "source": [
    "Images[0:8000].shape"
   ]
  },
  {
   "cell_type": "code",
   "execution_count": 42,
   "metadata": {},
   "outputs": [
    {
     "data": {
      "text/plain": [
       "array([[[-0.02505039, -0.05115042,  0.05028991, ..., -0.04693534,\n",
       "         -0.15180262, -0.02387201],\n",
       "        [-0.02151995, -0.04449799,  0.03674985, ..., -0.0320071 ,\n",
       "         -0.14771495, -0.00920258],\n",
       "        [-0.02672969, -0.03024294,  0.03573698, ..., -0.04559175,\n",
       "         -0.15507689, -0.00398497],\n",
       "        ...,\n",
       "        [-0.037064  , -0.03285319,  0.02009623, ..., -0.02251359,\n",
       "         -0.17793426, -0.02482734],\n",
       "        [-0.04739552, -0.03864062,  0.02186265, ..., -0.03361777,\n",
       "         -0.1771299 , -0.05914738],\n",
       "        [-0.032763  , -0.03106113,  0.04351641, ..., -0.01697489,\n",
       "         -0.16368676, -0.05329179]],\n",
       "\n",
       "       [[-0.00985715, -0.03637224, -0.00328821, ..., -0.06423124,\n",
       "         -0.14510161, -0.01271495],\n",
       "        [-0.00761132, -0.04257282,  0.01322614, ..., -0.05613265,\n",
       "         -0.14900286, -0.00586428],\n",
       "        [-0.01459336, -0.03433012,  0.02441761, ..., -0.04248457,\n",
       "         -0.15689806, -0.00586652],\n",
       "        ...,\n",
       "        [-0.02195446, -0.0257786 , -0.00591046, ..., -0.02164306,\n",
       "         -0.1901351 , -0.0492913 ],\n",
       "        [-0.02926509, -0.03620036,  0.01083492, ..., -0.0330176 ,\n",
       "         -0.176054  , -0.05604692],\n",
       "        [-0.03059215, -0.04097353,  0.02597198, ..., -0.00670855,\n",
       "         -0.1861323 , -0.07014905]],\n",
       "\n",
       "       [[-0.0057325 , -0.03381821, -0.00805039, ..., -0.04885856,\n",
       "         -0.15000622, -0.01298164],\n",
       "        [-0.0187279 , -0.04747972, -0.00212939, ..., -0.04297813,\n",
       "         -0.15375895, -0.02612147],\n",
       "        [-0.02543172, -0.02435011, -0.0106327 , ..., -0.0341195 ,\n",
       "         -0.15871183, -0.00035105],\n",
       "        ...,\n",
       "        [-0.0197089 , -0.01451774, -0.0422008 , ..., -0.01566952,\n",
       "         -0.24360277, -0.02219864],\n",
       "        [-0.04053004, -0.02493388, -0.01395885, ..., -0.01194098,\n",
       "         -0.2128113 , -0.0445794 ],\n",
       "        [-0.0197171 , -0.03136616,  0.02032042, ..., -0.01352482,\n",
       "         -0.21279062, -0.06025465]],\n",
       "\n",
       "       ...,\n",
       "\n",
       "       [[-0.00989043, -0.01844376, -0.0265799 , ..., -0.06600717,\n",
       "         -0.1989964 , -0.03177501],\n",
       "        [-0.02693744, -0.00847312, -0.01214297, ..., -0.05887969,\n",
       "         -0.21020064, -0.00075863],\n",
       "        [-0.01596318, -0.01191242, -0.00959182, ..., -0.06639298,\n",
       "         -0.23170995, -0.01691101],\n",
       "        ...,\n",
       "        [-0.02189356, -0.01388039, -0.011382  , ..., -0.04772601,\n",
       "         -0.26322105, -0.05250217],\n",
       "        [-0.03083051, -0.0484563 , -0.02150291, ..., -0.04601812,\n",
       "         -0.23763162, -0.0847285 ],\n",
       "        [-0.02750958, -0.03361582, -0.00305091, ..., -0.043382  ,\n",
       "         -0.24887369, -0.08999608]],\n",
       "\n",
       "       [[-0.01526249, -0.00961338, -0.00174909, ..., -0.06428588,\n",
       "         -0.18899134, -0.01881015],\n",
       "        [-0.00609774, -0.01460617,  0.00284372, ..., -0.06904021,\n",
       "         -0.21408244, -0.00698883],\n",
       "        [-0.0115797 , -0.01928813, -0.00203818, ..., -0.08074683,\n",
       "         -0.23662565, -0.04074787],\n",
       "        ...,\n",
       "        [-0.01749733, -0.03403518, -0.00163464, ..., -0.04336292,\n",
       "         -0.2402301 , -0.07453684],\n",
       "        [-0.04857967, -0.03304253,  0.00071906, ..., -0.05531401,\n",
       "         -0.23927602, -0.07233128],\n",
       "        [-0.01915375, -0.04476317, -0.00506487, ..., -0.06547081,\n",
       "         -0.2214578 , -0.09558948]],\n",
       "\n",
       "       [[-0.00456786, -0.02516593, -0.02540565, ..., -0.07069052,\n",
       "         -0.18478667, -0.02782712],\n",
       "        [ 0.00262809, -0.00365324, -0.00687455, ..., -0.07774851,\n",
       "         -0.20967323, -0.02362538],\n",
       "        [-0.01575877, -0.0170335 ,  0.00514719, ..., -0.07321252,\n",
       "         -0.20813926, -0.03191201],\n",
       "        ...,\n",
       "        [-0.0072107 , -0.02592093, -0.01454069, ..., -0.07282244,\n",
       "         -0.23080113, -0.06637451],\n",
       "        [-0.02592482, -0.04569721, -0.00193537, ..., -0.07055561,\n",
       "         -0.22614786, -0.08109567],\n",
       "        [-0.02273678, -0.06151009,  0.00566269, ..., -0.06822457,\n",
       "         -0.2191779 , -0.08641339]]])"
      ]
     },
     "execution_count": 42,
     "metadata": {},
     "output_type": "execute_result"
    }
   ],
   "source": [
    "W1"
   ]
  },
  {
   "cell_type": "code",
   "execution_count": 43,
   "metadata": {},
   "outputs": [
    {
     "data": {
      "text/plain": [
       "array([[ 9.70062713e-03,  4.52537952e-03,  3.69187184e-02, ...,\n",
       "         1.39895696e-02, -1.06127673e-02,  4.01016118e-02],\n",
       "       [-2.03922773e-02, -2.78169576e-02, -4.67913462e-02, ...,\n",
       "         1.66023137e-02,  4.51376516e-02, -3.68741828e-02],\n",
       "       [ 1.84472452e-02,  1.31197768e-02,  3.65032358e-02, ...,\n",
       "        -3.22841896e-02,  3.33656297e-02,  4.46409797e-02],\n",
       "       ...,\n",
       "       [ 1.59950868e-02,  1.02886652e-02,  3.19438877e-02, ...,\n",
       "         3.06047299e-02, -4.35921875e-02,  1.79439650e-02],\n",
       "       [ 2.98502537e-02,  4.28663224e-03, -3.02126342e-02, ...,\n",
       "        -4.79648956e-06, -1.00879054e-02, -4.13374831e-02],\n",
       "       [-2.94779469e-03, -5.41578540e-02,  2.25667668e-02, ...,\n",
       "        -2.10631258e-02,  3.02304705e-02,  3.46569280e-02]])"
      ]
     },
     "execution_count": 43,
     "metadata": {},
     "output_type": "execute_result"
    }
   ],
   "source": [
    "W5"
   ]
  },
  {
   "cell_type": "code",
   "execution_count": 44,
   "metadata": {},
   "outputs": [
    {
     "data": {
      "text/plain": [
       "array([[-3.48444153e-01, -2.53202920e-01,  2.39017378e-01,\n",
       "        -7.45354135e+00,  3.89416597e-01,  8.11470281e-03,\n",
       "        -2.37880821e+00, -3.57727147e-01, -1.68651266e-02,\n",
       "         7.32039668e-02, -1.13269323e-01, -1.20361390e+00,\n",
       "        -2.05501899e-01, -1.51599499e-01,  3.01231804e-01,\n",
       "        -1.45410110e-01, -1.64634666e-01, -1.46431362e-01,\n",
       "         6.03380298e-02, -6.07192308e-02, -6.23943587e-02,\n",
       "         1.28726542e-01, -7.66733683e-02,  2.11484057e-01,\n",
       "         2.72531775e-01, -3.21493912e+00,  4.24495963e-01,\n",
       "        -1.08866335e-01,  2.02976713e-01, -5.46019376e-02,\n",
       "        -3.31326142e+00, -5.62001606e-02, -1.52274050e-01,\n",
       "        -2.38518233e+00,  8.07597852e-02, -9.92461252e-02,\n",
       "        -1.42179312e-01, -1.60978591e-01, -3.99931577e-01,\n",
       "        -1.74990114e-01, -3.17789343e+00,  4.25733892e-02,\n",
       "         1.37866047e-01, -2.96656015e-02,  1.18916326e-01,\n",
       "        -2.04075107e+00, -9.47463644e-01, -8.92206208e-02,\n",
       "        -1.61140013e-01,  1.80454401e-01, -1.31306027e-01,\n",
       "        -1.69100237e+00, -1.13611173e+00, -2.15957966e+00,\n",
       "        -2.95469300e-02, -4.11182287e+00, -1.90121558e-01,\n",
       "        -3.84011195e+00, -2.79469528e-01, -6.32324983e-02,\n",
       "        -5.58292757e-02, -7.23916170e-02, -1.68718139e-02,\n",
       "        -9.15458469e-01,  9.76892314e-02, -1.30865924e+00,\n",
       "        -5.19351627e-02, -9.01572398e-01, -5.41609754e+00,\n",
       "        -6.21044267e-02,  3.83106237e-02,  1.28948300e-01,\n",
       "         2.08848102e-01, -4.18276587e-02, -2.63298378e-01,\n",
       "        -7.82908587e-01,  2.56588989e-02, -1.94321048e-01,\n",
       "        -3.54771181e+00,  5.67969194e-02,  1.82966976e-01,\n",
       "         2.08515940e-01, -2.88319226e+00, -1.76938991e-01,\n",
       "         2.35389514e-01, -5.23572339e-02, -7.67671280e-01,\n",
       "        -1.70604202e+00, -3.58370457e-02, -7.67978082e+00,\n",
       "         7.57365786e-02, -1.43076187e-01,  3.78419634e-01,\n",
       "         1.39283361e-01, -6.75047825e-01, -2.73659725e+00,\n",
       "         4.97206749e-01, -3.05942861e-02, -6.36639123e-02,\n",
       "        -4.77663203e+00],\n",
       "       [ 1.49454194e-01,  9.91133979e-02, -2.13486348e-01,\n",
       "         6.25751795e-01,  4.01709316e-03, -1.59794488e-01,\n",
       "         2.70649761e-01,  2.62758375e-01,  2.57732875e-02,\n",
       "         1.93499776e-03, -3.83483228e-02, -7.33650255e-03,\n",
       "        -8.18177595e-02, -1.26869292e-01, -3.24687460e-01,\n",
       "         6.48709309e-02, -1.10750098e-01, -2.61736961e-02,\n",
       "         4.80374219e-02,  1.40913862e-01,  6.57954983e-02,\n",
       "        -9.67288951e-02,  3.76825496e-02,  1.32429919e-01,\n",
       "         1.40180398e-01,  3.42637458e-01,  5.23625969e-02,\n",
       "        -1.86160839e-02,  2.00570904e-01, -4.76480852e-02,\n",
       "         4.28939455e-01, -1.11639375e-01,  1.34165866e-01,\n",
       "         5.68375956e-01, -6.72116745e-02,  3.07605430e-01,\n",
       "         1.62502254e-01,  3.96078794e-01, -1.09575319e-01,\n",
       "         3.77043838e-01,  5.33037192e-01, -2.30799255e-02,\n",
       "        -3.10634913e-02, -6.07187848e-02, -5.41390928e-03,\n",
       "         3.53856085e-01, -1.08604597e-01,  1.98709203e-01,\n",
       "         2.11666870e-02,  4.65757744e-02, -8.69979905e-02,\n",
       "         2.57896392e-01,  1.03261401e-01,  4.87237360e-01,\n",
       "        -7.85341977e-02,  6.54519828e-01, -3.37761417e-02,\n",
       "         1.42407338e-01,  2.98979321e-02, -1.34543486e-01,\n",
       "         1.34533942e-01, -1.81462656e-01,  1.25090328e-01,\n",
       "        -1.17234984e-01,  1.85752862e-01,  1.56655485e-01,\n",
       "        -1.19605021e-01, -1.88963010e-01,  6.29133258e-01,\n",
       "        -2.75250492e-01, -6.40033254e-02, -3.47634811e-01,\n",
       "        -3.92939764e-02,  5.82399456e-02,  4.91656884e-02,\n",
       "         2.41560297e-01, -2.22349763e-01,  2.04290314e-01,\n",
       "         4.43619166e-01,  4.47040568e-02, -8.04690980e-02,\n",
       "        -1.67037337e-01,  2.01672905e-01,  1.63494035e-01,\n",
       "         7.11475285e-02,  5.42415397e-02,  2.24033738e-01,\n",
       "         2.82353483e-01,  1.15701310e-01,  5.91838273e-01,\n",
       "         9.64559167e-02,  1.61042642e-01, -1.32134864e-02,\n",
       "         5.60317710e-02,  1.39300677e-01,  4.01388013e-01,\n",
       "         7.64778570e-02,  1.81711771e-02, -5.22077812e-02,\n",
       "         7.59589067e-01],\n",
       "       [ 6.85813732e-02, -5.62862071e-02,  5.83634180e-02,\n",
       "         8.90664411e-01, -5.46096446e-01,  5.00058754e-01,\n",
       "         1.65665233e-01, -1.07555433e-01,  1.71618016e-01,\n",
       "        -1.66175861e-01,  1.62258296e-01, -2.98886615e-01,\n",
       "        -1.26055481e-01, -1.59021976e-01,  1.05347994e-01,\n",
       "        -1.19530015e-01, -5.95352183e-02,  1.81334335e-01,\n",
       "         2.12583001e-01,  5.42601548e-02,  5.66426629e-01,\n",
       "         1.47497338e-01, -5.07389339e-02, -6.48564768e-02,\n",
       "        -6.24913133e-01,  8.84348815e-02, -4.90134098e-01,\n",
       "         4.32209338e-02,  6.97252552e-01, -1.72726625e-01,\n",
       "         8.91622208e-02, -2.23076862e-01,  1.24918229e-01,\n",
       "         2.90533103e-01, -2.85366005e-02,  7.09004622e-03,\n",
       "        -8.02447632e-01, -6.16805048e-01, -2.29804758e-02,\n",
       "        -1.74239655e-02,  3.11473799e-02,  4.84742339e-01,\n",
       "         7.36908059e-02, -1.25980036e-01, -1.49940709e-01,\n",
       "        -3.46040311e-01, -1.63183930e-01, -2.04177991e-02,\n",
       "         1.19231670e-02, -2.46465983e-01, -1.92134637e-01,\n",
       "        -3.00755800e-02,  9.32010277e-02,  2.06562860e-01,\n",
       "        -3.97428759e-02,  5.94483406e-01,  7.78710448e-01,\n",
       "        -1.39049421e-01, -3.09194929e-01, -5.43131778e-02,\n",
       "         7.40796901e-02,  1.75514048e-01, -1.13371015e-01,\n",
       "        -8.51810005e-02,  1.39871567e-01,  5.73879977e-02,\n",
       "        -4.73729193e-02,  1.58811747e-01,  4.42429459e-01,\n",
       "         5.57459779e-02,  1.15172161e-01, -1.19499132e-01,\n",
       "         1.95550935e-01,  2.43342210e-02, -8.12377107e-02,\n",
       "        -7.66339428e-01, -7.67267787e-02,  1.25836307e-02,\n",
       "         1.19182476e-01,  4.52582804e-01, -6.49533738e-01,\n",
       "        -3.64087429e-01,  1.26648045e-01, -1.27784729e-01,\n",
       "        -2.64020035e-02, -2.94717788e-01, -8.63021857e-02,\n",
       "         1.99065490e-01,  7.55633961e-02,  7.94067163e-01,\n",
       "        -3.10691763e-01,  1.23870573e-01,  1.65442863e-01,\n",
       "         7.49239289e-02, -7.58231774e-03, -1.06854336e-01,\n",
       "        -2.33339119e-01, -2.08485302e-01, -2.52795536e-01,\n",
       "         5.71215374e-01],\n",
       "       [ 3.59144898e-02,  3.06760028e-01, -6.18116860e-03,\n",
       "         1.01280690e+00,  8.54263837e-02, -5.10584645e-01,\n",
       "         2.46328638e-01, -1.73911901e-03,  1.75603297e-02,\n",
       "         1.07885781e-01, -1.37549214e-01,  2.80609612e-01,\n",
       "        -1.31372751e-02, -8.09704064e-02,  2.46288963e-02,\n",
       "        -1.49186735e-01,  2.37667132e-01,  3.21177676e-01,\n",
       "         7.45280884e-02, -1.20041449e-01,  8.32365815e-02,\n",
       "        -2.13288236e-02, -1.85068023e-01,  1.96350238e-02,\n",
       "         8.50181621e-02,  4.17410914e-01,  2.92743993e-01,\n",
       "        -1.84613159e-01, -2.01761767e-01, -1.17533105e-01,\n",
       "         5.85347562e-01, -6.68230318e-02, -1.66306844e-01,\n",
       "         2.85376146e-01, -7.59563117e-02,  2.25523302e-01,\n",
       "         4.23825891e-01,  6.48431135e-02, -1.33074918e-01,\n",
       "        -8.71289961e-02,  2.55970947e-01,  5.57173476e-03,\n",
       "         2.98992306e-02,  7.59297070e-02, -7.16834579e-03,\n",
       "         5.68766814e-01,  1.38619965e-01,  7.78552152e-03,\n",
       "        -2.05181486e-01, -9.61236310e-02,  9.13449862e-03,\n",
       "         3.20992146e-01, -5.14415129e-02,  3.23845846e-01,\n",
       "         1.02087025e-01,  7.21334545e-01, -2.09559822e-01,\n",
       "         4.38666261e-01, -3.07028443e-02,  7.28291869e-02,\n",
       "         4.40237040e-01,  1.32042223e-01,  1.80491284e-03,\n",
       "         3.98512797e-01,  2.28232176e-01,  3.49964852e-01,\n",
       "         2.91545092e-01,  3.58693583e-01,  8.81842454e-01,\n",
       "        -1.98740970e-01,  3.49014859e-02,  2.87523146e-01,\n",
       "        -7.45529959e-02,  1.04877060e-01,  1.25305522e-01,\n",
       "         4.31361203e-01,  5.55188607e-02,  1.16122201e-01,\n",
       "         1.20092106e+00, -3.85612238e-01,  3.70113929e-01,\n",
       "         2.87615475e-01,  2.73271848e-01,  1.13165764e-01,\n",
       "         2.40137322e-01,  1.57296068e-01, -3.80317581e-03,\n",
       "         2.23026148e-01,  3.03420688e-02,  1.43389402e+00,\n",
       "         8.47805017e-02, -4.65736125e-02, -2.78397369e-02,\n",
       "         6.04591333e-02,  4.70951667e-01,  8.26031252e-01,\n",
       "         1.17879607e-01,  2.85709943e-01,  1.26509846e-01,\n",
       "         9.12789177e-01],\n",
       "       [-2.86192006e-03,  1.89179237e-01, -2.97977344e-02,\n",
       "         9.47527042e-01,  1.80621924e-01, -1.09777160e-01,\n",
       "         1.43332042e-01, -4.13929043e-01, -1.84571342e-01,\n",
       "         1.04910153e-01,  1.29350122e-01,  1.48419847e-01,\n",
       "        -3.86138176e-01,  2.02050297e-01, -3.28367704e-02,\n",
       "         7.75132264e-01, -3.46478647e-02, -1.76274534e-01,\n",
       "        -3.09309874e-02,  1.22922249e-01, -4.65540023e-01,\n",
       "        -2.53113181e-01, -1.20184714e-01, -8.35139738e-02,\n",
       "         2.82126863e-01,  4.65019152e-01,  1.98918633e-01,\n",
       "         1.52119472e-01, -1.89758064e-01,  6.41705759e-01,\n",
       "         3.21563876e-01, -2.41580831e-01, -1.97098010e-01,\n",
       "         2.00261988e-01, -1.58466332e-01,  3.07174663e-01,\n",
       "         1.64997806e-01,  1.04727877e-01,  1.58578899e-01,\n",
       "        -4.66507745e-02,  5.03852516e-01, -2.79664277e-02,\n",
       "        -1.56672436e-01, -2.18271460e-01, -1.17664344e-01,\n",
       "         6.11614688e-01,  1.44779948e-01, -3.38242789e-02,\n",
       "        -7.33893451e-02, -7.40305080e-03, -3.43594895e-02,\n",
       "        -2.34676938e-02,  4.25689468e-01,  3.54272074e-02,\n",
       "        -1.98581986e-01,  6.61816384e-01, -3.30992123e-01,\n",
       "         6.38985773e-01,  8.00960098e-02, -1.03687694e-01,\n",
       "         6.45521084e-02,  5.92764253e-02, -4.07430570e-02,\n",
       "         2.13432227e-01,  1.89800593e-01,  2.40188462e-01,\n",
       "        -4.29388609e-02, -4.88248585e-02,  7.03004655e-01,\n",
       "         6.59860356e-01, -1.03845806e-01, -1.07640619e-02,\n",
       "        -3.34414411e-02, -1.50057415e-01,  1.08065267e-01,\n",
       "         5.35409738e-02, -1.00619621e-01, -1.36130764e-01,\n",
       "         2.07191309e-01, -1.39402271e-02, -1.00499276e-01,\n",
       "         2.04999893e-01,  1.00418387e+00,  8.84168113e-02,\n",
       "        -1.93077159e-01, -9.37937363e-02, -9.01157526e-02,\n",
       "         3.97398180e-01,  7.16614346e-02,  1.20164804e+00,\n",
       "        -1.42665969e-01,  4.11866240e-02, -1.71993187e-02,\n",
       "         6.67703421e-02, -1.33967985e-01,  5.32370904e-01,\n",
       "        -5.12217218e-02,  1.34987924e-01, -1.96651915e-02,\n",
       "         3.45005139e-01],\n",
       "       [ 4.00915044e-01, -1.08085562e-01, -1.83683971e-01,\n",
       "         3.23159950e-01,  2.05837556e-01,  3.51299715e-02,\n",
       "        -9.32764017e-02,  6.39316930e-02,  1.85492180e-02,\n",
       "         3.13035895e-01,  8.84095601e-02,  3.63198401e-02,\n",
       "         8.73087915e-02, -1.03077460e-01,  1.69723781e-01,\n",
       "        -6.14125114e-02,  1.84808832e-01, -5.15202777e-02,\n",
       "         1.76797308e-01,  6.66161195e-02, -4.10451514e-02,\n",
       "         9.16714594e-02, -1.24282270e-01,  1.50187291e-01,\n",
       "        -3.74981072e-01,  2.46958471e-01,  5.64340862e-02,\n",
       "        -1.24155966e-01, -1.17003343e-01,  1.46019870e-01,\n",
       "         2.31342516e-01,  4.78549975e-01, -1.22582550e-01,\n",
       "         2.40934204e-01, -1.85575982e-01, -8.44792635e-02,\n",
       "        -1.32053587e-01, -5.51780433e-02,  3.83604195e-01,\n",
       "        -4.23555201e-02,  3.90129921e-01,  6.26082097e-02,\n",
       "        -6.12285109e-02,  1.81561772e-01, -1.59108888e-01,\n",
       "         1.02457747e-01,  3.71891113e-02, -4.12276845e-02,\n",
       "         1.06687087e-01,  4.61083953e-04,  4.55484952e-02,\n",
       "        -1.23480158e-01,  1.84262570e-01,  2.19000462e-01,\n",
       "        -5.30846452e-02,  3.47813811e-01, -7.92310680e-03,\n",
       "         6.81950947e-02,  1.11519557e-01, -2.10712525e-01,\n",
       "        -1.67910304e-02,  2.51175128e-01,  1.55763688e-02,\n",
       "         3.92355223e-02, -4.46952888e-02,  2.11879637e-01,\n",
       "        -1.78327224e-01, -3.11005334e-02,  4.66323102e-01,\n",
       "         2.78341467e-02,  6.77356423e-02,  1.12036117e-01,\n",
       "        -2.23004834e-02, -4.73775757e-02,  3.23816129e-02,\n",
       "        -2.60072823e-01,  1.54404685e-01,  1.58983685e-01,\n",
       "         3.07798318e-01,  1.12989236e-01, -2.37591557e-01,\n",
       "        -2.40352429e-01, -4.66690289e-02,  2.90586412e-01,\n",
       "         2.08970589e-03, -1.33455383e-01,  7.67489667e-03,\n",
       "         5.54643657e-02,  2.09711967e-02,  5.00537483e-01,\n",
       "         3.54137610e-02,  1.24974137e-01, -3.40940045e-01,\n",
       "         1.12022726e-01, -1.31300096e-01,  1.81917188e-01,\n",
       "        -2.45974009e-01,  8.73829395e-02, -1.36378850e-01,\n",
       "         2.47036328e-01],\n",
       "       [-3.16887392e-02, -8.79895085e-02, -5.57535853e-02,\n",
       "         4.37726491e-01,  8.99533529e-02, -1.17174168e-01,\n",
       "         3.19590792e-01, -9.93194975e-02,  3.35473831e-01,\n",
       "         1.71408097e-01,  4.80516682e-01,  3.23753887e-01,\n",
       "        -1.64032367e-01,  3.48367338e-01,  1.45637215e-02,\n",
       "        -4.77893042e-01, -9.02415524e-02, -2.22311790e-01,\n",
       "         5.55215563e-02,  8.91665719e-02, -1.35092853e-01,\n",
       "         1.62559332e-01,  1.68354196e-01,  4.48209650e-02,\n",
       "         4.13022846e-02,  3.89557475e-01,  1.15665531e-01,\n",
       "        -1.38559310e-01,  3.31000499e-02, -3.45556424e-01,\n",
       "         1.64703767e-01, -1.16847435e-01, -1.26271176e-01,\n",
       "         4.61471768e-01,  2.28697380e-02,  5.66347759e-02,\n",
       "         1.40181946e-01,  1.25293735e-01,  2.24204118e-01,\n",
       "        -2.14151459e-01,  2.29397059e-01,  4.24303165e-02,\n",
       "         5.15079677e-02, -8.23622813e-02, -1.75737288e-01,\n",
       "         5.39197483e-01,  5.83022338e-02, -6.79769848e-02,\n",
       "        -5.01935023e-02,  1.32827103e-01,  2.06350820e-01,\n",
       "         3.57506882e-01,  1.47417580e-01,  4.59203989e-01,\n",
       "        -2.52933793e-01,  5.86575539e-01, -7.14890843e-02,\n",
       "         5.57638488e-01, -3.70192608e-02,  1.69496969e-01,\n",
       "        -7.30456652e-02,  2.22942475e-01, -2.36337131e-01,\n",
       "         2.83651354e-01,  1.02354886e-01,  4.43837056e-01,\n",
       "        -4.00111353e-02,  1.67052100e-01,  4.86586903e-01,\n",
       "        -6.61954568e-02,  9.32331467e-02, -1.62410881e-02,\n",
       "         6.32321255e-02, -8.68210907e-02,  5.38914976e-02,\n",
       "         2.53539021e-01, -3.14309979e-02, -1.58631531e-01,\n",
       "         2.85062787e-01,  5.04617839e-01,  7.46693117e-02,\n",
       "         1.60283290e-01,  4.01611664e-01,  3.18313981e-01,\n",
       "         7.61289888e-02,  9.73916403e-02,  1.71724745e-01,\n",
       "        -4.68502748e-02, -2.29363291e-01,  1.01071604e+00,\n",
       "         3.78334325e-02,  1.74776569e-01,  5.54138030e-02,\n",
       "         5.87280335e-02,  1.57033283e-01,  3.96907518e-01,\n",
       "         1.87591617e-01, -2.05339330e-01, -1.63276124e-02,\n",
       "         4.08770861e-01],\n",
       "       [-1.41392992e-01,  1.02019306e-01, -2.13397276e-01,\n",
       "         1.05788025e+00, -3.52154139e-01, -1.91508405e-01,\n",
       "         2.80372102e-01, -5.88548447e-02, -8.59441048e-02,\n",
       "        -1.99438385e-01,  9.94488676e-02,  2.53028805e-01,\n",
       "        -7.50678101e-02, -4.42018566e-02, -3.55758227e-02,\n",
       "         2.67531645e-01, -4.69566350e-02,  1.14683043e+00,\n",
       "         2.16407864e-01, -4.71647824e-02,  1.93397225e-01,\n",
       "        -1.32526054e-01, -1.89655589e-01, -6.94581662e-02,\n",
       "         5.33407807e-02,  5.39502442e-02, -5.07631567e-02,\n",
       "        -3.10568389e-02, -3.70329312e-02,  1.84462125e-01,\n",
       "         4.50156975e-01, -7.94393682e-02,  1.21710878e-01,\n",
       "         1.91370095e-01,  2.07512379e-02, -1.36318016e-01,\n",
       "        -2.93357389e-01, -3.34884763e-01,  3.51992239e-02,\n",
       "        -3.60376879e-03,  2.87779974e-01,  2.47205321e-02,\n",
       "        -1.61308640e-02,  1.21974117e-01, -2.25544145e-01,\n",
       "        -1.17308811e-01,  2.35599410e-01, -1.51628378e-02,\n",
       "         9.90966136e-02, -5.54616989e-02,  1.15817847e-01,\n",
       "         1.36106207e-01,  2.23238900e-01,  4.62185995e-01,\n",
       "         1.91114524e-01,  7.87969679e-02,  2.29829952e-02,\n",
       "         4.05204037e-01, -1.08963362e-01, -1.19630650e-01,\n",
       "        -1.30968495e-01, -8.51072898e-02, -7.29403730e-02,\n",
       "         1.11251868e-01, -2.55724243e-03, -9.02184645e-02,\n",
       "        -6.76559267e-02,  4.73492970e-03,  7.36150219e-01,\n",
       "         7.21295916e-03,  1.10036624e-01,  2.59874017e-02,\n",
       "        -1.46690921e-01,  4.18336067e-01,  8.16522822e-02,\n",
       "        -1.19645965e-03,  5.37730448e-03,  1.14752237e-01,\n",
       "         2.86104081e-01,  8.67453903e-02, -3.32281872e-01,\n",
       "         5.79784131e-02,  2.98956491e-01, -8.89447773e-02,\n",
       "        -7.20280946e-02,  2.15655619e-01,  9.35152930e-02,\n",
       "         9.86596608e-02,  4.45097208e-02,  6.24290154e-01,\n",
       "         1.22422787e-01, -7.54920740e-02, -7.91684589e-02,\n",
       "         4.06105484e-01, -7.72310188e-03,  1.04780103e-03,\n",
       "         1.04216225e-01, -4.85362388e-02, -5.29647360e-02,\n",
       "         4.00557104e-01],\n",
       "       [-1.67526674e-01,  3.26215285e-01, -1.41211921e-01,\n",
       "         9.76103966e-01,  9.83126591e-02,  4.74529343e-02,\n",
       "         3.29399125e-01,  1.66208192e-02, -3.86372594e-02,\n",
       "         1.30256991e-01,  2.93346112e-02,  2.33356913e-02,\n",
       "         3.54662084e-02,  1.46030103e-01,  3.57205067e-02,\n",
       "         1.79893910e-01, -6.29411788e-02, -7.22443471e-02,\n",
       "         4.39798050e-02,  7.13462978e-02,  1.61556583e-02,\n",
       "         6.73659618e-02,  1.13597213e-02,  1.28380246e-02,\n",
       "         1.71710725e-01,  5.49112457e-01, -2.75242521e-02,\n",
       "        -8.67841924e-03,  9.64563296e-02, -1.17239027e-01,\n",
       "         4.86176858e-01, -1.33390867e-01,  7.55165299e-03,\n",
       "         3.81811584e-01,  2.22696422e-01,  6.69221522e-02,\n",
       "         7.74460300e-02,  1.67954526e-01, -4.31177561e-03,\n",
       "         3.78697751e-02,  4.33860362e-01,  1.07170608e-01,\n",
       "        -1.33701043e-01,  1.04040150e-01, -1.34418513e-01,\n",
       "         4.52753322e-02,  4.07180676e-01, -1.07363924e-02,\n",
       "        -1.06590231e-01, -2.37346707e-03, -1.82490034e-01,\n",
       "         3.19856049e-01,  1.10174152e-01,  2.78140546e-01,\n",
       "        -2.85881641e-02,  3.87953118e-01,  3.78361723e-01,\n",
       "         3.33603222e-01, -6.69777695e-02, -6.05015934e-02,\n",
       "         1.47155902e-01, -4.83024709e-02,  1.21898191e-01,\n",
       "         2.50421778e-01,  5.31552715e-02,  9.90103174e-02,\n",
       "         2.35249395e-01,  6.95078963e-02,  4.53881171e-01,\n",
       "        -1.67592727e-01,  6.72595676e-03,  1.98725966e-01,\n",
       "        -1.17399534e-01, -5.27564750e-02,  1.75916113e-01,\n",
       "         2.70641355e-01,  3.95414801e-02,  1.84006459e-01,\n",
       "         5.84217975e-01, -2.26123295e-01, -3.75077769e-02,\n",
       "        -7.88964223e-02,  3.12325318e-01,  1.28636341e-02,\n",
       "         6.63656437e-02,  1.65765609e-01,  1.70532359e-01,\n",
       "         3.44629902e-01, -1.25974535e-01,  6.30653754e-01,\n",
       "        -1.01015314e-01,  1.32856395e-01,  1.81747849e-01,\n",
       "        -1.55052533e-01,  6.45092533e-02,  4.00827437e-01,\n",
       "         4.68291290e-02,  3.14544944e-02,  8.15775575e-01,\n",
       "         6.25857828e-01],\n",
       "       [ 1.67978972e-01,  1.96849957e-01,  1.17069814e-01,\n",
       "         6.39585284e-01,  1.37207501e-01,  2.95024666e-02,\n",
       "         4.37853754e-01, -4.02386685e-02, -1.28432330e-01,\n",
       "         1.02335984e-01, -2.32584565e-02, -5.66417308e-02,\n",
       "         4.32720551e-02, -1.85157119e-01,  4.61795413e-01,\n",
       "        -1.58348038e-01,  6.59381732e-02, -1.22617019e+00,\n",
       "        -6.93801107e-02, -1.66405234e-02, -1.64944844e-01,\n",
       "        -1.64199156e-01, -7.71152031e-02, -2.02224784e-01,\n",
       "         1.28100160e-01,  3.19039300e-01,  6.95122790e-02,\n",
       "         1.03381219e-01, -1.23795487e-01,  1.67472792e-01,\n",
       "         3.75657467e-01, -1.95203849e-01,  3.77105306e-02,\n",
       "         2.26808110e-01, -1.58639587e-01,  3.46421474e-02,\n",
       "         6.72718860e-03,  2.52719245e-01,  1.03467676e-01,\n",
       "        -6.90260375e-02,  6.79394648e-01, -2.85632781e-02,\n",
       "        -2.57304881e-01, -6.86694283e-02, -1.33337723e-01,\n",
       "         3.12262619e-01, -8.28441113e-02, -3.08839813e-02,\n",
       "        -1.70009484e-01,  8.71735679e-03, -1.63073784e-02,\n",
       "         2.84950687e-01,  3.82117763e-01,  3.89838090e-01,\n",
       "        -4.34897490e-02,  2.75348323e-01, -1.52384706e-02,\n",
       "         7.82925259e-01,  1.84594564e-01,  9.18176563e-02,\n",
       "        -4.34056808e-02,  3.06853766e-02, -1.58620485e-01,\n",
       "         4.60552229e-01,  1.49782885e-01,  9.93273519e-02,\n",
       "         2.09380586e-01,  1.93588901e-01,  7.42925577e-01,\n",
       "        -3.76011058e-01,  2.44042761e-02,  4.19455116e-02,\n",
       "        -1.23210302e-01, -2.66785254e-01, -2.29818076e-01,\n",
       "         2.46167801e-01,  2.37011756e-02, -4.28795654e-02,\n",
       "         5.87547901e-01, -1.64752693e-01,  6.61633746e-02,\n",
       "         1.39790079e-02,  1.20215114e-01, -8.66914240e-02,\n",
       "         8.11248100e-02,  2.37244281e-01,  2.90623469e-02,\n",
       "         2.67219672e-01,  2.02025489e-01,  1.04472965e+00,\n",
       "        -5.83072798e-03,  1.63343098e-01,  8.37083798e-02,\n",
       "         2.24423782e-01, -6.94692265e-03,  5.90178947e-01,\n",
       "         1.66019941e-01,  8.33286895e-02, -7.19455484e-02,\n",
       "         4.27646577e-01]])"
      ]
     },
     "execution_count": 44,
     "metadata": {},
     "output_type": "execute_result"
    }
   ],
   "source": [
    "Wo"
   ]
  },
  {
   "cell_type": "code",
   "execution_count": 45,
   "metadata": {},
   "outputs": [],
   "source": [
    "e2 = numpy.zeros((20, 20, 20))\n",
    "e3 = numpy.random.rand(10, 10, 20)\n",
    "W3 = numpy.random.rand(20, 20, 20)\n",
    "for c in range(20):\n",
    "    e2[:, :, c] = scipy.sparse.kron(e3[:, :, c], numpy.ones((2, 2))) * W3[:, :, c]"
   ]
  },
  {
   "cell_type": "code",
   "execution_count": 46,
   "metadata": {},
   "outputs": [
    {
     "data": {
      "text/plain": [
       "(20, 20, 20)"
      ]
     },
     "execution_count": 46,
     "metadata": {},
     "output_type": "execute_result"
    }
   ],
   "source": [
    "e2.shape"
   ]
  },
  {
   "cell_type": "code",
   "execution_count": 49,
   "metadata": {},
   "outputs": [],
   "source": [
    "t = numpy.arange(20)"
   ]
  },
  {
   "cell_type": "code",
   "execution_count": 50,
   "metadata": {},
   "outputs": [
    {
     "data": {
      "text/plain": [
       "array([[[ 0,  1,  2,  3,  4],\n",
       "        [ 5,  6,  7,  8,  9]],\n",
       "\n",
       "       [[10, 11, 12, 13, 14],\n",
       "        [15, 16, 17, 18, 19]]])"
      ]
     },
     "execution_count": 50,
     "metadata": {},
     "output_type": "execute_result"
    }
   ],
   "source": [
    "s = t.reshape((2,2,5))\n",
    "s"
   ]
  },
  {
   "cell_type": "code",
   "execution_count": 51,
   "metadata": {},
   "outputs": [
    {
     "data": {
      "text/plain": [
       "array([[[ 0,  1],\n",
       "        [ 2,  3],\n",
       "        [ 4,  5],\n",
       "        [ 6,  7],\n",
       "        [ 8,  9]],\n",
       "\n",
       "       [[10, 11],\n",
       "        [12, 13],\n",
       "        [14, 15],\n",
       "        [16, 17],\n",
       "        [18, 19]]])"
      ]
     },
     "execution_count": 51,
     "metadata": {},
     "output_type": "execute_result"
    }
   ],
   "source": [
    "r = s.reshape((2,5,2))\n",
    "r"
   ]
  },
  {
   "cell_type": "code",
   "execution_count": null,
   "metadata": {},
   "outputs": [],
   "source": []
  }
 ],
 "metadata": {
  "kernelspec": {
   "display_name": "Python [conda root]",
   "language": "python",
   "name": "conda-root-py"
  },
  "language_info": {
   "codemirror_mode": {
    "name": "ipython",
    "version": 3
   },
   "file_extension": ".py",
   "mimetype": "text/x-python",
   "name": "python",
   "nbconvert_exporter": "python",
   "pygments_lexer": "ipython3",
   "version": "3.6.5"
  }
 },
 "nbformat": 4,
 "nbformat_minor": 2
}

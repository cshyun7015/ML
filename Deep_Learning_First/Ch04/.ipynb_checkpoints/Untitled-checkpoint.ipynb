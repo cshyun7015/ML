{
 "cells": [
  {
   "cell_type": "raw",
   "metadata": {},
   "source": [
    "# 4.4 Multi Class"
   ]
  },
  {
   "cell_type": "code",
   "execution_count": 48,
   "metadata": {},
   "outputs": [],
   "source": [
    "import numpy"
   ]
  },
  {
   "cell_type": "code",
   "execution_count": 49,
   "metadata": {},
   "outputs": [],
   "source": [
    "def Sigmoid(x):\n",
    "    return 1.0 / (1.0 + numpy.exp(-1 * numpy.array(x)))"
   ]
  },
  {
   "cell_type": "code",
   "execution_count": 50,
   "metadata": {},
   "outputs": [],
   "source": [
    "def Softmax(x):\n",
    "    ex = numpy.exp(numpy.array(x))\n",
    "    return ex / sum(ex)"
   ]
  },
  {
   "cell_type": "code",
   "execution_count": 51,
   "metadata": {},
   "outputs": [
    {
     "data": {
      "text/plain": [
       "array([0.09003057, 0.24472847, 0.66524096])"
      ]
     },
     "execution_count": 51,
     "metadata": {},
     "output_type": "execute_result"
    }
   ],
   "source": [
    "Softmax([-1, 0, 1])"
   ]
  },
  {
   "cell_type": "code",
   "execution_count": 53,
   "metadata": {},
   "outputs": [],
   "source": [
    "def MultiClass(W1, W2, X, D):\n",
    "    alpha = 0.9\n",
    "    N = 5\n",
    "    for k in range(N):\n",
    "        x = numpy.reshape(X[k], (25,1))\n",
    "        d = numpy.reshape(D[k], (5,1))\n",
    "        v1 = numpy.dot(W1, x)\n",
    "        y1 = Sigmoid(v1)\n",
    "        v = numpy.dot(W2, y1)\n",
    "        y = Softmax(v)\n",
    "        \n",
    "        e = d - y\n",
    "        delta = e\n",
    "        e1 = numpy.dot(W2.T, delta)\n",
    "        delta1 = y1*(1-y1)*e1\n",
    "        \n",
    "        dW1 = alpha*numpy.outer(delta1, numpy.transpose(x))\n",
    "        W1 = W1 + dW1\n",
    "        \n",
    "        dW2 = alpha*delta*numpy.transpose(y1)\n",
    "        W2 = W2 + dW2\n",
    "        \n",
    "    return W1, W2"
   ]
  },
  {
   "cell_type": "code",
   "execution_count": 65,
   "metadata": {},
   "outputs": [],
   "source": [
    "X = numpy.zeros((5, 5, 5))\n",
    "X[0] = [[0, 1, 1, 0, 0],\n",
    "        [0, 0, 1, 0, 0],\n",
    "        [0, 0, 1, 0, 0],\n",
    "        [0, 0, 1, 0, 0],\n",
    "        [0, 1, 1, 1, 0]]\n",
    "X[1] = [[1, 1, 1, 1, 0],\n",
    "        [0, 0, 0, 0, 1],\n",
    "        [0, 1, 1, 1, 0],\n",
    "        [1, 0, 0, 0, 0],\n",
    "        [1, 1, 1, 1, 1]]\n",
    "X[2] = [[1, 1, 1, 1, 0],\n",
    "        [0, 0, 0, 0, 1],\n",
    "        [0, 1, 1, 1, 0],\n",
    "        [0, 0, 0, 0, 1],\n",
    "        [1, 1, 1, 1, 0]]\n",
    "X[3] = [[0, 0, 0, 1, 0],\n",
    "        [0, 0, 1, 1, 0],\n",
    "        [0, 1, 0, 1, 0],\n",
    "        [1, 1, 1, 1, 1],\n",
    "        [0, 0, 0, 1, 0]]\n",
    "X[4] = [[1, 1, 1, 1, 1],\n",
    "        [1, 0, 0, 0, 0],\n",
    "        [1, 1, 1, 1, 0],\n",
    "        [0, 0, 0, 0, 1],\n",
    "        [1, 1, 1, 1, 0]]\n",
    "\n",
    "D = [[1, 0, 0, 0, 0],\n",
    "     [0, 1, 0, 0, 0],\n",
    "     [0, 0, 1, 0, 0],\n",
    "     [0, 0, 0, 1, 0],\n",
    "     [0, 0, 0, 0, 1]]"
   ]
  },
  {
   "cell_type": "code",
   "execution_count": 66,
   "metadata": {},
   "outputs": [],
   "source": [
    "W1 = 2*numpy.random.rand(50, 25)-1\n",
    "W2 = 2*numpy.random.rand(5, 50)-1"
   ]
  },
  {
   "cell_type": "code",
   "execution_count": 67,
   "metadata": {},
   "outputs": [],
   "source": [
    "for epoch in range(10000):\n",
    "    W1, W2 = MultiClass(W1, W2, X, D)"
   ]
  },
  {
   "cell_type": "code",
   "execution_count": 68,
   "metadata": {},
   "outputs": [],
   "source": [
    "y = numpy.zeros((5, 5))"
   ]
  },
  {
   "cell_type": "code",
   "execution_count": 69,
   "metadata": {},
   "outputs": [],
   "source": [
    "N = 5\n",
    "for k in range(N):\n",
    "    x = numpy.reshape(X[k], (25,1))\n",
    "    v1 = numpy.dot(W1, x)\n",
    "    y1 = Sigmoid(v1)\n",
    "    v = numpy.dot(W2, y1)\n",
    "    y[k] = numpy.reshape(numpy.round(Softmax(v), 3), (5))"
   ]
  },
  {
   "cell_type": "code",
   "execution_count": 70,
   "metadata": {},
   "outputs": [
    {
     "data": {
      "text/plain": [
       "array([[1., 0., 0., 0., 0.],\n",
       "       [0., 1., 0., 0., 0.],\n",
       "       [0., 0., 1., 0., 0.],\n",
       "       [0., 0., 0., 1., 0.],\n",
       "       [0., 0., 0., 0., 1.]])"
      ]
     },
     "execution_count": 70,
     "metadata": {},
     "output_type": "execute_result"
    }
   ],
   "source": [
    "y"
   ]
  },
  {
   "cell_type": "code",
   "execution_count": 64,
   "metadata": {},
   "outputs": [
    {
     "data": {
      "text/plain": [
       "array([[0.017, 0.002, 0.   , 0.975, 0.006],\n",
       "       [0.   , 0.979, 0.02 , 0.   , 0.   ],\n",
       "       [0.   , 0.026, 0.974, 0.   , 0.   ],\n",
       "       [0.193, 0.507, 0.164, 0.035, 0.101],\n",
       "       [0.026, 0.012, 0.01 , 0.002, 0.95 ]])"
      ]
     },
     "execution_count": 64,
     "metadata": {},
     "output_type": "execute_result"
    }
   ],
   "source": [
    "T = numpy.zeros((5, 5, 5))\n",
    "T[0] = [[0, 0, 1, 1, 0],\n",
    "        [0, 0, 1, 1, 0],\n",
    "        [0, 1, 0, 1, 0],\n",
    "        [0, 0, 0, 1, 0],\n",
    "        [0, 1, 1, 1, 0]]\n",
    "T[1] = [[1, 1, 1, 1, 0],\n",
    "        [0, 0, 0, 0, 1],\n",
    "        [0, 1, 1, 1, 0],\n",
    "        [1, 0, 0, 0, 1],\n",
    "        [1, 1, 1, 1, 1]]\n",
    "T[2] = [[1, 1, 1, 1, 0],\n",
    "        [0, 0, 0, 0, 1],\n",
    "        [0, 1, 1, 1, 0],\n",
    "        [1, 0, 0, 0, 1],\n",
    "        [1, 1, 1, 1, 0]]\n",
    "T[3] = [[0, 1, 1, 1, 0],\n",
    "        [0, 1, 0, 0, 0],\n",
    "        [0, 1, 1, 1, 0],\n",
    "        [0, 0, 0, 1, 0],\n",
    "        [0, 1, 1, 1, 0]]\n",
    "T[4] = [[0, 1, 1, 1, 1],\n",
    "        [0, 1, 0, 0, 0],\n",
    "        [0, 1, 1, 1, 0],\n",
    "        [0, 0, 0, 1, 0],\n",
    "        [1, 1, 1, 1, 0]]\n",
    "\n",
    "y = numpy.zeros((5, 5))\n",
    "\n",
    "N = 5\n",
    "for k in range(N):\n",
    "    x = numpy.reshape(T[k], (25,1))\n",
    "    v1 = numpy.dot(W1, x)\n",
    "    y1 = Sigmoid(v1)\n",
    "    v = numpy.dot(W2, y1)\n",
    "    y[k] = numpy.reshape(numpy.round(Softmax(v), 3), (5))\n",
    "\n",
    "y"
   ]
  },
  {
   "cell_type": "code",
   "execution_count": null,
   "metadata": {},
   "outputs": [],
   "source": []
  }
 ],
 "metadata": {
  "kernelspec": {
   "display_name": "Python [conda root]",
   "language": "python",
   "name": "conda-root-py"
  },
  "language_info": {
   "codemirror_mode": {
    "name": "ipython",
    "version": 3
   },
   "file_extension": ".py",
   "mimetype": "text/x-python",
   "name": "python",
   "nbconvert_exporter": "python",
   "pygments_lexer": "ipython3",
   "version": "3.6.5"
  }
 },
 "nbformat": 4,
 "nbformat_minor": 2
}

{
 "cells": [
  {
   "cell_type": "raw",
   "metadata": {},
   "source": [
    "# 3.3.1 XOR"
   ]
  },
  {
   "cell_type": "code",
   "execution_count": 2,
   "metadata": {},
   "outputs": [],
   "source": [
    "import numpy"
   ]
  },
  {
   "cell_type": "code",
   "execution_count": 8,
   "metadata": {},
   "outputs": [],
   "source": [
    "def Sigmoid(x):\n",
    "    return 1.0 / (1.0 + numpy.exp(-1 * numpy.array(x)))"
   ]
  },
  {
   "cell_type": "code",
   "execution_count": 10,
   "metadata": {},
   "outputs": [
    {
     "data": {
      "text/plain": [
       "array([0.26894142, 0.5       , 0.73105858])"
      ]
     },
     "execution_count": 10,
     "metadata": {},
     "output_type": "execute_result"
    }
   ],
   "source": [
    "Sigmoid([-1, 0, 1])"
   ]
  },
  {
   "cell_type": "code",
   "execution_count": 35,
   "metadata": {},
   "outputs": [],
   "source": [
    "def BackpropXOR(W1, W2, X, D):\n",
    "    alpha = 0.9\n",
    "    N = 4\n",
    "    for k in range(N):\n",
    "        x = X[k]\n",
    "        d = D[k]\n",
    "        v1 = numpy.dot(W1, x)\n",
    "        y1 = Sigmoid(v1)\n",
    "        v = numpy.dot(W2, y1)\n",
    "        y = Sigmoid(v)\n",
    "        \n",
    "        e = d - y\n",
    "        delta = y*(1-y)*e\n",
    "        e1 = numpy.dot(W2.T, delta)\n",
    "        delta1 = y1*(1-y1)*e1\n",
    "        \n",
    "        dW1 = alpha*numpy.outer(delta1, numpy.transpose(x))\n",
    "        W1 = W1 + dW1\n",
    "        \n",
    "        dW2 = alpha*delta*numpy.transpose(y1)\n",
    "        W2 = W2 + dW2\n",
    "        \n",
    "    return W1, W2"
   ]
  },
  {
   "cell_type": "code",
   "execution_count": 36,
   "metadata": {},
   "outputs": [],
   "source": [
    "X = numpy.array([[0, 0, 1], [0, 1, 1], [1, 0, 1], [1, 1, 1]])\n",
    "D = numpy.array([0, 1, 1, 0])"
   ]
  },
  {
   "cell_type": "code",
   "execution_count": 37,
   "metadata": {},
   "outputs": [],
   "source": [
    "W1 = 2*numpy.random.rand(4, 3)-1\n",
    "W2 = 2*numpy.random.rand(1, 4)-1"
   ]
  },
  {
   "cell_type": "code",
   "execution_count": 38,
   "metadata": {},
   "outputs": [],
   "source": [
    "for epoch in range(10000):\n",
    "    W1, W2 = BackpropXOR(W1, W2, X, D)"
   ]
  },
  {
   "cell_type": "code",
   "execution_count": 42,
   "metadata": {},
   "outputs": [],
   "source": [
    "y = numpy.zeros((4))"
   ]
  },
  {
   "cell_type": "code",
   "execution_count": 43,
   "metadata": {},
   "outputs": [],
   "source": [
    "N = 4\n",
    "for k in range(N):\n",
    "    x = X[k]\n",
    "    v1 = numpy.dot(W1, x)\n",
    "    y1 = Sigmoid(v1)\n",
    "    v = numpy.dot(W2, y1)\n",
    "    y[k] = Sigmoid(v)"
   ]
  },
  {
   "cell_type": "code",
   "execution_count": 44,
   "metadata": {},
   "outputs": [
    {
     "data": {
      "text/plain": [
       "array([0.00976323, 0.98524383, 0.98899358, 0.01333878])"
      ]
     },
     "execution_count": 44,
     "metadata": {},
     "output_type": "execute_result"
    }
   ],
   "source": [
    "y"
   ]
  },
  {
   "cell_type": "raw",
   "metadata": {},
   "source": [
    "# 3.3.2 Momentum"
   ]
  },
  {
   "cell_type": "code",
   "execution_count": 46,
   "metadata": {},
   "outputs": [],
   "source": [
    "def BackpropMnt(W1, W2, X, D):\n",
    "    alpha = 0.9\n",
    "    beta = 0.9\n",
    "    \n",
    "    mnt1 = numpy.zeros(W1.shape)\n",
    "    mnt2 = numpy.zeros(W2.shape)\n",
    "    \n",
    "    N = 4\n",
    "    for k in range(N):\n",
    "        x = X[k]\n",
    "        d = D[k]\n",
    "        v1 = numpy.dot(W1, x)\n",
    "        y1 = Sigmoid(v1)\n",
    "        v = numpy.dot(W2, y1)\n",
    "        y = Sigmoid(v)\n",
    "        \n",
    "        e = d - y\n",
    "        delta = y*(1-y)*e\n",
    "        e1 = numpy.dot(W2.T, delta)\n",
    "        delta1 = y1*(1-y1)*e1\n",
    "        \n",
    "        dW1 = alpha*numpy.outer(delta1, numpy.transpose(x))\n",
    "        mnt1 = dW1 + beta*mnt1\n",
    "        W1 = W1 + mnt1\n",
    "        \n",
    "        dW2 = alpha*delta*numpy.transpose(y1)\n",
    "        mnt2 = dW2 + beta*mnt2\n",
    "        W2 = W2 + mnt2\n",
    "        \n",
    "    return W1, W2"
   ]
  },
  {
   "cell_type": "code",
   "execution_count": 47,
   "metadata": {},
   "outputs": [
    {
     "data": {
      "text/plain": [
       "array([0.00418186, 0.99353712, 0.9925918 , 0.01202465])"
      ]
     },
     "execution_count": 47,
     "metadata": {},
     "output_type": "execute_result"
    }
   ],
   "source": [
    "X = numpy.array([[0, 0, 1], [0, 1, 1], [1, 0, 1], [1, 1, 1]])\n",
    "D = numpy.array([0, 1, 1, 0])\n",
    "\n",
    "W1 = 2*numpy.random.rand(4, 3)-1\n",
    "W2 = 2*numpy.random.rand(1, 4)-1\n",
    "\n",
    "for epoch in range(10000):\n",
    "    W1, W2 = BackpropMnt(W1, W2, X, D)\n",
    "    \n",
    "y = numpy.zeros((4))\n",
    "\n",
    "N = 4\n",
    "for k in range(N):\n",
    "    x = X[k]\n",
    "    v1 = numpy.dot(W1, x)\n",
    "    y1 = Sigmoid(v1)\n",
    "    v = numpy.dot(W2, y1)\n",
    "    y[k] = Sigmoid(v)\n",
    "    \n",
    "y"
   ]
  },
  {
   "cell_type": "raw",
   "metadata": {},
   "source": [
    "# 3.5.1 Cross Entropy"
   ]
  },
  {
   "cell_type": "code",
   "execution_count": 49,
   "metadata": {},
   "outputs": [],
   "source": [
    "def BackpropCE(W1, W2, X, D):\n",
    "    alpha = 0.9\n",
    "    \n",
    "    N = 4\n",
    "    for k in range(N):\n",
    "        x = X[k]\n",
    "        d = D[k]\n",
    "        v1 = numpy.dot(W1, x)\n",
    "        y1 = Sigmoid(v1)\n",
    "        v = numpy.dot(W2, y1)\n",
    "        y = Sigmoid(v)\n",
    "        \n",
    "        e = d - y\n",
    "        delta = e\n",
    "        e1 = numpy.dot(W2.T, delta)\n",
    "        delta1 = y1*(1-y1)*e1\n",
    "        \n",
    "        dW1 = alpha*numpy.outer(delta1, numpy.transpose(x))\n",
    "        W1 = W1 + dW1\n",
    "        \n",
    "        dW2 = alpha*delta*numpy.transpose(y1)\n",
    "        W2 = W2 + dW2\n",
    "        \n",
    "    return W1, W2"
   ]
  },
  {
   "cell_type": "code",
   "execution_count": 50,
   "metadata": {},
   "outputs": [
    {
     "data": {
      "text/plain": [
       "array([8.38316273e-05, 9.99805274e-01, 9.99919974e-01, 1.22826553e-04])"
      ]
     },
     "execution_count": 50,
     "metadata": {},
     "output_type": "execute_result"
    }
   ],
   "source": [
    "X = numpy.array([[0, 0, 1], [0, 1, 1], [1, 0, 1], [1, 1, 1]])\n",
    "D = numpy.array([0, 1, 1, 0])\n",
    "\n",
    "W1 = 2*numpy.random.rand(4, 3)-1\n",
    "W2 = 2*numpy.random.rand(1, 4)-1\n",
    "\n",
    "for epoch in range(10000):\n",
    "    W1, W2 = BackpropCE(W1, W2, X, D)\n",
    "    \n",
    "y = numpy.zeros((4))\n",
    "\n",
    "N = 4\n",
    "for k in range(N):\n",
    "    x = X[k]\n",
    "    v1 = numpy.dot(W1, x)\n",
    "    y1 = Sigmoid(v1)\n",
    "    v = numpy.dot(W2, y1)\n",
    "    y[k] = Sigmoid(v)\n",
    "    \n",
    "y"
   ]
  },
  {
   "cell_type": "raw",
   "metadata": {},
   "source": [
    "# 3.5.2 Cost Function"
   ]
  },
  {
   "cell_type": "code",
   "execution_count": 52,
   "metadata": {},
   "outputs": [],
   "source": [
    "X = numpy.array([[0, 0, 1], [0, 1, 1], [1, 0, 1], [1, 1, 1]])\n",
    "D = numpy.array([0, 1, 1, 0])\n",
    "\n",
    "E1 = numpy.zeros((1000))\n",
    "E2 = numpy.zeros((1000))\n",
    "\n",
    "W11 = 2*numpy.random.rand(4, 3)-1\n",
    "W12 = 2*numpy.random.rand(1, 4)-1\n",
    "W21 = W11\n",
    "W22 = W12"
   ]
  },
  {
   "cell_type": "code",
   "execution_count": 53,
   "metadata": {},
   "outputs": [],
   "source": [
    "for epoch in range(1000):\n",
    "    W11, W12 = BackpropCE(W11, W12, X, D)\n",
    "    W21, W22 = BackpropXOR(W21, W22, X, D)\n",
    "    \n",
    "    es1 = 0.0\n",
    "    es2 = 0.0\n",
    "    N = 4\n",
    "    \n",
    "    for k in range(4):\n",
    "        x = X[k]\n",
    "        d = D[k]\n",
    "        \n",
    "        v1 = numpy.dot(W11, x)\n",
    "        y1 = Sigmoid(v1)\n",
    "        v = numpy.dot(W12, y1)\n",
    "        y = Sigmoid(v)\n",
    "        es1 = es1 + numpy.power((d-y), 2)\n",
    "        \n",
    "        v2 = numpy.dot(W21, x)\n",
    "        y2 = Sigmoid(v2)\n",
    "        v = numpy.dot(W22, y2)\n",
    "        y = Sigmoid(v)\n",
    "        es2 = es2 + numpy.power((d-y), 2)\n",
    "        \n",
    "    E1[epoch] = es1 / N\n",
    "    E2[epoch] = es2 / N"
   ]
  },
  {
   "cell_type": "code",
   "execution_count": 54,
   "metadata": {},
   "outputs": [
    {
     "data": {
      "image/png": "[encoded data removed]",
      "text/plain": [
       "<Figure size 432x288 with 1 Axes>"
      ]
     },
     "metadata": {},
     "output_type": "display_data"
    }
   ],
   "source": [
    "from matplotlib import pyplot as plt\n",
    "%matplotlib inline\n",
    "\n",
    "plt.plot(range(1000), E1, 'r-', label='Cross Entropy')\n",
    "plt.plot(range(1000), E2, 'g-.', label='Sum of Squared Error')\n",
    "plt.xlabel(\"Epoch\")\n",
    "plt.ylabel(\"Average of Training error\")\n",
    "plt.legend()\n",
    "plt.show()"
   ]
  },
  {
   "cell_type": "code",
   "execution_count": null,
   "metadata": {},
   "outputs": [],
   "source": []
  }
 ],
 "metadata": {
  "kernelspec": {
   "display_name": "Python [conda root]",
   "language": "python",
   "name": "conda-root-py"
  },
  "language_info": {
   "codemirror_mode": {
    "name": "ipython",
    "version": 3
   },
   "file_extension": ".py",
   "mimetype": "text/x-python",
   "name": "python",
   "nbconvert_exporter": "python",
   "pygments_lexer": "ipython3",
   "version": "3.6.5"
  }
 },
 "nbformat": 4,
 "nbformat_minor": 2
}
